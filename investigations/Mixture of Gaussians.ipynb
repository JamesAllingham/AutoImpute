{
 "cells": [
  {
   "cell_type": "markdown",
   "metadata": {},
   "source": [
    "# Imputation using a Mixture of Gaussians and the EM algorithm"
   ]
  },
  {
   "cell_type": "code",
   "execution_count": null,
   "metadata": {
    "collapsed": true
   },
   "outputs": [],
   "source": [
    "import numpy as np\n",
    "np.random.seed(42)\n",
    "import pandas as pd\n",
    "from sklearn.datasets import load_boston\n",
    "from scipy import stats\n",
    "from scipy import linalg\n",
    "from sklearn.cluster import KMeans"
   ]
  },
  {
   "cell_type": "code",
   "execution_count": null,
   "metadata": {
    "collapsed": true
   },
   "outputs": [],
   "source": [
    "X = np.genfromtxt(\"../data/boston-50-MCAR.csv\", delimiter=\",\")"
   ]
  },
  {
   "cell_type": "code",
   "execution_count": null,
   "metadata": {
    "scrolled": true
   },
   "outputs": [],
   "source": [
    "pd.DataFrame(X)"
   ]
  },
  {
   "cell_type": "code",
   "execution_count": null,
   "metadata": {
    "collapsed": true,
    "scrolled": true
   },
   "outputs": [],
   "source": [
    "masked_X = X.copy()"
   ]
  },
  {
   "cell_type": "code",
   "execution_count": null,
   "metadata": {
    "collapsed": true
   },
   "outputs": [],
   "source": [
    "mean = np.nanmean(masked_X, axis=0)\n",
    "std = np.nanstd(masked_X, axis=0)\n",
    "scaled_X = (masked_X - mean)/std"
   ]
  },
  {
   "cell_type": "markdown",
   "metadata": {},
   "source": [
    "## now create a bunch of gaussians for the mixture model"
   ]
  },
  {
   "cell_type": "code",
   "execution_count": null,
   "metadata": {
    "collapsed": true
   },
   "outputs": [],
   "source": [
    "num_gaussians = 3\n",
    "num_features = X.shape[1]\n",
    "num_examples = X.shape[0]\n",
    "# μs = np.random.rand(num_gaussians, num_features)\n",
    "# Σs = np.stack([np.identity(num_features) for _ in range(num_gaussians)], axis=0)\n",
    "indices = np.stack([np.random.choice(num_examples, int(num_examples/2)) for _ in range(num_gaussians)], axis = 0)\n",
    "μs = np.stack([np.nanmean(X[idx, :], axis=0) for idx in indices], axis=0)\n",
    "Σs = np.stack(\n",
    "    [np.nanmean(\n",
    "        [np.outer(X[i,:] - μ, X[i,:] - μ) for i in idx], axis=0) for μ, idx in zip(μs, indices)]\n",
    "    , axis=0)"
   ]
  },
  {
   "cell_type": "code",
   "execution_count": null,
   "metadata": {
    "collapsed": true
   },
   "outputs": [],
   "source": [
    "# # use k-means to come up with the initial means and varainces\n",
    "# μs = np.zeros(shape=(num_gaussians, num_features))\n",
    "# Σs = np.zeros(shape=(num_gaussians, num_features, num_features))\n",
    "# mean_imputed_X = scaled_X\n",
    "# mean_imputed_X[np.isnan(mean_imputed_X)] = np.nanmean(scaled_X, axis=0)[np.where(np.isnan(mean_imputed_X))[1]]\n",
    "# mean_imputed_X += np.random.random(mean_imputed_X.shape)*0.01\n",
    "# kmeans = KMeans(n_clusters=num_gaussians, random_state=0).fit(mean_imputed_X)\n",
    "# for j in range(num_gaussians):\n",
    "#     locs = np.where(kmeans.labels_ == j)[0]\n",
    "#     μs[j,:] = np.mean(mean_imputed_X[locs,:], axis=0)\n",
    "#     diff = mean_imputed_X[locs,:] - μs[j,:]\n",
    "#     Σs[j,:,:] = (diff.T @ diff)/diff.shape[0] "
   ]
  },
  {
   "cell_type": "code",
   "execution_count": null,
   "metadata": {
    "collapsed": true
   },
   "outputs": [],
   "source": [
    "def gmm_ll(imputed_X, μs, Σs, ps):\n",
    "    ll = 0\n",
    "    for i in range(imputed_X.shape[0]):\n",
    "        tmp = 0\n",
    "        for j in range(μs.shape[0]):\n",
    "            tmp += ps[i,j] * stats.multivariate_normal.pdf(imputed_X[i,:], mean=μs[j,:], cov=Σs[j,:,:], allow_singular=True)\n",
    "        ll += np.log(tmp)\n",
    "    return ll"
   ]
  },
  {
   "cell_type": "code",
   "execution_count": null,
   "metadata": {
    "collapsed": true
   },
   "outputs": [],
   "source": [
    "def gmm_impute(scaled_X, μs, Σs, ps):\n",
    "    Xs = np.stack([scaled_X]*num_gaussians, axis=0)\n",
    "\n",
    "    for i in range(X.shape[0]):\n",
    "        x_row = scaled_X[i,:]\n",
    "\n",
    "        if np.all(~np.isnan(x_row)): continue\n",
    "\n",
    "        o_locs = np.where(~np.isnan(x_row))[0]\n",
    "        m_locs = np.where(np.isnan(x_row))[0]\n",
    "        oo_coords = tuple(zip(*[(i, j) for i in o_locs for j in o_locs]))\n",
    "        mo_coords = tuple(zip(*[(i, j) for i in m_locs for j in o_locs]))\n",
    "\n",
    "        for j in range(μs.shape[0]):\n",
    "            diff = x_row[o_locs] - μs[j,o_locs]\n",
    "            \n",
    "            Xs[j,i,m_locs] = μs[j,m_locs]\n",
    "            \n",
    "            if (len(o_locs)):\n",
    "                Σoo = Σs[j, :, :][oo_coords].reshape(len(o_locs),len(o_locs))\n",
    "                Σmo = Σs[j, :, :][mo_coords].reshape(len(m_locs),len(o_locs))\n",
    "\n",
    "                Xs[j,i,m_locs] += Σmo @ linalg.inv(Σoo) @ diff\n",
    "            \n",
    "    imputed_X = np.zeros_like(scaled_X)\n",
    "    for j in range(μs.shape[0]):\n",
    "        for i in range(X.shape[0]):\n",
    "            imputed_X[i,:] += ps[i,j]*Xs[j,i,:]\n",
    "            \n",
    "    return Xs, imputed_X"
   ]
  },
  {
   "cell_type": "code",
   "execution_count": null,
   "metadata": {},
   "outputs": [],
   "source": [
    "prev_LL = -np.inf\n",
    "for _ in range(100):\n",
    "    # E-step\n",
    "    qs = np.zeros(shape=(num_examples,num_gaussians))\n",
    "    for i in range(num_examples):\n",
    "        x_row = scaled_X[i,:]\n",
    "        o_locs = np.where(~np.isnan(x_row))[0]\n",
    "        oo_coords = tuple(zip(*[(i, j) for i in o_locs for j in o_locs]))\n",
    "\n",
    "        x = x_row[o_locs]\n",
    "        sz = len(x)\n",
    "\n",
    "        for j in range(num_gaussians):\n",
    "            if (len(o_locs)):\n",
    "                Σoo = Σs[j, :, :][oo_coords].reshape(sz,sz)\n",
    "                μo = μs[j, o_locs]\n",
    "\n",
    "#             qs[i,j] = 1/np.sqrt(np.power(2*np.pi,sz)*linalg.det(Σoo))\\\n",
    "#                     *np.exp(-0.5 * (x - μo).T @ linalg.inv(Σoo) @ (x - μo))\n",
    "                qs[i,j] = stats.multivariate_normal.pdf(x, mean=μo, cov=Σoo, allow_singular=True)\n",
    "            else:\n",
    "                qs[i,j] = np.random.rand(1)\n",
    "\n",
    "    ps = qs/np.sum(qs, axis=1, keepdims=True)\n",
    "\n",
    "    # M-step\n",
    "    # first fill in the missing values with each gaussian\n",
    "    Xs, _ = gmm_impute(scaled_X, μs, Σs, ps)  \n",
    "    \n",
    "    # save the current estimates for the params incase the LL gets worse\n",
    "    μs_best, Σs_best = μs.copy(), Σs.copy()\n",
    "    \n",
    "    # now recompute μs\n",
    "    for j in range(num_gaussians):\n",
    "        p = ps[:,j]\n",
    "        μs[j] = (p @ Xs[j])/np.sum(p)\n",
    "\n",
    "    # and now Σs\n",
    "    for j in range(num_gaussians):\n",
    "\n",
    "        p = ps[:,j]\n",
    "\n",
    "        # calc C\n",
    "        C = np.zeros(shape=(num_features, num_features))\n",
    "        for i in range(num_examples):\n",
    "            x_row = scaled_X[i,:]\n",
    "\n",
    "            if np.all(~np.isnan(x_row)): continue\n",
    "\n",
    "            o_locs = np.where(~np.isnan(x_row))[0]\n",
    "            m_locs = np.where(np.isnan(x_row))[0]\n",
    "            oo_coords = tuple(zip(*[(i, j) for i in o_locs for j in o_locs]))\n",
    "            mo_coords = tuple(zip(*[(i, j) for i in m_locs for j in o_locs]))\n",
    "            mm_coords = tuple(zip(*[(i, j) for i in m_locs for j in m_locs]))\n",
    "\n",
    "            Σmm = Σs[j, :, :][mm_coords].reshape(len(m_locs),len(m_locs))\n",
    "\n",
    "            tmp = Σmm\n",
    "            if (len(o_locs)):\n",
    "                Σoo = Σs[j, :, :][oo_coords].reshape(len(o_locs),len(o_locs))\n",
    "                Σmo = Σs[j, :, :][mo_coords].reshape(len(m_locs),len(o_locs))\n",
    "                tmp -= Σmo @ linalg.inv(Σoo) @ Σmo.T\n",
    "                \n",
    "            tmp = p[i]/np.sum(p)*tmp\n",
    "            C[mm_coords] += tmp.reshape(len(m_locs)**2)\n",
    "            \n",
    "\n",
    "        Σs[j] = np.zeros_like(C)\n",
    "        for i in range(num_examples):\n",
    "            diff = Xs[j,i,:] - μs[j]\n",
    "            Σs[j] += np.outer(diff, diff.T)*p[i]\n",
    "\n",
    "        Σs[j] /= np.sum(p)\n",
    "        Σs[j] += C\n",
    "        # regularisation term ensuring that the cov matrix is always pos def\n",
    "        Σs[j] += np.diag(np.ones(shape=(num_features,))*1e-3)\n",
    "       \n",
    "    _, imputed_X = gmm_impute(scaled_X, μs, Σs, ps)\n",
    "    LL = gmm_ll(imputed_X, μs, Σs, ps)\n",
    "    if (LL < prev_LL or LL - prev_LL < 1e-3):\n",
    "        μs, Σs = μs_best, Σs_best\n",
    "        break\n",
    "        \n",
    "#     print(\"RMSE: %s\" % np.sqrt(np.mean(np.power(imputed_X*std + mean - X,2))))\n",
    "    print(\"LL: %s\" % LL)\n",
    "    \n",
    "    prev_LL = LL"
   ]
  },
  {
   "cell_type": "code",
   "execution_count": null,
   "metadata": {
    "collapsed": true
   },
   "outputs": [],
   "source": [
    "(np.array([0.1,0.2,0.5]) @ np.array([[1,2,3],[4,5,6],[7,8,9]]))/np.sum([0.1,0.2,0.5])"
   ]
  },
  {
   "cell_type": "code",
   "execution_count": null,
   "metadata": {
    "collapsed": true
   },
   "outputs": [],
   "source": [
    "np.sum(np.array([[0.1, 0.2, 0.5][i] * np.array([[1],[4],[7]])[i,:] for i in range(3)]), axis=0)/np.sum([0.1,0.2,0.5])"
   ]
  },
  {
   "cell_type": "code",
   "execution_count": null,
   "metadata": {
    "collapsed": true
   },
   "outputs": [],
   "source": [
    "display(qs)"
   ]
  },
  {
   "cell_type": "code",
   "execution_count": null,
   "metadata": {
    "collapsed": true
   },
   "outputs": [],
   "source": [
    "tq = np.array([[1,2,3],[4,5,6],[7,8,9],[10,11,12],[0,0,0]])\n",
    "display(tq)"
   ]
  },
  {
   "cell_type": "code",
   "execution_count": null,
   "metadata": {
    "collapsed": true
   },
   "outputs": [],
   "source": [
    "tq/np.sum(tq, axis=1, keepdims=True)"
   ]
  },
  {
   "cell_type": "code",
   "execution_count": null,
   "metadata": {
    "collapsed": true
   },
   "outputs": [],
   "source": [
    "np.array([[tq[i,j]/np.sum(tq[i,:]) for j in range(3)] for i in range(5)])"
   ]
  },
  {
   "cell_type": "code",
   "execution_count": null,
   "metadata": {
    "collapsed": true
   },
   "outputs": [],
   "source": [
    "np.random.random(4)"
   ]
  },
  {
   "cell_type": "code",
   "execution_count": null,
   "metadata": {
    "collapsed": true
   },
   "outputs": [],
   "source": []
  }
 ],
 "metadata": {
  "kernelspec": {
   "display_name": "Python 3",
   "language": "python",
   "name": "python3"
  },
  "language_info": {
   "codemirror_mode": {
    "name": "ipython",
    "version": 3
   },
   "file_extension": ".py",
   "mimetype": "text/x-python",
   "name": "python",
   "nbconvert_exporter": "python",
   "pygments_lexer": "ipython3",
   "version": "3.5.2"
  }
 },
 "nbformat": 4,
 "nbformat_minor": 2
}
