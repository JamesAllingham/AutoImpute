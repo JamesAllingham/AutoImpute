{
 "cells": [
  {
   "cell_type": "markdown",
   "metadata": {},
   "source": [
    "# Simple Imputation\n",
    "\n",
    "Investigation of principled imputation for very simple cases i.e. under the assumption that the observations are Gaussian and that the data is MAR/ MCAR"
   ]
  },
  {
   "cell_type": "code",
   "execution_count": null,
   "metadata": {},
   "outputs": [],
   "source": [
    "import numpy as np\n",
    "np.random.seed(42)\n",
    "import pandas as pd\n",
    "from sklearn.datasets import load_boston\n",
    "from scipy import stats\n",
    "from scipy import linalg"
   ]
  },
  {
   "cell_type": "markdown",
   "metadata": {},
   "source": [
    "Load the data:"
   ]
  },
  {
   "cell_type": "code",
   "execution_count": null,
   "metadata": {},
   "outputs": [],
   "source": [
    "TrueX, _ = load_boston(return_X_y=True)"
   ]
  },
  {
   "cell_type": "code",
   "execution_count": null,
   "metadata": {},
   "outputs": [],
   "source": [
    "X = np.genfromtxt(\"../data/boston-10-MCAR.csv\", delimiter=\",\")"
   ]
  },
  {
   "cell_type": "code",
   "execution_count": null,
   "metadata": {
    "scrolled": true
   },
   "outputs": [],
   "source": [
    "pd.DataFrame(X)"
   ]
  },
  {
   "cell_type": "code",
   "execution_count": null,
   "metadata": {
    "collapsed": true
   },
   "outputs": [],
   "source": [
    "mean = np.nanmean(X, axis=0)\n",
    "std = np.nanstd(X, axis=0)\n",
    "scaled_X = (X - mean)/std"
   ]
  },
  {
   "cell_type": "markdown",
   "metadata": {},
   "source": [
    "## Most simple approach possible (without loosing data) - Mean Imputation"
   ]
  },
  {
   "cell_type": "code",
   "execution_count": null,
   "metadata": {
    "scrolled": true
   },
   "outputs": [],
   "source": [
    "mean_imputed_X = X.copy()\n",
    "mean_imputed_X[np.isnan(mean_imputed_X)] = np.nanmean(X, axis=0)[np.where(np.isnan(mean_imputed_X))[1]]\n",
    "\n",
    "pd.DataFrame(mean_imputed_X)"
   ]
  },
  {
   "cell_type": "code",
   "execution_count": null,
   "metadata": {},
   "outputs": [],
   "source": [
    "np.sqrt(np.mean(np.power(mean_imputed_X-TrueX,2)))"
   ]
  },
  {
   "cell_type": "markdown",
   "metadata": {},
   "source": [
    "## Now lets try using a multivariate gaussian with ML esimtation"
   ]
  },
  {
   "cell_type": "code",
   "execution_count": null,
   "metadata": {
    "collapsed": true
   },
   "outputs": [],
   "source": [
    "def g_ll(input_X, μ, Σ):\n",
    "    ll = 0\n",
    "    for i in range(input_X.shape[0]):\n",
    "        ll += stats.multivariate_normal.pdf(input_X[i,:], mean=μ, cov=Σ)\n",
    "    return np.log(ll)"
   ]
  },
  {
   "cell_type": "code",
   "execution_count": null,
   "metadata": {},
   "outputs": [],
   "source": [
    "μML = np.nanmean(X, axis = 0)\n",
    "μML"
   ]
  },
  {
   "cell_type": "code",
   "execution_count": null,
   "metadata": {},
   "outputs": [],
   "source": [
    "N_max = X.shape[0]\n",
    "ΣML = np.zeros((X.shape[1], X.shape[1]))\n",
    "# to keep track of how often the xi combinations have been seen together\n",
    "counts = np.zeros((X.shape[1], X.shape[1]))\n",
    "ΣML = np.zeros((X.shape[1], X.shape[1]))\n",
    "\n",
    "for i in range(X.shape[0]):\n",
    "    X_row = X[i,:]\n",
    "    # figure out which values are missing\n",
    "    valid_locs = np.where(~np.isnan(X_row))[0]\n",
    "    coords = tuple(zip(*[(i, j) for i in valid_locs for j in valid_locs]))\n",
    "    \n",
    "    # update the counts\n",
    "    counts[coords] += 1\n",
    "    \n",
    "    # get the x vals and the means\n",
    "    μ = μML[valid_locs]\n",
    "    x = X_row[valid_locs]\n",
    "    \n",
    "    # calc the variance\n",
    "    diff = x - μ\n",
    "    Σ = np.outer(diff, diff.T)\n",
    "    \n",
    "    # update variance \n",
    "    size = len(valid_locs)\n",
    "    rescale = np.multiply((counts[coords] - 1), ΣML[coords]).reshape(size, size)\n",
    "    add = (Σ + rescale)\n",
    "    ΣML[coords] = (add/(counts[coords].reshape(size, size))).reshape(size*size) # do we need the -1? makes performance worse also seems to make the cov matrix not pos def\n",
    "ΣML += np.eye(X.shape[1])*1e-3"
   ]
  },
  {
   "cell_type": "code",
   "execution_count": null,
   "metadata": {},
   "outputs": [],
   "source": [
    "pd.DataFrame(ΣML)"
   ]
  },
  {
   "cell_type": "code",
   "execution_count": null,
   "metadata": {},
   "outputs": [],
   "source": [
    "# check that the covariance matrix is +ve def\n",
    "np.all(linalg.eigvals(ΣML) > 0)"
   ]
  },
  {
   "cell_type": "code",
   "execution_count": null,
   "metadata": {},
   "outputs": [],
   "source": [
    "# impute by taking the mean of the conditional distro\n",
    "def impute(input_X, μ, Σ):\n",
    "    imputed_X = input_X.copy()\n",
    "    for i in range(imputed_X.shape[0]):\n",
    "        X_row = imputed_X[i,:]\n",
    "        # if there are no missing values then go to next iter\n",
    "        if np.all(~np.isnan(X_row)): continue\n",
    "\n",
    "     # figure out which values are missing\n",
    "        o_locs = np.where(~np.isnan(X_row))[0]\n",
    "        m_locs = np.where(np.isnan(X_row))[0]\n",
    "        oo_coords = tuple(zip(*[(i, j) for i in o_locs for j in o_locs]))\n",
    "        mo_coords = tuple(zip(*[(i, j) for i in m_locs for j in o_locs]))\n",
    "\n",
    "        # calculate the mean of m|o\n",
    "        μmo = μ[m_locs] \n",
    "        if (len(o_locs)): # if there are any observations\n",
    "            # get the subsets of the precision matrices\n",
    "            Σoo = Σ[oo_coords].reshape(len(o_locs),len(o_locs))\n",
    "            Σmo = Σ[mo_coords].reshape(len(m_locs),len(o_locs))\n",
    "            μmo += Σmo @ linalg.inv(Σoo) @ (X_row[o_locs] - μ[o_locs])\n",
    "\n",
    "        imputed_X[i,:][m_locs] = μmo\n",
    "        \n",
    "    return imputed_X"
   ]
  },
  {
   "cell_type": "code",
   "execution_count": null,
   "metadata": {},
   "outputs": [],
   "source": [
    "ML_imputed_X = impute(X, μML, ΣML)    "
   ]
  },
  {
   "cell_type": "code",
   "execution_count": null,
   "metadata": {
    "scrolled": true
   },
   "outputs": [],
   "source": [
    "pd.DataFrame(ML_imputed_X)"
   ]
  },
  {
   "cell_type": "code",
   "execution_count": null,
   "metadata": {},
   "outputs": [],
   "source": [
    "np.sqrt(np.mean(np.power(ML_imputed_X-TrueX,2)))"
   ]
  },
  {
   "cell_type": "code",
   "execution_count": null,
   "metadata": {},
   "outputs": [],
   "source": [
    "g_ll(ML_imputed_X, μML, ΣML)"
   ]
  },
  {
   "cell_type": "markdown",
   "metadata": {},
   "source": [
    "## EM estimation of ML\n",
    "\n",
    "The above ML estimation is a bit of a hack - lets see how it compares to the EM algorithm"
   ]
  },
  {
   "cell_type": "code",
   "execution_count": null,
   "metadata": {},
   "outputs": [],
   "source": [
    "# # start with random μ and Σ\n",
    "# μEM = np.random.rand(*μML.shape)\n",
    "# ΣEM = np.random.rand(*ΣML.shape)\n",
    "μEM = np.nanmean(X, axis=0)\n",
    "ΣEM = np.nanmean([np.outer(X[i,:] - μEM, X[i,:] - μEM) for i in range(X.shape[0])], axis=0)"
   ]
  },
  {
   "cell_type": "code",
   "execution_count": null,
   "metadata": {},
   "outputs": [],
   "source": [
    "g_ll(input_X=TrueX,μ=μEM,Σ=ΣML)"
   ]
  },
  {
   "cell_type": "code",
   "execution_count": null,
   "metadata": {},
   "outputs": [],
   "source": [
    "print(np.sqrt(np.mean(np.power(μEM - μML,2))))\n",
    "print(np.sqrt(np.mean(np.power(ΣEM - ΣML,2))))"
   ]
  },
  {
   "cell_type": "code",
   "execution_count": null,
   "metadata": {},
   "outputs": [],
   "source": [
    "for i in range(1):\n",
    "    if i == 0:\n",
    "        # using the current parameters, estiamte the values of the missing data:\n",
    "        # impute by taking the mean of the conditional distro\n",
    "        EM_imputed_X = impute(X, μEM, ΣEM)\n",
    "\n",
    "    # now re-estimate μEM and ΣEM\n",
    "    μEM = np.mean(EM_imputed_X, axis = 0)\n",
    "    ΣEM = np.zeros_like(ΣEM)\n",
    "    for i in range(EM_imputed_X.shape[0]):\n",
    "        diff = EM_imputed_X[i,:] - μEM\n",
    "        ΣEM += np.outer(diff, diff.T)\n",
    "    ΣEM = ΣEM/EM_imputed_X.shape[0]\n",
    "    ΣEM += np.eye(EM_imputed_X.shape[1])*1e-3\n",
    "    \n",
    "    # using the current parameters, estiamte the values of the missing data:\n",
    "    # impute by taking the mean of the conditional distro\n",
    "    EM_imputed_X = impute(X, μEM, ΣEM)\n",
    "    \n",
    "    # calc RMSE and LL\n",
    "    \n",
    "    print(np.sqrt(np.mean(np.power(EM_imputed_X - TrueX,2))))\n",
    "    print(g_ll(EM_imputed_X, μEM, ΣEM))"
   ]
  },
  {
   "cell_type": "code",
   "execution_count": null,
   "metadata": {},
   "outputs": [],
   "source": [
    "# check that the covariance matrix is +ve def\n",
    "np.all(np.linalg.eigvals(ΣEM) > 0)"
   ]
  },
  {
   "cell_type": "code",
   "execution_count": null,
   "metadata": {
    "collapsed": true
   },
   "outputs": [],
   "source": []
  }
 ],
 "metadata": {
  "kernelspec": {
   "display_name": "Python 3",
   "language": "python",
   "name": "python3"
  },
  "language_info": {
   "codemirror_mode": {
    "name": "ipython",
    "version": 3
   },
   "file_extension": ".py",
   "mimetype": "text/x-python",
   "name": "python",
   "nbconvert_exporter": "python",
   "pygments_lexer": "ipython3",
   "version": "3.5.2"
  }
 },
 "nbformat": 4,
 "nbformat_minor": 2
}
