{
 "cells": [
  {
   "cell_type": "code",
   "execution_count": 301,
   "metadata": {},
   "outputs": [],
   "source": [
    "import numpy as np\n",
    "import numpy.ma as ma\n",
    "import pandas as pd\n",
    "import sys\n",
    "from sklearn.datasets import load_boston, load_iris\n",
    "from sklearn.decomposition import PCA\n",
    "from matplotlib import pyplot as plt\n",
    "import random\n",
    "np.random.seed(42)\n",
    "%matplotlib inline"
   ]
  },
  {
   "cell_type": "code",
   "execution_count": 302,
   "metadata": {},
   "outputs": [],
   "source": [
    "sys.path.append(\"../auto_impute/\")"
   ]
  },
  {
   "cell_type": "code",
   "execution_count": 303,
   "metadata": {},
   "outputs": [],
   "source": [
    "from csv_reader import CSVReader\n",
    "from dp import DP\n",
    "from sg import SingleGaussian\n",
    "from gmm import GMM\n",
    "from mi import MeanImpute"
   ]
  },
  {
   "cell_type": "markdown",
   "metadata": {},
   "source": [
    "Generate plots of MSE and LL vs % missing (MCAR) for the DP, SG, MI, and GMM on Iris and Boston Housing"
   ]
  },
  {
   "cell_type": "code",
   "execution_count": 313,
   "metadata": {},
   "outputs": [],
   "source": [
    "def run_model_on_dataset(data_loader, model_constructor, model_params={}, normalise=False):\n",
    "    # load dataset\n",
    "    X, _ = data_loader(return_X_y=True)\n",
    "    rmses = np.zeros(9)\n",
    "    lls = np.zeros_like(rmses)\n",
    "    \n",
    "    for i in range(1, 10):\n",
    "        # randomly remove a % of the dataset\n",
    "        mask = np.random.rand(*X.shape) <= i/100 + 0.9 \n",
    "        masked_X = ma.masked_array(X, mask)\n",
    "        if normalise:\n",
    "            mean = ma.mean(masked_X, axis=0)\n",
    "            std = ma.std(masked_X, axis=0)\n",
    "            masked_X = (masked_X - mean)/std\n",
    "#         model = model_constructor(masked_X,m0 = ma.mean(masked_X, axis=0),**model_params)\n",
    "        model = model_constructor(masked_X,**model_params)\n",
    "        if hasattr(model, 'fit'):\n",
    "            model.fit(max_iters=100, ϵ=0.01)\n",
    "            \n",
    "        imputed_X = model.ml_imputation()\n",
    "        if normalise:\n",
    "            imputed_X = imputed_X*std + mean\n",
    "            \n",
    "        rmses[i-1] = np.sqrt(np.mean(np.power(X - imputed_X, 2)))\n",
    "        \n",
    "        ll = model.test_ll(X)\n",
    "        lls[i-1] = np.mean(ll[mask])\n",
    "        \n",
    "    return rmses, lls       "
   ]
  },
  {
   "cell_type": "code",
   "execution_count": 310,
   "metadata": {},
   "outputs": [
    {
     "name": "stderr",
     "output_type": "stream",
     "text": [
      "Fitting single gaussian using EM:\n",
      "Starting Avg LL: -0.918939\n",
      "Iter: 0\t\t\tAvg LL: 0.260517\n",
      "Fitting single gaussian using EM:\n",
      "Starting Avg LL: -0.918939\n",
      "Iter: 0\t\t\tAvg LL: 0.476419\n",
      "Fitting single gaussian using EM:\n",
      "Starting Avg LL: -0.918939\n",
      "Iter: 0\t\t\tAvg LL: 0.393162\n",
      "Fitting single gaussian using EM:\n",
      "Starting Avg LL: -0.918939\n",
      "Iter: 0\t\t\tAvg LL: 0.298254\n",
      "Fitting single gaussian using EM:\n",
      "Starting Avg LL: -0.918939\n",
      "Iter: 0\t\t\tAvg LL: 0.587057\n",
      "Fitting single gaussian using EM:\n",
      "Starting Avg LL: -0.918939\n",
      "Iter: 0\t\t\tAvg LL: 0.652095\n",
      "../auto_impute/sg.py:177: RuntimeWarning: divide by zero encountered in log\n",
      "  lls[n, d] = np.log(stats.multivariate_normal.pdf(x_row[d], mean=μ, cov=σ2))\n",
      "Fitting single gaussian using EM:\n",
      "Starting Avg LL: -0.918939\n",
      "Iter: 0\t\t\tAvg LL: 0.778480\n",
      "Fitting single gaussian using EM:\n",
      "Starting Avg LL: -0.918939\n",
      "Iter: 0\t\t\tAvg LL: 1.017006\n",
      "Fitting single gaussian using EM:\n",
      "Starting Avg LL: -0.918939\n",
      "Iter: 0\t\t\tAvg LL: 1.139120\n"
     ]
    }
   ],
   "source": [
    "r, l = run_model_on_dataset(load_iris, SingleGaussian, {\"verbose\": True}, normalise=True)"
   ]
  },
  {
   "cell_type": "code",
   "execution_count": 311,
   "metadata": {},
   "outputs": [
    {
     "name": "stdout",
     "output_type": "stream",
     "text": [
      "0\n"
     ]
    },
    {
     "name": "stderr",
     "output_type": "stream",
     "text": [
      "../auto_impute/sg.py:177: RuntimeWarning: divide by zero encountered in log\n",
      "  lls[n, d] = np.log(stats.multivariate_normal.pdf(x_row[d], mean=μ, cov=σ2))\n"
     ]
    },
    {
     "name": "stdout",
     "output_type": "stream",
     "text": [
      "1\n",
      "2\n",
      "3\n",
      "4\n",
      "5\n",
      "6\n",
      "7\n",
      "8\n",
      "9\n"
     ]
    }
   ],
   "source": [
    "# SG on iris\n",
    "# repeat the experiment 10 times to get a mean and variance\n",
    "rmses = np.zeros(shape=(10, 9))\n",
    "lls = np.zeros_like(rmses)\n",
    "\n",
    "for i in range(10):\n",
    "    print(i)\n",
    "    r, l = run_model_on_dataset(load_iris, SingleGaussian, {\"independent_vars\":True}, normalise=True)\n",
    "    \n",
    "    rmses[i, :] = r\n",
    "    lls[i, :] = l"
   ]
  },
  {
   "cell_type": "code",
   "execution_count": 312,
   "metadata": {},
   "outputs": [
    {
     "name": "stdout",
     "output_type": "stream",
     "text": [
      "[1.05521301 1.05999486 1.09217855 1.13643642 1.16460574 1.17357774\n",
      " 1.16130691 1.16698382 1.22735527]\n",
      "[0.03795784 0.02591548 0.0534293  0.12011259 0.13632789 0.10923505\n",
      " 0.10933556 0.27863124 0.31592331]\n",
      "[-89.23349774 -98.35424152         -inf         -inf         -inf\n",
      "         -inf         -inf         -inf         -inf]\n",
      "[18.70107482 23.30098573         nan         nan         nan         nan\n",
      "         nan         nan         nan]\n"
     ]
    },
    {
     "name": "stderr",
     "output_type": "stream",
     "text": [
      "/usr/local/lib/python3.5/dist-packages/numpy/core/_methods.py:112: RuntimeWarning: invalid value encountered in subtract\n",
      "  x = asanyarray(arr - arrmean)\n"
     ]
    }
   ],
   "source": [
    "print(np.mean(rmses, axis=0))\n",
    "print(np.std(rmses, axis=0))\n",
    "print(np.mean(lls, axis=0))\n",
    "print(np.std(lls, axis=0))"
   ]
  },
  {
   "cell_type": "code",
   "execution_count": 20,
   "metadata": {},
   "outputs": [
    {
     "name": "stdout",
     "output_type": "stream",
     "text": [
      "[-1.26865567 -1.25435851 -1.2874415  -1.30447339 -1.44070357 -1.59017655\n",
      " -1.92969948 -2.4495219  -5.10813152]\n",
      "[0.12616627 0.07193603 0.0592975  0.06399185 0.07411055 0.12715965\n",
      " 0.27084744 0.26129236 1.33725509]\n"
     ]
    }
   ],
   "source": []
  },
  {
   "cell_type": "code",
   "execution_count": 21,
   "metadata": {},
   "outputs": [],
   "source": [
    "# np.savetxt(X=np.stack([np.arange(1,10)*10, np.mean(rmses, axis=0), np.std(rmses, axis=0), np.mean(lls, axis=0), np.std(lls, axis=0)], axis=1),\n",
    "#            delimiter=\",\",header=\"x,rm,rs,lm,ls\",fname=\"msg_iris_test.csv\", fmt=\"%.7g\", comments='')"
   ]
  },
  {
   "cell_type": "code",
   "execution_count": 314,
   "metadata": {},
   "outputs": [
    {
     "name": "stdout",
     "output_type": "stream",
     "text": [
      "0\n",
      "1\n",
      "2\n",
      "3\n",
      "4\n",
      "5\n",
      "6\n",
      "7\n",
      "8\n",
      "9\n"
     ]
    }
   ],
   "source": [
    "# DP on iris\n",
    "# repeat the experiment 10 times to get a mean and variance\n",
    "rmses = np.zeros(shape=(10, 9))\n",
    "lls = np.zeros_like(rmses)\n",
    "\n",
    "for i in range(10):\n",
    "    print(i)\n",
    "    r, l = run_model_on_dataset(load_iris, DP)\n",
    "    \n",
    "    rmses[i, :] = r\n",
    "    lls[i, :] = l"
   ]
  },
  {
   "cell_type": "code",
   "execution_count": 315,
   "metadata": {},
   "outputs": [
    {
     "name": "stdout",
     "output_type": "stream",
     "text": [
      "[1.46651981 1.40225794 1.55158431 1.53468595 1.6070432  1.65328043\n",
      " 1.46742055 1.7902036  2.1486754 ]\n",
      "[0.18986742 0.20765199 0.19533167 0.2016822  0.13377399 0.24002533\n",
      " 0.1907099  0.53995622 0.7691125 ]\n",
      "[ -8.23169162  -8.45429393  -8.61760712  -8.79051254  -9.12664571\n",
      "  -9.29220434  -9.6982336   -9.927023   -10.16584649]\n",
      "[0.31885606 0.47061703 0.4695374  0.22476669 0.46594952 0.2296294\n",
      " 0.38693494 0.24895885 0.15273689]\n"
     ]
    }
   ],
   "source": [
    "print(np.mean(rmses, axis=0))\n",
    "print(np.std(rmses, axis=0))\n",
    "print(np.mean(lls, axis=0))\n",
    "print(np.std(lls, axis=0))"
   ]
  },
  {
   "cell_type": "code",
   "execution_count": 8,
   "metadata": {
    "collapsed": true
   },
   "outputs": [],
   "source": [
    "# np.savetxt(X=np.stack([np.arange(1,10)*10, np.mean(rmses, axis=0), np.std(rmses, axis=0), np.mean(lls, axis=0), np.std(lls, axis=0)], axis=1),\n",
    "#            delimiter=\",\",header=\"x,rm,rs,lm,ls\",fname=\"dp_iris_test.csv\", fmt=\"%.7g\", comments='')"
   ]
  },
  {
   "cell_type": "code",
   "execution_count": 316,
   "metadata": {},
   "outputs": [
    {
     "name": "stdout",
     "output_type": "stream",
     "text": [
      "0\n"
     ]
    },
    {
     "name": "stderr",
     "output_type": "stream",
     "text": [
      "../auto_impute/mi.py:46: RuntimeWarning: divide by zero encountered in log\n",
      "  lls[n, d] = np.log(stats.norm.pdf(test_data[n, d], loc=self.μ[d], scale=1e-1))\n"
     ]
    },
    {
     "name": "stdout",
     "output_type": "stream",
     "text": [
      "1\n",
      "2\n",
      "3\n",
      "4\n",
      "5\n",
      "6\n",
      "7\n",
      "8\n",
      "9\n"
     ]
    }
   ],
   "source": [
    "# MI on iris\n",
    "# repeat the experiment 10 times to get a mean and variance\n",
    "rmses = np.zeros(shape=(10, 9))\n",
    "lls = np.zeros_like(rmses)\n",
    "\n",
    "for i in range(10):\n",
    "    print(i)\n",
    "    r, l = run_model_on_dataset(load_iris, MeanImpute)\n",
    "    \n",
    "    rmses[i, :] = r\n",
    "    lls[i, :] = l"
   ]
  },
  {
   "cell_type": "code",
   "execution_count": 317,
   "metadata": {},
   "outputs": [
    {
     "name": "stdout",
     "output_type": "stream",
     "text": [
      "[1.04742309 1.06638577 1.06297386 1.09807811 1.07636648 1.21758709\n",
      " 1.38125159 1.52266436 2.10407097]\n",
      "[0.02036739 0.02925598 0.03824084 0.05188336 0.02184406 0.18959315\n",
      " 0.58157755 0.67946716 0.78357585]\n",
      "[        -inf         -inf -59.60487747         -inf         -inf\n",
      "         -inf         -inf         -inf         -inf]\n",
      "[       nan        nan 4.40940703        nan        nan        nan\n",
      "        nan        nan        nan]\n"
     ]
    },
    {
     "name": "stderr",
     "output_type": "stream",
     "text": [
      "/usr/local/lib/python3.5/dist-packages/numpy/core/_methods.py:112: RuntimeWarning: invalid value encountered in subtract\n",
      "  x = asanyarray(arr - arrmean)\n"
     ]
    }
   ],
   "source": [
    "print(np.mean(rmses, axis=0))\n",
    "print(np.std(rmses, axis=0))\n",
    "print(np.mean(lls, axis=0))\n",
    "print(np.std(lls, axis=0))"
   ]
  },
  {
   "cell_type": "code",
   "execution_count": 7,
   "metadata": {},
   "outputs": [
    {
     "name": "stderr",
     "output_type": "stream",
     "text": [
      "/usr/local/lib/python3.5/dist-packages/numpy/core/_methods.py:112: RuntimeWarning: invalid value encountered in subtract\n",
      "  x = asanyarray(arr - arrmean)\n"
     ]
    }
   ],
   "source": [
    "# np.savetxt(X=np.stack([np.arange(1,10)*10, np.mean(rmses, axis=0), np.std(rmses, axis=0), np.mean(lls, axis=0), np.std(lls, axis=0)], axis=1),\n",
    "#            delimiter=\",\",header=\"x,rm,rs,lm,ls\",fname=\"mi_iris_test.csv\", fmt=\"%.7g\", comments='')"
   ]
  },
  {
   "cell_type": "code",
   "execution_count": 318,
   "metadata": {},
   "outputs": [
    {
     "name": "stdout",
     "output_type": "stream",
     "text": [
      "0\n",
      "1\n",
      "2\n",
      "3\n",
      "4\n",
      "5\n",
      "6\n",
      "7\n",
      "8\n",
      "9\n"
     ]
    }
   ],
   "source": [
    "# GMM on iris\n",
    "# repeat the experiment 10 times to get a mean and variance\n",
    "rmses = np.zeros(shape=(10, 9))\n",
    "lls = np.zeros_like(rmses)\n",
    "\n",
    "for i in range(10):\n",
    "    print(i)\n",
    "    r, l = run_model_on_dataset(load_iris, GMM, {\"num_components\":3}, normalise=True)\n",
    "    \n",
    "    rmses[i, :] = r\n",
    "    lls[i, :] = l"
   ]
  },
  {
   "cell_type": "code",
   "execution_count": 319,
   "metadata": {},
   "outputs": [
    {
     "name": "stdout",
     "output_type": "stream",
     "text": [
      "[1.09396677 1.04812134 1.13758931 1.12218869 1.14892942 1.2227487\n",
      " 1.29383532 1.20334904 0.98031817]\n",
      "[0.05833395 0.02909192 0.09164839 0.02764085 0.05476145 0.14451133\n",
      " 0.14451134 0.09387772 0.1847068 ]\n"
     ]
    }
   ],
   "source": [
    "print(ma.mean(ma.masked_array(rmses, rmses>1.5) ,axis=0).data)\n",
    "print(ma.std(ma.masked_array(rmses, rmses>1.5) ,axis=0).data)"
   ]
  },
  {
   "cell_type": "code",
   "execution_count": 320,
   "metadata": {},
   "outputs": [
    {
     "name": "stdout",
     "output_type": "stream",
     "text": [
      "[4.664774   5.17197802 4.32149935 3.76664729 6.99950983 6.06283657\n",
      " 9.26435701 3.38823209 1.40244645]\n",
      "[ 3.68639907  5.46511713  4.69665465  2.24586564  6.42497498  8.5163565\n",
      " 14.38668404  3.30975904  0.86348138]\n",
      "[-3.24230437 -3.50704392 -3.21492124 -3.43290808 -3.29280913 -3.41256711\n",
      " -3.10477659 -3.76915605 -3.93632643]\n",
      "[0.14650438 0.8862164  0.35415349 0.6257306  0.66023637 0.91407355\n",
      " 0.28415775 0.95800294 1.63063742]\n"
     ]
    }
   ],
   "source": [
    "print(np.mean(rmses, axis=0))\n",
    "print(np.std(rmses, axis=0))\n",
    "print(np.mean(lls, axis=0))\n",
    "print(np.std(lls, axis=0))"
   ]
  },
  {
   "cell_type": "code",
   "execution_count": 16,
   "metadata": {
    "collapsed": true
   },
   "outputs": [],
   "source": [
    "# np.savetxt(X=np.stack([np.arange(1,10)*10, ma.mean(ma.masked_array(rmses, rmses>1.5) ,axis=0).data,ma.std(ma.masked_array(rmses, rmses>1.5) ,axis=0).data, np.mean(lls, axis=0), np.std(lls, axis=0)], axis=1),\n",
    "#            delimiter=\",\",header=\"x,rm,rs,lm,ls\",fname=\"../../MphilACS-dissertation/evaluation/gmm3_f_iris_test.csv\", fmt=\"%.7g\", comments='')"
   ]
  },
  {
   "cell_type": "markdown",
   "metadata": {},
   "source": [
    "Cool PCA example"
   ]
  },
  {
   "cell_type": "code",
   "execution_count": 398,
   "metadata": {},
   "outputs": [
    {
     "name": "stdout",
     "output_type": "stream",
     "text": [
      "1.0\n",
      "[[ 0.92154695  0.38826694]\n",
      " [-0.38826694  0.92154695]]\n"
     ]
    }
   ],
   "source": [
    "from sklearn.preprocessing import StandardScaler\n",
    "\n",
    "iris = load_iris()\n",
    "\n",
    "pca = PCA(n_components=2)\n",
    "cols = [2,3]\n",
    "\n",
    "principalComponents = pca.fit_transform(X = iris.data[:,cols])\n",
    "\n",
    "# to get how much variance was retained\n",
    "print(pca.explained_variance_ratio_.sum())\n",
    "print(pca.components_)"
   ]
  },
  {
   "cell_type": "code",
   "execution_count": 399,
   "metadata": {},
   "outputs": [
    {
     "data": {
      "text/plain": [
       "(-0.1, 2.6)"
      ]
     },
     "execution_count": 399,
     "metadata": {},
     "output_type": "execute_result"
    },
    {
     "data": {
      "image/png": "[encoded data removed]",
      "text/plain": [
       "<matplotlib.figure.Figure at 0x7f7647410908>"
      ]
     },
     "metadata": {},
     "output_type": "display_data"
    }
   ],
   "source": [
    "scale = np.sqrt(np.max(iris.data[:,cols[1]])**2 + np.max(iris.data[:,cols[0]])**2)\n",
    "plt.arrow(0, 0, pca.components_[0,0]*scale, pca.components_[0,1]*scale,color = 'r')\n",
    "plt.scatter(iris.data[:,cols[0]], iris.data[:,cols[1]])\n",
    "plt.xlim([-0.1,np.max(iris.data[:,cols[0]]) + 0.1])\n",
    "plt.ylim([-0.1,np.max(iris.data[:,cols[1]]) + 0.1])\n",
    "# plt.arrow(0, 0, pca.components_[0,0]*scale, pca.components_[0,1]*-1*scale,color = 'r')"
   ]
  },
  {
   "cell_type": "code",
   "execution_count": 597,
   "metadata": {},
   "outputs": [
    {
     "name": "stdout",
     "output_type": "stream",
     "text": [
      "(86, 2)\n"
     ]
    }
   ],
   "source": [
    "# mask = iris.data[:,2] >= 3\n",
    "# mask = np.random.rand(*X.shape) <= 1/10\n",
    "mask = np.stack([iris.data[:,cols[1]] >= 1.5, np.array([False]*iris.data.shape[0])], axis=1)\n",
    "# mask = mask[:,[2,3]]\n",
    "iris_complete_case = iris.data[~np.any(mask, axis=1)][:,cols]\n",
    "print(iris_complete_case.shape)\n",
    "iris_complete_case.shape\n",
    "pca_cc = PCA(n_components=2)\n",
    "pca_cc.fit_transform(X = iris_complete_case)\n",
    "components_cc  = pca_cc.components_"
   ]
  },
  {
   "cell_type": "code",
   "execution_count": 630,
   "metadata": {
    "collapsed": true
   },
   "outputs": [],
   "source": [
    "np.savetxt(X=iris_complete_case,\n",
    "    delimiter=\",\",header=\"x,y\",fname=\"../../MphilACS-dissertation/evaluation/iris_complete_case.csv\", fmt=\"%.7g\", comments='')"
   ]
  },
  {
   "cell_type": "code",
   "execution_count": 631,
   "metadata": {
    "collapsed": true
   },
   "outputs": [],
   "source": [
    "np.savetxt(X=iris.data[np.any(mask, axis=1)][:,cols],\n",
    "    delimiter=\",\",header=\"x,y\",fname=\"../../MphilACS-dissertation/evaluation/iris_maked.csv\", fmt=\"%.7g\", comments='')"
   ]
  },
  {
   "cell_type": "code",
   "execution_count": 633,
   "metadata": {},
   "outputs": [
    {
     "name": "stdout",
     "output_type": "stream",
     "text": [
      "9.402434670268558 3.4050289677669108\n",
      "9.215469497911123 3.882669433916534\n"
     ]
    }
   ],
   "source": [
    "print(components_cc[0,0]*10, components_cc[0,1]*10)\n",
    "print(pca.components_[0,0]*10, pca.components_[0,1]*10)"
   ]
  },
  {
   "cell_type": "code",
   "execution_count": 598,
   "metadata": {},
   "outputs": [
    {
     "data": {
      "text/plain": [
       "(-0.1, 2.6)"
      ]
     },
     "execution_count": 598,
     "metadata": {},
     "output_type": "execute_result"
    },
    {
     "data": {
      "image/png": "[encoded data removed]",
      "text/plain": [
       "<matplotlib.figure.Figure at 0x7f7646ba7dd8>"
      ]
     },
     "metadata": {},
     "output_type": "display_data"
    }
   ],
   "source": [
    "plt.scatter(iris_complete_case[:,0], iris_complete_case[:,1])\n",
    "plt.arrow(0, 0, components_cc[0,0]*scale, components_cc[0,1]*scale,color = 'black')\n",
    "plt.arrow(0, 0, pca.components_[0,0]*scale, pca.components_[0,1]*scale,color = 'r')\n",
    "plt.xlim([-0.1,np.max(iris.data[:,cols[0]]) + 0.1])\n",
    "plt.ylim([-0.1,np.max(iris.data[:,cols[1]]) + 0.1])"
   ]
  },
  {
   "cell_type": "code",
   "execution_count": 599,
   "metadata": {},
   "outputs": [
    {
     "name": "stderr",
     "output_type": "stream",
     "text": [
      "Fitting single gaussian using EM:\n",
      "Starting Avg LL: -3.221524\n",
      "Iter: 0\t\t\tAvg LL: -1.506546\n",
      "Iter: 1\t\t\tAvg LL: -1.313647\n",
      "Iter: 2\t\t\tAvg LL: -1.217870\n",
      "Iter: 3\t\t\tAvg LL: -1.175924\n",
      "Iter: 4\t\t\tAvg LL: -1.158962\n",
      "Iter: 5\t\t\tAvg LL: -1.152342\n",
      "Iter: 6\t\t\tAvg LL: -1.149796\n",
      "Iter: 7\t\t\tAvg LL: -1.148822\n",
      "Iter: 8\t\t\tAvg LL: -1.148450\n",
      "Iter: 9\t\t\tAvg LL: -1.148308\n",
      "Iter: 10\t\t\tAvg LL: -1.148254\n",
      "Iter: 11\t\t\tAvg LL: -1.148234\n",
      "Iter: 12\t\t\tAvg LL: -1.148226\n",
      "Iter: 13\t\t\tAvg LL: -1.148223\n",
      "Iter: 14\t\t\tAvg LL: -1.148222\n",
      "Iter: 15\t\t\tAvg LL: -1.148221\n",
      "Iter: 16\t\t\tAvg LL: -1.148221\n",
      "Iter: 17\t\t\tAvg LL: -1.148221\n",
      "Iter: 18\t\t\tAvg LL: -1.148221\n",
      "Iter: 19\t\t\tAvg LL: -1.148221\n",
      "Iter: 20\t\t\tAvg LL: -1.148221\n",
      "Iter: 21\t\t\tAvg LL: -1.148221\n",
      "Iter: 22\t\t\tAvg LL: -1.148221\n",
      "Iter: 23\t\t\tAvg LL: -1.148221\n",
      "Iter: 24\t\t\tAvg LL: -1.148221\n",
      "Iter: 25\t\t\tAvg LL: -1.148221\n",
      "Iter: 26\t\t\tAvg LL: -1.148221\n",
      "Iter: 27\t\t\tAvg LL: -1.148221\n",
      "Iter: 28\t\t\tAvg LL: -1.148221\n",
      "Iter: 29\t\t\tAvg LL: -1.148221\n",
      "Iter: 30\t\t\tAvg LL: -1.148221\n",
      "Iter: 31\t\t\tAvg LL: -1.148221\n",
      "Iter: 32\t\t\tAvg LL: -1.148221\n",
      "Iter: 33\t\t\tAvg LL: -1.148221\n",
      "Iter: 34\t\t\tAvg LL: -1.148221\n",
      "Iter: 35\t\t\tAvg LL: -1.148221\n",
      "Iter: 36\t\t\tAvg LL: -1.148221\n",
      "Iter: 37\t\t\tAvg LL: -1.148221\n",
      "Iter: 38\t\t\tAvg LL: -1.148221\n"
     ]
    }
   ],
   "source": [
    "num_samples = 100\n",
    "data = ma.masked_array(iris.data[:,cols], mask)\n",
    "\n",
    "model = SingleGaussian(data=data, verbose=True, independent_vars=False, W0=np.eye(2)*100)\n",
    "model.fit(ε=0)\n",
    "repaird_datasets = model.sample(num_samples)\n",
    "components = []\n",
    "\n",
    "for i in range(num_smaples):\n",
    "    pca_sg = PCA(n_components=2)\n",
    "    pca_sg.fit_transform(X = repaird_datasets[i, :, :])\n",
    "    components.append(pca_sg.components_)\n",
    "    "
   ]
  },
  {
   "cell_type": "code",
   "execution_count": 600,
   "metadata": {},
   "outputs": [
    {
     "data": {
      "text/plain": [
       "False"
      ]
     },
     "execution_count": 600,
     "metadata": {},
     "output_type": "execute_result"
    }
   ],
   "source": [
    "np.all(repaird_datasets[0,:,:] == repaird_datasets[1,:,:])"
   ]
  },
  {
   "cell_type": "code",
   "execution_count": 601,
   "metadata": {},
   "outputs": [
    {
     "data": {
      "text/plain": [
       "(-0.1, 2.6)"
      ]
     },
     "execution_count": 601,
     "metadata": {},
     "output_type": "execute_result"
    },
    {
     "data": {
      "image/png": "[encoded data removed]",
      "text/plain": [
       "<matplotlib.figure.Figure at 0x7f7647138208>"
      ]
     },
     "metadata": {},
     "output_type": "display_data"
    }
   ],
   "source": [
    "for i in range(num_samples):\n",
    "    plt.arrow(0, 0, components[i][0,0]*scale, components[i][0,1]*scale,color = 'purple', alpha=0.2)\n",
    "plt.xlim([-0.1,np.max(iris.data[:,cols[0]]) + 0.1])\n",
    "plt.ylim([-0.1,np.max(iris.data[:,cols[1]]) + 0.1])"
   ]
  },
  {
   "cell_type": "code",
   "execution_count": 602,
   "metadata": {},
   "outputs": [
    {
     "data": {
      "text/plain": [
       "(-0.1, 2.6)"
      ]
     },
     "execution_count": 602,
     "metadata": {},
     "output_type": "execute_result"
    },
    {
     "data": {
      "image/png": "[encoded data removed]",
      "text/plain": [
       "<matplotlib.figure.Figure at 0x7f76469c4d68>"
      ]
     },
     "metadata": {},
     "output_type": "display_data"
    }
   ],
   "source": [
    "plt.scatter(iris.data[:,cols[0]], iris.data[:,cols[1]])\n",
    "# scale_cc = np.sqrt(pca_cc.mean_[0]**2 + pca_cc.mean_[1]**2)\n",
    "plt.arrow(0, 0, pca.components_[0,0]*scale, pca.components_[0,1]*scale,color = 'r')\n",
    "plt.arrow(0, 0, pca_cc.components_[0,0]*scale, pca_cc.components_[0,1]*scale,color = 'black')\n",
    "for i in range(num_samples):\n",
    "    plt.arrow(0, 0, components[i][0,0]*scale, components[i][0,1]*scale,color = 'purple', alpha=0.1)\n",
    "plt.xlim([-0.1,np.max(iris.data[:,cols[0]]) + 0.1])\n",
    "plt.ylim([-0.1,np.max(iris.data[:,cols[1]]) + 0.1])\n",
    "# plt.arrow(0, 0, pca.components_[1,0]*pca.explained_variance_[1], pca.components_[1,1]*pca.explained_variance_[1],color = 'r',alpha = 0.5)"
   ]
  },
  {
   "cell_type": "code",
   "execution_count": 624,
   "metadata": {
    "scrolled": true
   },
   "outputs": [
    {
     "data": {
      "text/plain": [
       "array([[0.        , 0.        ],\n",
       "       [0.93669336, 0.35015075],\n",
       "       [0.        , 0.        ],\n",
       "       [0.92486384, 0.3802984 ],\n",
       "       [0.        , 0.        ],\n",
       "       [0.93072086, 0.36573033],\n",
       "       [0.        , 0.        ],\n",
       "       [0.93680651, 0.34984792],\n",
       "       [0.        , 0.        ],\n",
       "       [0.91710441, 0.39864708],\n",
       "       [0.        , 0.        ],\n",
       "       [0.92638217, 0.37658476],\n",
       "       [0.        , 0.        ],\n",
       "       [0.92969515, 0.36832992],\n",
       "       [0.        , 0.        ],\n",
       "       [0.93203411, 0.36237057],\n",
       "       [0.        , 0.        ],\n",
       "       [0.9382055 , 0.34607866],\n",
       "       [0.        , 0.        ],\n",
       "       [0.93076706, 0.36561273],\n",
       "       [0.        , 0.        ],\n",
       "       [0.92791632, 0.37278854],\n",
       "       [0.        , 0.        ],\n",
       "       [0.92637672, 0.37659816],\n",
       "       [0.        , 0.        ],\n",
       "       [0.92695044, 0.37518379],\n",
       "       [0.        , 0.        ],\n",
       "       [0.92635879, 0.37664225],\n",
       "       [0.        , 0.        ],\n",
       "       [0.93728735, 0.34855763],\n",
       "       [0.        , 0.        ],\n",
       "       [0.92045226, 0.39085501],\n",
       "       [0.        , 0.        ],\n",
       "       [0.91154389, 0.41120279],\n",
       "       [0.        , 0.        ],\n",
       "       [0.92125623, 0.38895624],\n",
       "       [0.        , 0.        ],\n",
       "       [0.92753314, 0.37374092],\n",
       "       [0.        , 0.        ],\n",
       "       [0.94013355, 0.34080625],\n",
       "       [0.        , 0.        ],\n",
       "       [0.92555675, 0.3786089 ],\n",
       "       [0.        , 0.        ],\n",
       "       [0.92565168, 0.37837675],\n",
       "       [0.        , 0.        ],\n",
       "       [0.92337473, 0.38389986],\n",
       "       [0.        , 0.        ],\n",
       "       [0.94510821, 0.32675752],\n",
       "       [0.        , 0.        ],\n",
       "       [0.94645957, 0.32282238],\n",
       "       [0.        , 0.        ],\n",
       "       [0.93733313, 0.34843449],\n",
       "       [0.        , 0.        ],\n",
       "       [0.92664846, 0.37592902],\n",
       "       [0.        , 0.        ],\n",
       "       [0.93581827, 0.35248285],\n",
       "       [0.        , 0.        ],\n",
       "       [0.93133738, 0.36415749],\n",
       "       [0.        , 0.        ],\n",
       "       [0.91507361, 0.40328685],\n",
       "       [0.        , 0.        ],\n",
       "       [0.90981707, 0.41500952],\n",
       "       [0.        , 0.        ],\n",
       "       [0.93416265, 0.35684751],\n",
       "       [0.        , 0.        ],\n",
       "       [0.92613518, 0.37719176],\n",
       "       [0.        , 0.        ],\n",
       "       [0.90986337, 0.414908  ],\n",
       "       [0.        , 0.        ],\n",
       "       [0.92457376, 0.3810031 ],\n",
       "       [0.        , 0.        ],\n",
       "       [0.92111717, 0.38928546],\n",
       "       [0.        , 0.        ],\n",
       "       [0.9302922 , 0.36681932],\n",
       "       [0.        , 0.        ],\n",
       "       [0.95363322, 0.30097124],\n",
       "       [0.        , 0.        ],\n",
       "       [0.92429051, 0.38168973],\n",
       "       [0.        , 0.        ],\n",
       "       [0.91134615, 0.41164086],\n",
       "       [0.        , 0.        ],\n",
       "       [0.92839389, 0.37159762],\n",
       "       [0.        , 0.        ],\n",
       "       [0.93331456, 0.35905978],\n",
       "       [0.        , 0.        ],\n",
       "       [0.91919493, 0.39380284],\n",
       "       [0.        , 0.        ],\n",
       "       [0.9145907 , 0.40438083],\n",
       "       [0.        , 0.        ],\n",
       "       [0.92695106, 0.37518226],\n",
       "       [0.        , 0.        ],\n",
       "       [0.92837491, 0.37164504],\n",
       "       [0.        , 0.        ],\n",
       "       [0.94228269, 0.33481836],\n",
       "       [0.        , 0.        ],\n",
       "       [0.93730563, 0.34850848],\n",
       "       [0.        , 0.        ],\n",
       "       [0.92944151, 0.36896948],\n",
       "       [0.        , 0.        ],\n",
       "       [0.93518267, 0.35416574],\n",
       "       [0.        , 0.        ],\n",
       "       [0.95593171, 0.29358911],\n",
       "       [0.        , 0.        ],\n",
       "       [0.93181785, 0.36292628],\n",
       "       [0.        , 0.        ],\n",
       "       [0.94026421, 0.3404456 ],\n",
       "       [0.        , 0.        ],\n",
       "       [0.92609883, 0.37728102],\n",
       "       [0.        , 0.        ],\n",
       "       [0.91465656, 0.40423183],\n",
       "       [0.        , 0.        ],\n",
       "       [0.93743818, 0.34815176],\n",
       "       [0.        , 0.        ],\n",
       "       [0.93932045, 0.34304095],\n",
       "       [0.        , 0.        ],\n",
       "       [0.91575378, 0.40173998],\n",
       "       [0.        , 0.        ],\n",
       "       [0.91796277, 0.39666656],\n",
       "       [0.        , 0.        ],\n",
       "       [0.93559447, 0.35307647],\n",
       "       [0.        , 0.        ],\n",
       "       [0.92971295, 0.36828499],\n",
       "       [0.        , 0.        ],\n",
       "       [0.9313032 , 0.3642449 ],\n",
       "       [0.        , 0.        ],\n",
       "       [0.94361951, 0.33103205],\n",
       "       [0.        , 0.        ],\n",
       "       [0.93211131, 0.36217194],\n",
       "       [0.        , 0.        ],\n",
       "       [0.93056937, 0.36611563],\n",
       "       [0.        , 0.        ],\n",
       "       [0.92872469, 0.37077009],\n",
       "       [0.        , 0.        ],\n",
       "       [0.93464869, 0.35557254],\n",
       "       [0.        , 0.        ],\n",
       "       [0.93206597, 0.3622886 ],\n",
       "       [0.        , 0.        ],\n",
       "       [0.92644162, 0.37643848],\n",
       "       [0.        , 0.        ],\n",
       "       [0.93684532, 0.34974397],\n",
       "       [0.        , 0.        ],\n",
       "       [0.92772545, 0.3732633 ],\n",
       "       [0.        , 0.        ],\n",
       "       [0.92666965, 0.3758768 ],\n",
       "       [0.        , 0.        ],\n",
       "       [0.94484799, 0.3275092 ],\n",
       "       [0.        , 0.        ],\n",
       "       [0.9355187 , 0.35327716],\n",
       "       [0.        , 0.        ],\n",
       "       [0.93163854, 0.36338634],\n",
       "       [0.        , 0.        ],\n",
       "       [0.91784746, 0.3969333 ],\n",
       "       [0.        , 0.        ],\n",
       "       [0.92715199, 0.37468546],\n",
       "       [0.        , 0.        ],\n",
       "       [0.93199456, 0.36247227],\n",
       "       [0.        , 0.        ],\n",
       "       [0.90954136, 0.41561342],\n",
       "       [0.        , 0.        ],\n",
       "       [0.93463333, 0.35561291],\n",
       "       [0.        , 0.        ],\n",
       "       [0.92553746, 0.37865606],\n",
       "       [0.        , 0.        ],\n",
       "       [0.93441361, 0.35618984],\n",
       "       [0.        , 0.        ],\n",
       "       [0.93081112, 0.36550055],\n",
       "       [0.        , 0.        ],\n",
       "       [0.93385798, 0.35764407],\n",
       "       [0.        , 0.        ],\n",
       "       [0.93855871, 0.34511962],\n",
       "       [0.        , 0.        ],\n",
       "       [0.92418889, 0.38193572],\n",
       "       [0.        , 0.        ],\n",
       "       [0.92769463, 0.37333988],\n",
       "       [0.        , 0.        ],\n",
       "       [0.93057289, 0.36610668],\n",
       "       [0.        , 0.        ],\n",
       "       [0.9401858 , 0.3406621 ],\n",
       "       [0.        , 0.        ],\n",
       "       [0.93518144, 0.35416899],\n",
       "       [0.        , 0.        ],\n",
       "       [0.92730221, 0.37431351],\n",
       "       [0.        , 0.        ],\n",
       "       [0.92788833, 0.37285821],\n",
       "       [0.        , 0.        ],\n",
       "       [0.93781495, 0.3471356 ],\n",
       "       [0.        , 0.        ],\n",
       "       [0.9363454 , 0.35108018],\n",
       "       [0.        , 0.        ],\n",
       "       [0.92498256, 0.38000956],\n",
       "       [0.        , 0.        ],\n",
       "       [0.92861554, 0.37104336],\n",
       "       [0.        , 0.        ],\n",
       "       [0.93219022, 0.36196876],\n",
       "       [0.        , 0.        ],\n",
       "       [0.92263964, 0.3856632 ],\n",
       "       [0.        , 0.        ],\n",
       "       [0.93754293, 0.3478696 ],\n",
       "       [0.        , 0.        ],\n",
       "       [0.92759619, 0.37358442]])"
      ]
     },
     "execution_count": 624,
     "metadata": {},
     "output_type": "execute_result"
    }
   ],
   "source": [
    "temp = np.hstack([np.zeros(shape=(100,2)), np.abs(np.array(components)[:, 0, :])]).reshape(200, 2)\n",
    "temp"
   ]
  },
  {
   "cell_type": "code",
   "execution_count": 626,
   "metadata": {
    "scrolled": true
   },
   "outputs": [
    {
     "data": {
      "text/plain": [
       "array([[ 0.        ,  0.        ,  0.93669336,  0.35015075],\n",
       "       [ 0.        ,  0.        ,  0.92486384,  0.3802984 ],\n",
       "       [ 0.        ,  0.        ,  0.93072086,  0.36573033],\n",
       "       [ 0.        ,  0.        ,  0.93680651,  0.34984792],\n",
       "       [ 0.        ,  0.        ,  0.91710441,  0.39864708],\n",
       "       [ 0.        ,  0.        ,  0.92638217,  0.37658476],\n",
       "       [ 0.        ,  0.        ,  0.92969515,  0.36832992],\n",
       "       [ 0.        ,  0.        , -0.93203411, -0.36237057],\n",
       "       [ 0.        ,  0.        ,  0.9382055 ,  0.34607866],\n",
       "       [ 0.        ,  0.        ,  0.93076706,  0.36561273],\n",
       "       [ 0.        ,  0.        ,  0.92791632,  0.37278854],\n",
       "       [ 0.        ,  0.        ,  0.92637672,  0.37659816],\n",
       "       [ 0.        ,  0.        ,  0.92695044,  0.37518379],\n",
       "       [ 0.        ,  0.        ,  0.92635879,  0.37664225],\n",
       "       [ 0.        ,  0.        , -0.93728735, -0.34855763],\n",
       "       [ 0.        ,  0.        ,  0.92045226,  0.39085501],\n",
       "       [ 0.        ,  0.        ,  0.91154389,  0.41120279],\n",
       "       [ 0.        ,  0.        ,  0.92125623,  0.38895624],\n",
       "       [ 0.        ,  0.        ,  0.92753314,  0.37374092],\n",
       "       [ 0.        ,  0.        ,  0.94013355,  0.34080625],\n",
       "       [ 0.        ,  0.        ,  0.92555675,  0.3786089 ],\n",
       "       [ 0.        ,  0.        ,  0.92565168,  0.37837675],\n",
       "       [ 0.        ,  0.        ,  0.92337473,  0.38389986],\n",
       "       [ 0.        ,  0.        ,  0.94510821,  0.32675752],\n",
       "       [ 0.        ,  0.        ,  0.94645957,  0.32282238],\n",
       "       [ 0.        ,  0.        ,  0.93733313,  0.34843449],\n",
       "       [ 0.        ,  0.        ,  0.92664846,  0.37592902],\n",
       "       [ 0.        ,  0.        , -0.93581827, -0.35248285],\n",
       "       [ 0.        ,  0.        , -0.93133738, -0.36415749],\n",
       "       [ 0.        ,  0.        ,  0.91507361,  0.40328685],\n",
       "       [ 0.        ,  0.        ,  0.90981707,  0.41500952],\n",
       "       [ 0.        ,  0.        , -0.93416265, -0.35684751],\n",
       "       [ 0.        ,  0.        ,  0.92613518,  0.37719176],\n",
       "       [ 0.        ,  0.        ,  0.90986337,  0.414908  ],\n",
       "       [ 0.        ,  0.        ,  0.92457376,  0.3810031 ],\n",
       "       [ 0.        ,  0.        ,  0.92111717,  0.38928546],\n",
       "       [ 0.        ,  0.        ,  0.9302922 ,  0.36681932],\n",
       "       [ 0.        ,  0.        , -0.95363322, -0.30097124],\n",
       "       [ 0.        ,  0.        ,  0.92429051,  0.38168973],\n",
       "       [ 0.        ,  0.        ,  0.91134615,  0.41164086],\n",
       "       [ 0.        ,  0.        ,  0.92839389,  0.37159762],\n",
       "       [ 0.        ,  0.        ,  0.93331456,  0.35905978],\n",
       "       [ 0.        ,  0.        ,  0.91919493,  0.39380284],\n",
       "       [ 0.        ,  0.        ,  0.9145907 ,  0.40438083],\n",
       "       [ 0.        ,  0.        ,  0.92695106,  0.37518226],\n",
       "       [ 0.        ,  0.        ,  0.92837491,  0.37164504],\n",
       "       [ 0.        ,  0.        ,  0.94228269,  0.33481836],\n",
       "       [ 0.        ,  0.        ,  0.93730563,  0.34850848],\n",
       "       [ 0.        ,  0.        , -0.92944151, -0.36896948],\n",
       "       [ 0.        ,  0.        ,  0.93518267,  0.35416574],\n",
       "       [ 0.        ,  0.        ,  0.95593171,  0.29358911],\n",
       "       [ 0.        ,  0.        ,  0.93181785,  0.36292628],\n",
       "       [ 0.        ,  0.        ,  0.94026421,  0.3404456 ],\n",
       "       [ 0.        ,  0.        ,  0.92609883,  0.37728102],\n",
       "       [ 0.        ,  0.        ,  0.91465656,  0.40423183],\n",
       "       [ 0.        ,  0.        ,  0.93743818,  0.34815176],\n",
       "       [ 0.        ,  0.        ,  0.93932045,  0.34304095],\n",
       "       [ 0.        ,  0.        ,  0.91575378,  0.40173998],\n",
       "       [ 0.        ,  0.        ,  0.91796277,  0.39666656],\n",
       "       [ 0.        ,  0.        ,  0.93559447,  0.35307647],\n",
       "       [ 0.        ,  0.        ,  0.92971295,  0.36828499],\n",
       "       [ 0.        ,  0.        ,  0.9313032 ,  0.3642449 ],\n",
       "       [ 0.        ,  0.        ,  0.94361951,  0.33103205],\n",
       "       [ 0.        ,  0.        ,  0.93211131,  0.36217194],\n",
       "       [ 0.        ,  0.        ,  0.93056937,  0.36611563],\n",
       "       [ 0.        ,  0.        ,  0.92872469,  0.37077009],\n",
       "       [ 0.        ,  0.        ,  0.93464869,  0.35557254],\n",
       "       [ 0.        ,  0.        ,  0.93206597,  0.3622886 ],\n",
       "       [ 0.        ,  0.        ,  0.92644162,  0.37643848],\n",
       "       [ 0.        ,  0.        ,  0.93684532,  0.34974397],\n",
       "       [ 0.        ,  0.        ,  0.92772545,  0.3732633 ],\n",
       "       [ 0.        ,  0.        ,  0.92666965,  0.3758768 ],\n",
       "       [ 0.        ,  0.        ,  0.94484799,  0.3275092 ],\n",
       "       [ 0.        ,  0.        ,  0.9355187 ,  0.35327716],\n",
       "       [ 0.        ,  0.        ,  0.93163854,  0.36338634],\n",
       "       [ 0.        ,  0.        ,  0.91784746,  0.3969333 ],\n",
       "       [ 0.        ,  0.        ,  0.92715199,  0.37468546],\n",
       "       [ 0.        ,  0.        ,  0.93199456,  0.36247227],\n",
       "       [ 0.        ,  0.        ,  0.90954136,  0.41561342],\n",
       "       [ 0.        ,  0.        ,  0.93463333,  0.35561291],\n",
       "       [ 0.        ,  0.        ,  0.92553746,  0.37865606],\n",
       "       [ 0.        ,  0.        ,  0.93441361,  0.35618984],\n",
       "       [ 0.        ,  0.        ,  0.93081112,  0.36550055],\n",
       "       [ 0.        ,  0.        ,  0.93385798,  0.35764407],\n",
       "       [ 0.        ,  0.        , -0.93855871, -0.34511962],\n",
       "       [ 0.        ,  0.        ,  0.92418889,  0.38193572],\n",
       "       [ 0.        ,  0.        ,  0.92769463,  0.37333988],\n",
       "       [ 0.        ,  0.        ,  0.93057289,  0.36610668],\n",
       "       [ 0.        ,  0.        ,  0.9401858 ,  0.3406621 ],\n",
       "       [ 0.        ,  0.        ,  0.93518144,  0.35416899],\n",
       "       [ 0.        ,  0.        ,  0.92730221,  0.37431351],\n",
       "       [ 0.        ,  0.        ,  0.92788833,  0.37285821],\n",
       "       [ 0.        ,  0.        , -0.93781495, -0.3471356 ],\n",
       "       [ 0.        ,  0.        ,  0.9363454 ,  0.35108018],\n",
       "       [ 0.        ,  0.        ,  0.92498256,  0.38000956],\n",
       "       [ 0.        ,  0.        ,  0.92861554,  0.37104336],\n",
       "       [ 0.        ,  0.        ,  0.93219022,  0.36196876],\n",
       "       [ 0.        ,  0.        ,  0.92263964,  0.3856632 ],\n",
       "       [ 0.        ,  0.        ,  0.93754293,  0.3478696 ],\n",
       "       [ 0.        ,  0.        ,  0.92759619,  0.37358442]])"
      ]
     },
     "execution_count": 626,
     "metadata": {},
     "output_type": "execute_result"
    }
   ],
   "source": [
    "temp = np.zeros(shape=(100,4))\n",
    "temp[:, [2,3]] = np.array(components)[:, 0, :]\n",
    "temp"
   ]
  },
  {
   "cell_type": "code",
   "execution_count": 629,
   "metadata": {
    "collapsed": true
   },
   "outputs": [],
   "source": [
    "# np.savetxt(X=np.abs(temp)*10,\n",
    "#     delimiter=\",\",header=\"x,y,u,v\",fname=\"pca.csv\", fmt=\"%.7g\", comments='')"
   ]
  },
  {
   "cell_type": "code",
   "execution_count": 18,
   "metadata": {
    "scrolled": true
   },
   "outputs": [
    {
     "data": {
      "text/html": [
       "<div>\n",
       "<style scoped>\n",
       "    .dataframe tbody tr th:only-of-type {\n",
       "        vertical-align: middle;\n",
       "    }\n",
       "\n",
       "    .dataframe tbody tr th {\n",
       "        vertical-align: top;\n",
       "    }\n",
       "\n",
       "    .dataframe thead th {\n",
       "        text-align: right;\n",
       "    }\n",
       "</style>\n",
       "<table border=\"1\" class=\"dataframe\">\n",
       "  <thead>\n",
       "    <tr style=\"text-align: right;\">\n",
       "      <th></th>\n",
       "      <th>0</th>\n",
       "      <th>1</th>\n",
       "      <th>2</th>\n",
       "      <th>3</th>\n",
       "      <th>4</th>\n",
       "      <th>5</th>\n",
       "      <th>6</th>\n",
       "      <th>7</th>\n",
       "      <th>8</th>\n",
       "      <th>9</th>\n",
       "      <th>10</th>\n",
       "      <th>11</th>\n",
       "      <th>12</th>\n",
       "    </tr>\n",
       "  </thead>\n",
       "  <tbody>\n",
       "    <tr>\n",
       "      <th>0</th>\n",
       "      <td>0.00632</td>\n",
       "      <td>18.0</td>\n",
       "      <td>2.31</td>\n",
       "      <td>0.0</td>\n",
       "      <td>0.538</td>\n",
       "      <td>6.575</td>\n",
       "      <td>65.2</td>\n",
       "      <td>4.0900</td>\n",
       "      <td>1.0</td>\n",
       "      <td>296.0</td>\n",
       "      <td>15.3</td>\n",
       "      <td>396.90</td>\n",
       "      <td>4.98</td>\n",
       "    </tr>\n",
       "    <tr>\n",
       "      <th>1</th>\n",
       "      <td>0.02731</td>\n",
       "      <td>0.0</td>\n",
       "      <td>7.07</td>\n",
       "      <td>0.0</td>\n",
       "      <td>0.469</td>\n",
       "      <td>6.421</td>\n",
       "      <td>78.9</td>\n",
       "      <td>4.9671</td>\n",
       "      <td>2.0</td>\n",
       "      <td>242.0</td>\n",
       "      <td>17.8</td>\n",
       "      <td>396.90</td>\n",
       "      <td>9.14</td>\n",
       "    </tr>\n",
       "    <tr>\n",
       "      <th>2</th>\n",
       "      <td>0.02729</td>\n",
       "      <td>0.0</td>\n",
       "      <td>7.07</td>\n",
       "      <td>0.0</td>\n",
       "      <td>0.469</td>\n",
       "      <td>7.185</td>\n",
       "      <td>61.1</td>\n",
       "      <td>4.9671</td>\n",
       "      <td>2.0</td>\n",
       "      <td>242.0</td>\n",
       "      <td>17.8</td>\n",
       "      <td>392.83</td>\n",
       "      <td>4.03</td>\n",
       "    </tr>\n",
       "    <tr>\n",
       "      <th>3</th>\n",
       "      <td>0.03237</td>\n",
       "      <td>0.0</td>\n",
       "      <td>2.18</td>\n",
       "      <td>0.0</td>\n",
       "      <td>0.458</td>\n",
       "      <td>6.998</td>\n",
       "      <td>45.8</td>\n",
       "      <td>6.0622</td>\n",
       "      <td>3.0</td>\n",
       "      <td>222.0</td>\n",
       "      <td>18.7</td>\n",
       "      <td>394.63</td>\n",
       "      <td>2.94</td>\n",
       "    </tr>\n",
       "    <tr>\n",
       "      <th>4</th>\n",
       "      <td>0.06905</td>\n",
       "      <td>0.0</td>\n",
       "      <td>2.18</td>\n",
       "      <td>0.0</td>\n",
       "      <td>0.458</td>\n",
       "      <td>7.147</td>\n",
       "      <td>54.2</td>\n",
       "      <td>6.0622</td>\n",
       "      <td>3.0</td>\n",
       "      <td>222.0</td>\n",
       "      <td>18.7</td>\n",
       "      <td>396.90</td>\n",
       "      <td>5.33</td>\n",
       "    </tr>\n",
       "    <tr>\n",
       "      <th>5</th>\n",
       "      <td>0.02985</td>\n",
       "      <td>0.0</td>\n",
       "      <td>2.18</td>\n",
       "      <td>0.0</td>\n",
       "      <td>0.458</td>\n",
       "      <td>6.430</td>\n",
       "      <td>58.7</td>\n",
       "      <td>6.0622</td>\n",
       "      <td>3.0</td>\n",
       "      <td>222.0</td>\n",
       "      <td>18.7</td>\n",
       "      <td>394.12</td>\n",
       "      <td>5.21</td>\n",
       "    </tr>\n",
       "    <tr>\n",
       "      <th>6</th>\n",
       "      <td>0.08829</td>\n",
       "      <td>12.5</td>\n",
       "      <td>7.87</td>\n",
       "      <td>0.0</td>\n",
       "      <td>0.524</td>\n",
       "      <td>6.012</td>\n",
       "      <td>66.6</td>\n",
       "      <td>5.5605</td>\n",
       "      <td>5.0</td>\n",
       "      <td>311.0</td>\n",
       "      <td>15.2</td>\n",
       "      <td>395.60</td>\n",
       "      <td>12.43</td>\n",
       "    </tr>\n",
       "    <tr>\n",
       "      <th>7</th>\n",
       "      <td>0.14455</td>\n",
       "      <td>12.5</td>\n",
       "      <td>7.87</td>\n",
       "      <td>0.0</td>\n",
       "      <td>0.524</td>\n",
       "      <td>6.172</td>\n",
       "      <td>96.1</td>\n",
       "      <td>5.9505</td>\n",
       "      <td>5.0</td>\n",
       "      <td>311.0</td>\n",
       "      <td>15.2</td>\n",
       "      <td>396.90</td>\n",
       "      <td>19.15</td>\n",
       "    </tr>\n",
       "    <tr>\n",
       "      <th>8</th>\n",
       "      <td>0.21124</td>\n",
       "      <td>12.5</td>\n",
       "      <td>7.87</td>\n",
       "      <td>0.0</td>\n",
       "      <td>0.524</td>\n",
       "      <td>5.631</td>\n",
       "      <td>100.0</td>\n",
       "      <td>6.0821</td>\n",
       "      <td>5.0</td>\n",
       "      <td>311.0</td>\n",
       "      <td>15.2</td>\n",
       "      <td>386.63</td>\n",
       "      <td>29.93</td>\n",
       "    </tr>\n",
       "    <tr>\n",
       "      <th>9</th>\n",
       "      <td>0.17004</td>\n",
       "      <td>12.5</td>\n",
       "      <td>7.87</td>\n",
       "      <td>0.0</td>\n",
       "      <td>0.524</td>\n",
       "      <td>6.004</td>\n",
       "      <td>85.9</td>\n",
       "      <td>6.5921</td>\n",
       "      <td>5.0</td>\n",
       "      <td>311.0</td>\n",
       "      <td>15.2</td>\n",
       "      <td>386.71</td>\n",
       "      <td>17.10</td>\n",
       "    </tr>\n",
       "    <tr>\n",
       "      <th>10</th>\n",
       "      <td>0.22489</td>\n",
       "      <td>12.5</td>\n",
       "      <td>7.87</td>\n",
       "      <td>0.0</td>\n",
       "      <td>0.524</td>\n",
       "      <td>6.377</td>\n",
       "      <td>94.3</td>\n",
       "      <td>6.3467</td>\n",
       "      <td>5.0</td>\n",
       "      <td>311.0</td>\n",
       "      <td>15.2</td>\n",
       "      <td>392.52</td>\n",
       "      <td>20.45</td>\n",
       "    </tr>\n",
       "    <tr>\n",
       "      <th>11</th>\n",
       "      <td>0.11747</td>\n",
       "      <td>12.5</td>\n",
       "      <td>7.87</td>\n",
       "      <td>0.0</td>\n",
       "      <td>0.524</td>\n",
       "      <td>6.009</td>\n",
       "      <td>82.9</td>\n",
       "      <td>6.2267</td>\n",
       "      <td>5.0</td>\n",
       "      <td>311.0</td>\n",
       "      <td>15.2</td>\n",
       "      <td>396.90</td>\n",
       "      <td>13.27</td>\n",
       "    </tr>\n",
       "    <tr>\n",
       "      <th>12</th>\n",
       "      <td>0.09378</td>\n",
       "      <td>12.5</td>\n",
       "      <td>7.87</td>\n",
       "      <td>0.0</td>\n",
       "      <td>0.524</td>\n",
       "      <td>5.889</td>\n",
       "      <td>39.0</td>\n",
       "      <td>5.4509</td>\n",
       "      <td>5.0</td>\n",
       "      <td>311.0</td>\n",
       "      <td>15.2</td>\n",
       "      <td>390.50</td>\n",
       "      <td>15.71</td>\n",
       "    </tr>\n",
       "    <tr>\n",
       "      <th>13</th>\n",
       "      <td>0.62976</td>\n",
       "      <td>0.0</td>\n",
       "      <td>8.14</td>\n",
       "      <td>0.0</td>\n",
       "      <td>0.538</td>\n",
       "      <td>5.949</td>\n",
       "      <td>61.8</td>\n",
       "      <td>4.7075</td>\n",
       "      <td>4.0</td>\n",
       "      <td>307.0</td>\n",
       "      <td>21.0</td>\n",
       "      <td>396.90</td>\n",
       "      <td>8.26</td>\n",
       "    </tr>\n",
       "    <tr>\n",
       "      <th>14</th>\n",
       "      <td>0.63796</td>\n",
       "      <td>0.0</td>\n",
       "      <td>8.14</td>\n",
       "      <td>0.0</td>\n",
       "      <td>0.538</td>\n",
       "      <td>6.096</td>\n",
       "      <td>84.5</td>\n",
       "      <td>4.4619</td>\n",
       "      <td>4.0</td>\n",
       "      <td>307.0</td>\n",
       "      <td>21.0</td>\n",
       "      <td>380.02</td>\n",
       "      <td>10.26</td>\n",
       "    </tr>\n",
       "    <tr>\n",
       "      <th>15</th>\n",
       "      <td>0.62739</td>\n",
       "      <td>0.0</td>\n",
       "      <td>8.14</td>\n",
       "      <td>0.0</td>\n",
       "      <td>0.538</td>\n",
       "      <td>5.834</td>\n",
       "      <td>56.5</td>\n",
       "      <td>4.4986</td>\n",
       "      <td>4.0</td>\n",
       "      <td>307.0</td>\n",
       "      <td>21.0</td>\n",
       "      <td>395.62</td>\n",
       "      <td>8.47</td>\n",
       "    </tr>\n",
       "    <tr>\n",
       "      <th>16</th>\n",
       "      <td>1.05393</td>\n",
       "      <td>0.0</td>\n",
       "      <td>8.14</td>\n",
       "      <td>0.0</td>\n",
       "      <td>0.538</td>\n",
       "      <td>5.935</td>\n",
       "      <td>29.3</td>\n",
       "      <td>4.4986</td>\n",
       "      <td>4.0</td>\n",
       "      <td>307.0</td>\n",
       "      <td>21.0</td>\n",
       "      <td>386.85</td>\n",
       "      <td>6.58</td>\n",
       "    </tr>\n",
       "    <tr>\n",
       "      <th>17</th>\n",
       "      <td>0.78420</td>\n",
       "      <td>0.0</td>\n",
       "      <td>8.14</td>\n",
       "      <td>0.0</td>\n",
       "      <td>0.538</td>\n",
       "      <td>5.990</td>\n",
       "      <td>81.7</td>\n",
       "      <td>4.2579</td>\n",
       "      <td>4.0</td>\n",
       "      <td>307.0</td>\n",
       "      <td>21.0</td>\n",
       "      <td>386.75</td>\n",
       "      <td>14.67</td>\n",
       "    </tr>\n",
       "    <tr>\n",
       "      <th>18</th>\n",
       "      <td>0.80271</td>\n",
       "      <td>0.0</td>\n",
       "      <td>8.14</td>\n",
       "      <td>0.0</td>\n",
       "      <td>0.538</td>\n",
       "      <td>5.456</td>\n",
       "      <td>36.6</td>\n",
       "      <td>3.7965</td>\n",
       "      <td>4.0</td>\n",
       "      <td>307.0</td>\n",
       "      <td>21.0</td>\n",
       "      <td>288.99</td>\n",
       "      <td>11.69</td>\n",
       "    </tr>\n",
       "    <tr>\n",
       "      <th>19</th>\n",
       "      <td>0.72580</td>\n",
       "      <td>0.0</td>\n",
       "      <td>8.14</td>\n",
       "      <td>0.0</td>\n",
       "      <td>0.538</td>\n",
       "      <td>5.727</td>\n",
       "      <td>69.5</td>\n",
       "      <td>3.7965</td>\n",
       "      <td>4.0</td>\n",
       "      <td>307.0</td>\n",
       "      <td>21.0</td>\n",
       "      <td>390.95</td>\n",
       "      <td>11.28</td>\n",
       "    </tr>\n",
       "    <tr>\n",
       "      <th>20</th>\n",
       "      <td>1.25179</td>\n",
       "      <td>0.0</td>\n",
       "      <td>8.14</td>\n",
       "      <td>0.0</td>\n",
       "      <td>0.538</td>\n",
       "      <td>5.570</td>\n",
       "      <td>98.1</td>\n",
       "      <td>3.7979</td>\n",
       "      <td>4.0</td>\n",
       "      <td>307.0</td>\n",
       "      <td>21.0</td>\n",
       "      <td>376.57</td>\n",
       "      <td>21.02</td>\n",
       "    </tr>\n",
       "    <tr>\n",
       "      <th>21</th>\n",
       "      <td>0.85204</td>\n",
       "      <td>0.0</td>\n",
       "      <td>8.14</td>\n",
       "      <td>0.0</td>\n",
       "      <td>0.538</td>\n",
       "      <td>5.965</td>\n",
       "      <td>89.2</td>\n",
       "      <td>4.0123</td>\n",
       "      <td>4.0</td>\n",
       "      <td>307.0</td>\n",
       "      <td>21.0</td>\n",
       "      <td>392.53</td>\n",
       "      <td>13.83</td>\n",
       "    </tr>\n",
       "    <tr>\n",
       "      <th>22</th>\n",
       "      <td>1.23247</td>\n",
       "      <td>0.0</td>\n",
       "      <td>8.14</td>\n",
       "      <td>0.0</td>\n",
       "      <td>0.538</td>\n",
       "      <td>6.142</td>\n",
       "      <td>91.7</td>\n",
       "      <td>3.9769</td>\n",
       "      <td>4.0</td>\n",
       "      <td>307.0</td>\n",
       "      <td>21.0</td>\n",
       "      <td>396.90</td>\n",
       "      <td>18.72</td>\n",
       "    </tr>\n",
       "    <tr>\n",
       "      <th>23</th>\n",
       "      <td>0.98843</td>\n",
       "      <td>0.0</td>\n",
       "      <td>8.14</td>\n",
       "      <td>0.0</td>\n",
       "      <td>0.538</td>\n",
       "      <td>5.813</td>\n",
       "      <td>100.0</td>\n",
       "      <td>4.0952</td>\n",
       "      <td>4.0</td>\n",
       "      <td>307.0</td>\n",
       "      <td>21.0</td>\n",
       "      <td>394.54</td>\n",
       "      <td>19.88</td>\n",
       "    </tr>\n",
       "    <tr>\n",
       "      <th>24</th>\n",
       "      <td>0.75026</td>\n",
       "      <td>0.0</td>\n",
       "      <td>8.14</td>\n",
       "      <td>0.0</td>\n",
       "      <td>0.538</td>\n",
       "      <td>5.924</td>\n",
       "      <td>94.1</td>\n",
       "      <td>4.3996</td>\n",
       "      <td>4.0</td>\n",
       "      <td>307.0</td>\n",
       "      <td>21.0</td>\n",
       "      <td>394.33</td>\n",
       "      <td>16.30</td>\n",
       "    </tr>\n",
       "    <tr>\n",
       "      <th>25</th>\n",
       "      <td>0.84054</td>\n",
       "      <td>0.0</td>\n",
       "      <td>8.14</td>\n",
       "      <td>0.0</td>\n",
       "      <td>0.538</td>\n",
       "      <td>5.599</td>\n",
       "      <td>85.7</td>\n",
       "      <td>4.4546</td>\n",
       "      <td>4.0</td>\n",
       "      <td>307.0</td>\n",
       "      <td>21.0</td>\n",
       "      <td>303.42</td>\n",
       "      <td>16.51</td>\n",
       "    </tr>\n",
       "    <tr>\n",
       "      <th>26</th>\n",
       "      <td>0.67191</td>\n",
       "      <td>0.0</td>\n",
       "      <td>8.14</td>\n",
       "      <td>0.0</td>\n",
       "      <td>0.538</td>\n",
       "      <td>5.813</td>\n",
       "      <td>90.3</td>\n",
       "      <td>4.6820</td>\n",
       "      <td>4.0</td>\n",
       "      <td>307.0</td>\n",
       "      <td>21.0</td>\n",
       "      <td>376.88</td>\n",
       "      <td>14.81</td>\n",
       "    </tr>\n",
       "    <tr>\n",
       "      <th>27</th>\n",
       "      <td>0.95577</td>\n",
       "      <td>0.0</td>\n",
       "      <td>8.14</td>\n",
       "      <td>0.0</td>\n",
       "      <td>0.538</td>\n",
       "      <td>6.047</td>\n",
       "      <td>88.8</td>\n",
       "      <td>4.4534</td>\n",
       "      <td>4.0</td>\n",
       "      <td>307.0</td>\n",
       "      <td>21.0</td>\n",
       "      <td>306.38</td>\n",
       "      <td>17.28</td>\n",
       "    </tr>\n",
       "    <tr>\n",
       "      <th>28</th>\n",
       "      <td>0.77299</td>\n",
       "      <td>0.0</td>\n",
       "      <td>8.14</td>\n",
       "      <td>0.0</td>\n",
       "      <td>0.538</td>\n",
       "      <td>6.495</td>\n",
       "      <td>94.4</td>\n",
       "      <td>4.4547</td>\n",
       "      <td>4.0</td>\n",
       "      <td>307.0</td>\n",
       "      <td>21.0</td>\n",
       "      <td>387.94</td>\n",
       "      <td>12.80</td>\n",
       "    </tr>\n",
       "    <tr>\n",
       "      <th>29</th>\n",
       "      <td>1.00245</td>\n",
       "      <td>0.0</td>\n",
       "      <td>8.14</td>\n",
       "      <td>0.0</td>\n",
       "      <td>0.538</td>\n",
       "      <td>6.674</td>\n",
       "      <td>87.3</td>\n",
       "      <td>4.2390</td>\n",
       "      <td>4.0</td>\n",
       "      <td>307.0</td>\n",
       "      <td>21.0</td>\n",
       "      <td>380.23</td>\n",
       "      <td>11.98</td>\n",
       "    </tr>\n",
       "    <tr>\n",
       "      <th>...</th>\n",
       "      <td>...</td>\n",
       "      <td>...</td>\n",
       "      <td>...</td>\n",
       "      <td>...</td>\n",
       "      <td>...</td>\n",
       "      <td>...</td>\n",
       "      <td>...</td>\n",
       "      <td>...</td>\n",
       "      <td>...</td>\n",
       "      <td>...</td>\n",
       "      <td>...</td>\n",
       "      <td>...</td>\n",
       "      <td>...</td>\n",
       "    </tr>\n",
       "    <tr>\n",
       "      <th>476</th>\n",
       "      <td>4.87141</td>\n",
       "      <td>0.0</td>\n",
       "      <td>18.10</td>\n",
       "      <td>0.0</td>\n",
       "      <td>0.614</td>\n",
       "      <td>6.484</td>\n",
       "      <td>93.6</td>\n",
       "      <td>2.3053</td>\n",
       "      <td>24.0</td>\n",
       "      <td>666.0</td>\n",
       "      <td>20.2</td>\n",
       "      <td>396.21</td>\n",
       "      <td>18.68</td>\n",
       "    </tr>\n",
       "    <tr>\n",
       "      <th>477</th>\n",
       "      <td>15.02340</td>\n",
       "      <td>0.0</td>\n",
       "      <td>18.10</td>\n",
       "      <td>0.0</td>\n",
       "      <td>0.614</td>\n",
       "      <td>5.304</td>\n",
       "      <td>97.3</td>\n",
       "      <td>2.1007</td>\n",
       "      <td>24.0</td>\n",
       "      <td>666.0</td>\n",
       "      <td>20.2</td>\n",
       "      <td>349.48</td>\n",
       "      <td>24.91</td>\n",
       "    </tr>\n",
       "    <tr>\n",
       "      <th>478</th>\n",
       "      <td>10.23300</td>\n",
       "      <td>0.0</td>\n",
       "      <td>18.10</td>\n",
       "      <td>0.0</td>\n",
       "      <td>0.614</td>\n",
       "      <td>6.185</td>\n",
       "      <td>96.7</td>\n",
       "      <td>2.1705</td>\n",
       "      <td>24.0</td>\n",
       "      <td>666.0</td>\n",
       "      <td>20.2</td>\n",
       "      <td>379.70</td>\n",
       "      <td>18.03</td>\n",
       "    </tr>\n",
       "    <tr>\n",
       "      <th>479</th>\n",
       "      <td>14.33370</td>\n",
       "      <td>0.0</td>\n",
       "      <td>18.10</td>\n",
       "      <td>0.0</td>\n",
       "      <td>0.614</td>\n",
       "      <td>6.229</td>\n",
       "      <td>88.0</td>\n",
       "      <td>1.9512</td>\n",
       "      <td>24.0</td>\n",
       "      <td>666.0</td>\n",
       "      <td>20.2</td>\n",
       "      <td>383.32</td>\n",
       "      <td>13.11</td>\n",
       "    </tr>\n",
       "    <tr>\n",
       "      <th>480</th>\n",
       "      <td>5.82401</td>\n",
       "      <td>0.0</td>\n",
       "      <td>18.10</td>\n",
       "      <td>0.0</td>\n",
       "      <td>0.532</td>\n",
       "      <td>6.242</td>\n",
       "      <td>64.7</td>\n",
       "      <td>3.4242</td>\n",
       "      <td>24.0</td>\n",
       "      <td>666.0</td>\n",
       "      <td>20.2</td>\n",
       "      <td>396.90</td>\n",
       "      <td>10.74</td>\n",
       "    </tr>\n",
       "    <tr>\n",
       "      <th>481</th>\n",
       "      <td>5.70818</td>\n",
       "      <td>0.0</td>\n",
       "      <td>18.10</td>\n",
       "      <td>0.0</td>\n",
       "      <td>0.532</td>\n",
       "      <td>6.750</td>\n",
       "      <td>74.9</td>\n",
       "      <td>3.3317</td>\n",
       "      <td>24.0</td>\n",
       "      <td>666.0</td>\n",
       "      <td>20.2</td>\n",
       "      <td>393.07</td>\n",
       "      <td>7.74</td>\n",
       "    </tr>\n",
       "    <tr>\n",
       "      <th>482</th>\n",
       "      <td>5.73116</td>\n",
       "      <td>0.0</td>\n",
       "      <td>18.10</td>\n",
       "      <td>0.0</td>\n",
       "      <td>0.532</td>\n",
       "      <td>7.061</td>\n",
       "      <td>77.0</td>\n",
       "      <td>3.4106</td>\n",
       "      <td>24.0</td>\n",
       "      <td>666.0</td>\n",
       "      <td>20.2</td>\n",
       "      <td>395.28</td>\n",
       "      <td>7.01</td>\n",
       "    </tr>\n",
       "    <tr>\n",
       "      <th>483</th>\n",
       "      <td>2.81838</td>\n",
       "      <td>0.0</td>\n",
       "      <td>18.10</td>\n",
       "      <td>0.0</td>\n",
       "      <td>0.532</td>\n",
       "      <td>5.762</td>\n",
       "      <td>40.3</td>\n",
       "      <td>4.0983</td>\n",
       "      <td>24.0</td>\n",
       "      <td>666.0</td>\n",
       "      <td>20.2</td>\n",
       "      <td>392.92</td>\n",
       "      <td>10.42</td>\n",
       "    </tr>\n",
       "    <tr>\n",
       "      <th>484</th>\n",
       "      <td>2.37857</td>\n",
       "      <td>0.0</td>\n",
       "      <td>18.10</td>\n",
       "      <td>0.0</td>\n",
       "      <td>0.583</td>\n",
       "      <td>5.871</td>\n",
       "      <td>41.9</td>\n",
       "      <td>3.7240</td>\n",
       "      <td>24.0</td>\n",
       "      <td>666.0</td>\n",
       "      <td>20.2</td>\n",
       "      <td>370.73</td>\n",
       "      <td>13.34</td>\n",
       "    </tr>\n",
       "    <tr>\n",
       "      <th>485</th>\n",
       "      <td>3.67367</td>\n",
       "      <td>0.0</td>\n",
       "      <td>18.10</td>\n",
       "      <td>0.0</td>\n",
       "      <td>0.583</td>\n",
       "      <td>6.312</td>\n",
       "      <td>51.9</td>\n",
       "      <td>3.9917</td>\n",
       "      <td>24.0</td>\n",
       "      <td>666.0</td>\n",
       "      <td>20.2</td>\n",
       "      <td>388.62</td>\n",
       "      <td>10.58</td>\n",
       "    </tr>\n",
       "    <tr>\n",
       "      <th>486</th>\n",
       "      <td>5.69175</td>\n",
       "      <td>0.0</td>\n",
       "      <td>18.10</td>\n",
       "      <td>0.0</td>\n",
       "      <td>0.583</td>\n",
       "      <td>6.114</td>\n",
       "      <td>79.8</td>\n",
       "      <td>3.5459</td>\n",
       "      <td>24.0</td>\n",
       "      <td>666.0</td>\n",
       "      <td>20.2</td>\n",
       "      <td>392.68</td>\n",
       "      <td>14.98</td>\n",
       "    </tr>\n",
       "    <tr>\n",
       "      <th>487</th>\n",
       "      <td>4.83567</td>\n",
       "      <td>0.0</td>\n",
       "      <td>18.10</td>\n",
       "      <td>0.0</td>\n",
       "      <td>0.583</td>\n",
       "      <td>5.905</td>\n",
       "      <td>53.2</td>\n",
       "      <td>3.1523</td>\n",
       "      <td>24.0</td>\n",
       "      <td>666.0</td>\n",
       "      <td>20.2</td>\n",
       "      <td>388.22</td>\n",
       "      <td>11.45</td>\n",
       "    </tr>\n",
       "    <tr>\n",
       "      <th>488</th>\n",
       "      <td>0.15086</td>\n",
       "      <td>0.0</td>\n",
       "      <td>27.74</td>\n",
       "      <td>0.0</td>\n",
       "      <td>0.609</td>\n",
       "      <td>5.454</td>\n",
       "      <td>92.7</td>\n",
       "      <td>1.8209</td>\n",
       "      <td>4.0</td>\n",
       "      <td>711.0</td>\n",
       "      <td>20.1</td>\n",
       "      <td>395.09</td>\n",
       "      <td>18.06</td>\n",
       "    </tr>\n",
       "    <tr>\n",
       "      <th>489</th>\n",
       "      <td>0.18337</td>\n",
       "      <td>0.0</td>\n",
       "      <td>27.74</td>\n",
       "      <td>0.0</td>\n",
       "      <td>0.609</td>\n",
       "      <td>5.414</td>\n",
       "      <td>98.3</td>\n",
       "      <td>1.7554</td>\n",
       "      <td>4.0</td>\n",
       "      <td>711.0</td>\n",
       "      <td>20.1</td>\n",
       "      <td>344.05</td>\n",
       "      <td>23.97</td>\n",
       "    </tr>\n",
       "    <tr>\n",
       "      <th>490</th>\n",
       "      <td>0.20746</td>\n",
       "      <td>0.0</td>\n",
       "      <td>27.74</td>\n",
       "      <td>0.0</td>\n",
       "      <td>0.609</td>\n",
       "      <td>5.093</td>\n",
       "      <td>98.0</td>\n",
       "      <td>1.8226</td>\n",
       "      <td>4.0</td>\n",
       "      <td>711.0</td>\n",
       "      <td>20.1</td>\n",
       "      <td>318.43</td>\n",
       "      <td>29.68</td>\n",
       "    </tr>\n",
       "    <tr>\n",
       "      <th>491</th>\n",
       "      <td>0.10574</td>\n",
       "      <td>0.0</td>\n",
       "      <td>27.74</td>\n",
       "      <td>0.0</td>\n",
       "      <td>0.609</td>\n",
       "      <td>5.983</td>\n",
       "      <td>98.8</td>\n",
       "      <td>1.8681</td>\n",
       "      <td>4.0</td>\n",
       "      <td>711.0</td>\n",
       "      <td>20.1</td>\n",
       "      <td>390.11</td>\n",
       "      <td>18.07</td>\n",
       "    </tr>\n",
       "    <tr>\n",
       "      <th>492</th>\n",
       "      <td>0.11132</td>\n",
       "      <td>0.0</td>\n",
       "      <td>27.74</td>\n",
       "      <td>0.0</td>\n",
       "      <td>0.609</td>\n",
       "      <td>5.983</td>\n",
       "      <td>83.5</td>\n",
       "      <td>2.1099</td>\n",
       "      <td>4.0</td>\n",
       "      <td>711.0</td>\n",
       "      <td>20.1</td>\n",
       "      <td>396.90</td>\n",
       "      <td>13.35</td>\n",
       "    </tr>\n",
       "    <tr>\n",
       "      <th>493</th>\n",
       "      <td>0.17331</td>\n",
       "      <td>0.0</td>\n",
       "      <td>9.69</td>\n",
       "      <td>0.0</td>\n",
       "      <td>0.585</td>\n",
       "      <td>5.707</td>\n",
       "      <td>54.0</td>\n",
       "      <td>2.3817</td>\n",
       "      <td>6.0</td>\n",
       "      <td>391.0</td>\n",
       "      <td>19.2</td>\n",
       "      <td>396.90</td>\n",
       "      <td>12.01</td>\n",
       "    </tr>\n",
       "    <tr>\n",
       "      <th>494</th>\n",
       "      <td>0.27957</td>\n",
       "      <td>0.0</td>\n",
       "      <td>9.69</td>\n",
       "      <td>0.0</td>\n",
       "      <td>0.585</td>\n",
       "      <td>5.926</td>\n",
       "      <td>42.6</td>\n",
       "      <td>2.3817</td>\n",
       "      <td>6.0</td>\n",
       "      <td>391.0</td>\n",
       "      <td>19.2</td>\n",
       "      <td>396.90</td>\n",
       "      <td>13.59</td>\n",
       "    </tr>\n",
       "    <tr>\n",
       "      <th>495</th>\n",
       "      <td>0.17899</td>\n",
       "      <td>0.0</td>\n",
       "      <td>9.69</td>\n",
       "      <td>0.0</td>\n",
       "      <td>0.585</td>\n",
       "      <td>5.670</td>\n",
       "      <td>28.8</td>\n",
       "      <td>2.7986</td>\n",
       "      <td>6.0</td>\n",
       "      <td>391.0</td>\n",
       "      <td>19.2</td>\n",
       "      <td>393.29</td>\n",
       "      <td>17.60</td>\n",
       "    </tr>\n",
       "    <tr>\n",
       "      <th>496</th>\n",
       "      <td>0.28960</td>\n",
       "      <td>0.0</td>\n",
       "      <td>9.69</td>\n",
       "      <td>0.0</td>\n",
       "      <td>0.585</td>\n",
       "      <td>5.390</td>\n",
       "      <td>72.9</td>\n",
       "      <td>2.7986</td>\n",
       "      <td>6.0</td>\n",
       "      <td>391.0</td>\n",
       "      <td>19.2</td>\n",
       "      <td>396.90</td>\n",
       "      <td>21.14</td>\n",
       "    </tr>\n",
       "    <tr>\n",
       "      <th>497</th>\n",
       "      <td>0.26838</td>\n",
       "      <td>0.0</td>\n",
       "      <td>9.69</td>\n",
       "      <td>0.0</td>\n",
       "      <td>0.585</td>\n",
       "      <td>5.794</td>\n",
       "      <td>70.6</td>\n",
       "      <td>2.8927</td>\n",
       "      <td>6.0</td>\n",
       "      <td>391.0</td>\n",
       "      <td>19.2</td>\n",
       "      <td>396.90</td>\n",
       "      <td>14.10</td>\n",
       "    </tr>\n",
       "    <tr>\n",
       "      <th>498</th>\n",
       "      <td>0.23912</td>\n",
       "      <td>0.0</td>\n",
       "      <td>9.69</td>\n",
       "      <td>0.0</td>\n",
       "      <td>0.585</td>\n",
       "      <td>6.019</td>\n",
       "      <td>65.3</td>\n",
       "      <td>2.4091</td>\n",
       "      <td>6.0</td>\n",
       "      <td>391.0</td>\n",
       "      <td>19.2</td>\n",
       "      <td>396.90</td>\n",
       "      <td>12.92</td>\n",
       "    </tr>\n",
       "    <tr>\n",
       "      <th>499</th>\n",
       "      <td>0.17783</td>\n",
       "      <td>0.0</td>\n",
       "      <td>9.69</td>\n",
       "      <td>0.0</td>\n",
       "      <td>0.585</td>\n",
       "      <td>5.569</td>\n",
       "      <td>73.5</td>\n",
       "      <td>2.3999</td>\n",
       "      <td>6.0</td>\n",
       "      <td>391.0</td>\n",
       "      <td>19.2</td>\n",
       "      <td>395.77</td>\n",
       "      <td>15.10</td>\n",
       "    </tr>\n",
       "    <tr>\n",
       "      <th>500</th>\n",
       "      <td>0.22438</td>\n",
       "      <td>0.0</td>\n",
       "      <td>9.69</td>\n",
       "      <td>0.0</td>\n",
       "      <td>0.585</td>\n",
       "      <td>6.027</td>\n",
       "      <td>79.7</td>\n",
       "      <td>2.4982</td>\n",
       "      <td>6.0</td>\n",
       "      <td>391.0</td>\n",
       "      <td>19.2</td>\n",
       "      <td>396.90</td>\n",
       "      <td>14.33</td>\n",
       "    </tr>\n",
       "    <tr>\n",
       "      <th>501</th>\n",
       "      <td>0.06263</td>\n",
       "      <td>0.0</td>\n",
       "      <td>11.93</td>\n",
       "      <td>0.0</td>\n",
       "      <td>0.573</td>\n",
       "      <td>6.593</td>\n",
       "      <td>69.1</td>\n",
       "      <td>2.4786</td>\n",
       "      <td>1.0</td>\n",
       "      <td>273.0</td>\n",
       "      <td>21.0</td>\n",
       "      <td>391.99</td>\n",
       "      <td>9.67</td>\n",
       "    </tr>\n",
       "    <tr>\n",
       "      <th>502</th>\n",
       "      <td>0.04527</td>\n",
       "      <td>0.0</td>\n",
       "      <td>11.93</td>\n",
       "      <td>0.0</td>\n",
       "      <td>0.573</td>\n",
       "      <td>6.120</td>\n",
       "      <td>76.7</td>\n",
       "      <td>2.2875</td>\n",
       "      <td>1.0</td>\n",
       "      <td>273.0</td>\n",
       "      <td>21.0</td>\n",
       "      <td>396.90</td>\n",
       "      <td>9.08</td>\n",
       "    </tr>\n",
       "    <tr>\n",
       "      <th>503</th>\n",
       "      <td>0.06076</td>\n",
       "      <td>0.0</td>\n",
       "      <td>11.93</td>\n",
       "      <td>0.0</td>\n",
       "      <td>0.573</td>\n",
       "      <td>6.976</td>\n",
       "      <td>91.0</td>\n",
       "      <td>2.1675</td>\n",
       "      <td>1.0</td>\n",
       "      <td>273.0</td>\n",
       "      <td>21.0</td>\n",
       "      <td>396.90</td>\n",
       "      <td>5.64</td>\n",
       "    </tr>\n",
       "    <tr>\n",
       "      <th>504</th>\n",
       "      <td>0.10959</td>\n",
       "      <td>0.0</td>\n",
       "      <td>11.93</td>\n",
       "      <td>0.0</td>\n",
       "      <td>0.573</td>\n",
       "      <td>6.794</td>\n",
       "      <td>89.3</td>\n",
       "      <td>2.3889</td>\n",
       "      <td>1.0</td>\n",
       "      <td>273.0</td>\n",
       "      <td>21.0</td>\n",
       "      <td>393.45</td>\n",
       "      <td>6.48</td>\n",
       "    </tr>\n",
       "    <tr>\n",
       "      <th>505</th>\n",
       "      <td>0.04741</td>\n",
       "      <td>0.0</td>\n",
       "      <td>11.93</td>\n",
       "      <td>0.0</td>\n",
       "      <td>0.573</td>\n",
       "      <td>6.030</td>\n",
       "      <td>80.8</td>\n",
       "      <td>2.5050</td>\n",
       "      <td>1.0</td>\n",
       "      <td>273.0</td>\n",
       "      <td>21.0</td>\n",
       "      <td>396.90</td>\n",
       "      <td>7.88</td>\n",
       "    </tr>\n",
       "  </tbody>\n",
       "</table>\n",
       "<p>506 rows × 13 columns</p>\n",
       "</div>"
      ],
      "text/plain": [
       "           0     1      2    3      4      5      6       7     8      9   \\\n",
       "0     0.00632  18.0   2.31  0.0  0.538  6.575   65.2  4.0900   1.0  296.0   \n",
       "1     0.02731   0.0   7.07  0.0  0.469  6.421   78.9  4.9671   2.0  242.0   \n",
       "2     0.02729   0.0   7.07  0.0  0.469  7.185   61.1  4.9671   2.0  242.0   \n",
       "3     0.03237   0.0   2.18  0.0  0.458  6.998   45.8  6.0622   3.0  222.0   \n",
       "4     0.06905   0.0   2.18  0.0  0.458  7.147   54.2  6.0622   3.0  222.0   \n",
       "5     0.02985   0.0   2.18  0.0  0.458  6.430   58.7  6.0622   3.0  222.0   \n",
       "6     0.08829  12.5   7.87  0.0  0.524  6.012   66.6  5.5605   5.0  311.0   \n",
       "7     0.14455  12.5   7.87  0.0  0.524  6.172   96.1  5.9505   5.0  311.0   \n",
       "8     0.21124  12.5   7.87  0.0  0.524  5.631  100.0  6.0821   5.0  311.0   \n",
       "9     0.17004  12.5   7.87  0.0  0.524  6.004   85.9  6.5921   5.0  311.0   \n",
       "10    0.22489  12.5   7.87  0.0  0.524  6.377   94.3  6.3467   5.0  311.0   \n",
       "11    0.11747  12.5   7.87  0.0  0.524  6.009   82.9  6.2267   5.0  311.0   \n",
       "12    0.09378  12.5   7.87  0.0  0.524  5.889   39.0  5.4509   5.0  311.0   \n",
       "13    0.62976   0.0   8.14  0.0  0.538  5.949   61.8  4.7075   4.0  307.0   \n",
       "14    0.63796   0.0   8.14  0.0  0.538  6.096   84.5  4.4619   4.0  307.0   \n",
       "15    0.62739   0.0   8.14  0.0  0.538  5.834   56.5  4.4986   4.0  307.0   \n",
       "16    1.05393   0.0   8.14  0.0  0.538  5.935   29.3  4.4986   4.0  307.0   \n",
       "17    0.78420   0.0   8.14  0.0  0.538  5.990   81.7  4.2579   4.0  307.0   \n",
       "18    0.80271   0.0   8.14  0.0  0.538  5.456   36.6  3.7965   4.0  307.0   \n",
       "19    0.72580   0.0   8.14  0.0  0.538  5.727   69.5  3.7965   4.0  307.0   \n",
       "20    1.25179   0.0   8.14  0.0  0.538  5.570   98.1  3.7979   4.0  307.0   \n",
       "21    0.85204   0.0   8.14  0.0  0.538  5.965   89.2  4.0123   4.0  307.0   \n",
       "22    1.23247   0.0   8.14  0.0  0.538  6.142   91.7  3.9769   4.0  307.0   \n",
       "23    0.98843   0.0   8.14  0.0  0.538  5.813  100.0  4.0952   4.0  307.0   \n",
       "24    0.75026   0.0   8.14  0.0  0.538  5.924   94.1  4.3996   4.0  307.0   \n",
       "25    0.84054   0.0   8.14  0.0  0.538  5.599   85.7  4.4546   4.0  307.0   \n",
       "26    0.67191   0.0   8.14  0.0  0.538  5.813   90.3  4.6820   4.0  307.0   \n",
       "27    0.95577   0.0   8.14  0.0  0.538  6.047   88.8  4.4534   4.0  307.0   \n",
       "28    0.77299   0.0   8.14  0.0  0.538  6.495   94.4  4.4547   4.0  307.0   \n",
       "29    1.00245   0.0   8.14  0.0  0.538  6.674   87.3  4.2390   4.0  307.0   \n",
       "..        ...   ...    ...  ...    ...    ...    ...     ...   ...    ...   \n",
       "476   4.87141   0.0  18.10  0.0  0.614  6.484   93.6  2.3053  24.0  666.0   \n",
       "477  15.02340   0.0  18.10  0.0  0.614  5.304   97.3  2.1007  24.0  666.0   \n",
       "478  10.23300   0.0  18.10  0.0  0.614  6.185   96.7  2.1705  24.0  666.0   \n",
       "479  14.33370   0.0  18.10  0.0  0.614  6.229   88.0  1.9512  24.0  666.0   \n",
       "480   5.82401   0.0  18.10  0.0  0.532  6.242   64.7  3.4242  24.0  666.0   \n",
       "481   5.70818   0.0  18.10  0.0  0.532  6.750   74.9  3.3317  24.0  666.0   \n",
       "482   5.73116   0.0  18.10  0.0  0.532  7.061   77.0  3.4106  24.0  666.0   \n",
       "483   2.81838   0.0  18.10  0.0  0.532  5.762   40.3  4.0983  24.0  666.0   \n",
       "484   2.37857   0.0  18.10  0.0  0.583  5.871   41.9  3.7240  24.0  666.0   \n",
       "485   3.67367   0.0  18.10  0.0  0.583  6.312   51.9  3.9917  24.0  666.0   \n",
       "486   5.69175   0.0  18.10  0.0  0.583  6.114   79.8  3.5459  24.0  666.0   \n",
       "487   4.83567   0.0  18.10  0.0  0.583  5.905   53.2  3.1523  24.0  666.0   \n",
       "488   0.15086   0.0  27.74  0.0  0.609  5.454   92.7  1.8209   4.0  711.0   \n",
       "489   0.18337   0.0  27.74  0.0  0.609  5.414   98.3  1.7554   4.0  711.0   \n",
       "490   0.20746   0.0  27.74  0.0  0.609  5.093   98.0  1.8226   4.0  711.0   \n",
       "491   0.10574   0.0  27.74  0.0  0.609  5.983   98.8  1.8681   4.0  711.0   \n",
       "492   0.11132   0.0  27.74  0.0  0.609  5.983   83.5  2.1099   4.0  711.0   \n",
       "493   0.17331   0.0   9.69  0.0  0.585  5.707   54.0  2.3817   6.0  391.0   \n",
       "494   0.27957   0.0   9.69  0.0  0.585  5.926   42.6  2.3817   6.0  391.0   \n",
       "495   0.17899   0.0   9.69  0.0  0.585  5.670   28.8  2.7986   6.0  391.0   \n",
       "496   0.28960   0.0   9.69  0.0  0.585  5.390   72.9  2.7986   6.0  391.0   \n",
       "497   0.26838   0.0   9.69  0.0  0.585  5.794   70.6  2.8927   6.0  391.0   \n",
       "498   0.23912   0.0   9.69  0.0  0.585  6.019   65.3  2.4091   6.0  391.0   \n",
       "499   0.17783   0.0   9.69  0.0  0.585  5.569   73.5  2.3999   6.0  391.0   \n",
       "500   0.22438   0.0   9.69  0.0  0.585  6.027   79.7  2.4982   6.0  391.0   \n",
       "501   0.06263   0.0  11.93  0.0  0.573  6.593   69.1  2.4786   1.0  273.0   \n",
       "502   0.04527   0.0  11.93  0.0  0.573  6.120   76.7  2.2875   1.0  273.0   \n",
       "503   0.06076   0.0  11.93  0.0  0.573  6.976   91.0  2.1675   1.0  273.0   \n",
       "504   0.10959   0.0  11.93  0.0  0.573  6.794   89.3  2.3889   1.0  273.0   \n",
       "505   0.04741   0.0  11.93  0.0  0.573  6.030   80.8  2.5050   1.0  273.0   \n",
       "\n",
       "       10      11     12  \n",
       "0    15.3  396.90   4.98  \n",
       "1    17.8  396.90   9.14  \n",
       "2    17.8  392.83   4.03  \n",
       "3    18.7  394.63   2.94  \n",
       "4    18.7  396.90   5.33  \n",
       "5    18.7  394.12   5.21  \n",
       "6    15.2  395.60  12.43  \n",
       "7    15.2  396.90  19.15  \n",
       "8    15.2  386.63  29.93  \n",
       "9    15.2  386.71  17.10  \n",
       "10   15.2  392.52  20.45  \n",
       "11   15.2  396.90  13.27  \n",
       "12   15.2  390.50  15.71  \n",
       "13   21.0  396.90   8.26  \n",
       "14   21.0  380.02  10.26  \n",
       "15   21.0  395.62   8.47  \n",
       "16   21.0  386.85   6.58  \n",
       "17   21.0  386.75  14.67  \n",
       "18   21.0  288.99  11.69  \n",
       "19   21.0  390.95  11.28  \n",
       "20   21.0  376.57  21.02  \n",
       "21   21.0  392.53  13.83  \n",
       "22   21.0  396.90  18.72  \n",
       "23   21.0  394.54  19.88  \n",
       "24   21.0  394.33  16.30  \n",
       "25   21.0  303.42  16.51  \n",
       "26   21.0  376.88  14.81  \n",
       "27   21.0  306.38  17.28  \n",
       "28   21.0  387.94  12.80  \n",
       "29   21.0  380.23  11.98  \n",
       "..    ...     ...    ...  \n",
       "476  20.2  396.21  18.68  \n",
       "477  20.2  349.48  24.91  \n",
       "478  20.2  379.70  18.03  \n",
       "479  20.2  383.32  13.11  \n",
       "480  20.2  396.90  10.74  \n",
       "481  20.2  393.07   7.74  \n",
       "482  20.2  395.28   7.01  \n",
       "483  20.2  392.92  10.42  \n",
       "484  20.2  370.73  13.34  \n",
       "485  20.2  388.62  10.58  \n",
       "486  20.2  392.68  14.98  \n",
       "487  20.2  388.22  11.45  \n",
       "488  20.1  395.09  18.06  \n",
       "489  20.1  344.05  23.97  \n",
       "490  20.1  318.43  29.68  \n",
       "491  20.1  390.11  18.07  \n",
       "492  20.1  396.90  13.35  \n",
       "493  19.2  396.90  12.01  \n",
       "494  19.2  396.90  13.59  \n",
       "495  19.2  393.29  17.60  \n",
       "496  19.2  396.90  21.14  \n",
       "497  19.2  396.90  14.10  \n",
       "498  19.2  396.90  12.92  \n",
       "499  19.2  395.77  15.10  \n",
       "500  19.2  396.90  14.33  \n",
       "501  21.0  391.99   9.67  \n",
       "502  21.0  396.90   9.08  \n",
       "503  21.0  396.90   5.64  \n",
       "504  21.0  393.45   6.48  \n",
       "505  21.0  396.90   7.88  \n",
       "\n",
       "[506 rows x 13 columns]"
      ]
     },
     "execution_count": 18,
     "metadata": {},
     "output_type": "execute_result"
    }
   ],
   "source": [
    "X, _ = load_boston(return_X_y=True)\n",
    "pd.DataFrame(X)"
   ]
  },
  {
   "cell_type": "code",
   "execution_count": 19,
   "metadata": {},
   "outputs": [
    {
     "data": {
      "text/html": [
       "<div>\n",
       "<style scoped>\n",
       "    .dataframe tbody tr th:only-of-type {\n",
       "        vertical-align: middle;\n",
       "    }\n",
       "\n",
       "    .dataframe tbody tr th {\n",
       "        vertical-align: top;\n",
       "    }\n",
       "\n",
       "    .dataframe thead th {\n",
       "        text-align: right;\n",
       "    }\n",
       "</style>\n",
       "<table border=\"1\" class=\"dataframe\">\n",
       "  <thead>\n",
       "    <tr style=\"text-align: right;\">\n",
       "      <th></th>\n",
       "      <th>0</th>\n",
       "      <th>1</th>\n",
       "      <th>2</th>\n",
       "      <th>3</th>\n",
       "      <th>4</th>\n",
       "      <th>5</th>\n",
       "      <th>6</th>\n",
       "      <th>7</th>\n",
       "      <th>8</th>\n",
       "      <th>9</th>\n",
       "      <th>10</th>\n",
       "      <th>11</th>\n",
       "      <th>12</th>\n",
       "    </tr>\n",
       "  </thead>\n",
       "  <tbody>\n",
       "    <tr>\n",
       "      <th>0</th>\n",
       "      <td>9.32909</td>\n",
       "      <td>0.0</td>\n",
       "      <td>18.10</td>\n",
       "      <td>0.0</td>\n",
       "      <td>0.7130</td>\n",
       "      <td>6.185</td>\n",
       "      <td>98.7</td>\n",
       "      <td>2.2616</td>\n",
       "      <td>24.0</td>\n",
       "      <td>666.0</td>\n",
       "      <td>20.2</td>\n",
       "      <td>396.90</td>\n",
       "      <td>18.13</td>\n",
       "    </tr>\n",
       "    <tr>\n",
       "      <th>1</th>\n",
       "      <td>0.01951</td>\n",
       "      <td>17.5</td>\n",
       "      <td>1.38</td>\n",
       "      <td>0.0</td>\n",
       "      <td>0.4161</td>\n",
       "      <td>7.104</td>\n",
       "      <td>59.5</td>\n",
       "      <td>9.2229</td>\n",
       "      <td>3.0</td>\n",
       "      <td>216.0</td>\n",
       "      <td>18.6</td>\n",
       "      <td>393.24</td>\n",
       "      <td>8.05</td>\n",
       "    </tr>\n",
       "    <tr>\n",
       "      <th>2</th>\n",
       "      <td>9.33889</td>\n",
       "      <td>0.0</td>\n",
       "      <td>18.10</td>\n",
       "      <td>0.0</td>\n",
       "      <td>0.6790</td>\n",
       "      <td>6.380</td>\n",
       "      <td>95.6</td>\n",
       "      <td>1.9682</td>\n",
       "      <td>24.0</td>\n",
       "      <td>666.0</td>\n",
       "      <td>20.2</td>\n",
       "      <td>60.72</td>\n",
       "      <td>24.08</td>\n",
       "    </tr>\n",
       "    <tr>\n",
       "      <th>3</th>\n",
       "      <td>0.62976</td>\n",
       "      <td>0.0</td>\n",
       "      <td>8.14</td>\n",
       "      <td>0.0</td>\n",
       "      <td>0.5380</td>\n",
       "      <td>5.949</td>\n",
       "      <td>61.8</td>\n",
       "      <td>4.7075</td>\n",
       "      <td>4.0</td>\n",
       "      <td>307.0</td>\n",
       "      <td>21.0</td>\n",
       "      <td>396.90</td>\n",
       "      <td>8.26</td>\n",
       "    </tr>\n",
       "    <tr>\n",
       "      <th>4</th>\n",
       "      <td>0.27957</td>\n",
       "      <td>0.0</td>\n",
       "      <td>9.69</td>\n",
       "      <td>0.0</td>\n",
       "      <td>0.5850</td>\n",
       "      <td>5.926</td>\n",
       "      <td>42.6</td>\n",
       "      <td>2.3817</td>\n",
       "      <td>6.0</td>\n",
       "      <td>391.0</td>\n",
       "      <td>19.2</td>\n",
       "      <td>396.90</td>\n",
       "      <td>13.59</td>\n",
       "    </tr>\n",
       "  </tbody>\n",
       "</table>\n",
       "</div>"
      ],
      "text/plain": [
       "        0     1      2    3       4      5     6       7     8      9     10  \\\n",
       "0  9.32909   0.0  18.10  0.0  0.7130  6.185  98.7  2.2616  24.0  666.0  20.2   \n",
       "1  0.01951  17.5   1.38  0.0  0.4161  7.104  59.5  9.2229   3.0  216.0  18.6   \n",
       "2  9.33889   0.0  18.10  0.0  0.6790  6.380  95.6  1.9682  24.0  666.0  20.2   \n",
       "3  0.62976   0.0   8.14  0.0  0.5380  5.949  61.8  4.7075   4.0  307.0  21.0   \n",
       "4  0.27957   0.0   9.69  0.0  0.5850  5.926  42.6  2.3817   6.0  391.0  19.2   \n",
       "\n",
       "       11     12  \n",
       "0  396.90  18.13  \n",
       "1  393.24   8.05  \n",
       "2   60.72  24.08  \n",
       "3  396.90   8.26  \n",
       "4  396.90  13.59  "
      ]
     },
     "execution_count": 19,
     "metadata": {},
     "output_type": "execute_result"
    }
   ],
   "source": [
    "tmp = X[np.random.choice(X.shape[0], 5, replace=False)]\n",
    "pd.DataFrame(tmp)"
   ]
  },
  {
   "cell_type": "code",
   "execution_count": 20,
   "metadata": {},
   "outputs": [
    {
     "name": "stdout",
     "output_type": "stream",
     "text": [
      "9.32909 & 0 & 18.1 & 0 & 0.713 & 6.185 & 98.7 & 2.2616 & 24 & 666 & 20.2 & 396.9 & 18.13\n",
      "0.01951 & 17.5 & 1.38 & 0 & 0.4161 & 7.104 & 59.5 & 9.2229 & 3 & 216 & 18.6 & 393.24 & 8.05\n",
      "9.33889 & 0 & 18.1 & 0 & 0.679 & 6.38 & 95.6 & 1.9682 & 24 & 666 & 20.2 & 60.72 & 24.08\n",
      "0.62976 & 0 & 8.14 & 0 & 0.538 & 5.949 & 61.8 & 4.7075 & 4 & 307 & 21 & 396.9 & 8.26\n",
      "0.27957 & 0 & 9.69 & 0 & 0.585 & 5.926 & 42.6 & 2.3817 & 6 & 391 & 19.2 & 396.9 & 13.59\n"
     ]
    }
   ],
   "source": [
    "np.savetxt(X=tmp, delimiter=\" & \",fname=sys.stdout, fmt=\"%.9g\", comments='')"
   ]
  },
  {
   "cell_type": "code",
   "execution_count": 22,
   "metadata": {},
   "outputs": [
    {
     "data": {
      "text/plain": [
       "(array([471.,   0.,   0.,   0.,   0.,   0.,   0.,   0.,   0.,   0.,   0.,\n",
       "          0.,   0.,   0.,   0.,   0.,   0.,   0.,   0.,  35.]),\n",
       " array([0.  , 0.05, 0.1 , 0.15, 0.2 , 0.25, 0.3 , 0.35, 0.4 , 0.45, 0.5 ,\n",
       "        0.55, 0.6 , 0.65, 0.7 , 0.75, 0.8 , 0.85, 0.9 , 0.95, 1.  ]),\n",
       " <a list of 20 Patch objects>)"
      ]
     },
     "execution_count": 22,
     "metadata": {},
     "output_type": "execute_result"
    },
    {
     "data": {
      "image/png": "[encoded data removed]",
      "text/plain": [
       "<matplotlib.figure.Figure at 0x7f7c78a0f978>"
      ]
     },
     "metadata": {},
     "output_type": "display_data"
    }
   ],
   "source": [
    "plt.hist(X[:,3], bins=20)"
   ]
  },
  {
   "cell_type": "code",
   "execution_count": 23,
   "metadata": {},
   "outputs": [
    {
     "data": {
      "text/plain": [
       "13.457142857142857"
      ]
     },
     "execution_count": 23,
     "metadata": {},
     "output_type": "execute_result"
    }
   ],
   "source": [
    "471/35"
   ]
  },
  {
   "cell_type": "markdown",
   "metadata": {},
   "source": [
    "Generate MCAR, MAR, and NMAR datasets for testing"
   ]
  },
  {
   "cell_type": "code",
   "execution_count": 221,
   "metadata": {
    "collapsed": true
   },
   "outputs": [],
   "source": [
    "X, _ = load_boston(return_X_y=True)"
   ]
  },
  {
   "cell_type": "code",
   "execution_count": 27,
   "metadata": {
    "collapsed": true
   },
   "outputs": [],
   "source": [
    "def generate_MCAR(percentage, data):\n",
    "    mask = np.random.rand(*X.shape) <= i/100\n",
    "    missing_data = data.copy()\n",
    "    missing_data[mask] = np.nan\n",
    "    \n",
    "    return missing_data"
   ]
  },
  {
   "cell_type": "code",
   "execution_count": 177,
   "metadata": {
    "scrolled": true
   },
   "outputs": [],
   "source": [
    "def generate_MAR(percentage, data):\n",
    "    N, D = data.shape\n",
    "    missing_data = data.copy()\n",
    "    \n",
    "    # randomly choose floor(D/5) columns as controlling\n",
    "    rate = np.floor(D/5)\n",
    "    control = random.sample(set(range(D)), int(rate))\n",
    "    non_control = list(set(range(D)) - set(control))\n",
    "    \n",
    "    sums = np.sum(data[:, control], axis=1)\n",
    "    for n in np.argsort(sums)[0:int(1/(1 - rate/D)*np.sqrt(percentage/100)*N)]:            \n",
    "        \n",
    "        for d in non_control:\n",
    "            if np.random.rand(1) <= np.sqrt(percentage/100):\n",
    "                missing_data[n, d] = np.nan\n",
    "                    \n",
    "    return missing_data"
   ]
  },
  {
   "cell_type": "code",
   "execution_count": 196,
   "metadata": {
    "collapsed": true
   },
   "outputs": [],
   "source": [
    "def generate_NMAR(percentage, data):\n",
    "    N, D = data.shape\n",
    "    missing_data = data.copy()\n",
    "    \n",
    "    # randomly choose floor(D/5) columns as controlling\n",
    "    rate = np.floor(D*np.sqrt(percentage/100))\n",
    "    control = random.sample(set(range(D)), int(rate))\n",
    "    \n",
    "    for d in control:\n",
    "        \n",
    "        for n in np.argsort(data[:, d])[0:int(np.sqrt(percentage/100)*N)]:\n",
    "            missing_data[n, d] = np.nan\n",
    "            \n",
    "    return missing_data"
   ]
  },
  {
   "cell_type": "code",
   "execution_count": 216,
   "metadata": {},
   "outputs": [],
   "source": [
    "for dataset, loader in [(\"boston\", load_boston), (\"iris\", load_iris)]:\n",
    "    X, _ = loader(return_X_y=True)\n",
    "    for mtype, fun in [(\"NMAR\", generate_NMAR), (\"MAR\", generate_MAR), (\"MCAR\", generate_MCAR)]:\n",
    "        for perc in [10, 20, 30, 40, 50]:\n",
    "            for i in range(10):\n",
    "                np.savetxt(X=fun(perc, X), delimiter=\",\",fname=\"../data/report/%s_%s_%s_%s.csv\" % (dataset, perc, mtype, i), fmt=\"%.9g\")"
   ]
  },
  {
   "cell_type": "code",
   "execution_count": 257,
   "metadata": {},
   "outputs": [
    {
     "data": {
      "text/plain": [
       "(506, 13)"
      ]
     },
     "execution_count": 257,
     "metadata": {},
     "output_type": "execute_result"
    }
   ],
   "source": [
    "np.loadtxt(fname=\"../data/report/boston_10_NMAR_1_mf.csv\",delimiter=\",\").shape"
   ]
  },
  {
   "cell_type": "code",
   "execution_count": 259,
   "metadata": {},
   "outputs": [],
   "source": [
    "for dataset, loader in [(\"boston\", load_boston), (\"iris\", load_iris)]:\n",
    "    X, _ = loader(return_X_y=True)\n",
    "    for mtype in [\"NMAR\", \"MAR\", \"MCAR\"]:\n",
    "        to_write = []\n",
    "        for perc in [10, 20, 30, 40, 50]:\n",
    "            rmses = []\n",
    "            for i in range(10):\n",
    "                fname = \"../data/report/%s_%s_%s_%s_mf.csv\" % (dataset, perc, mtype, i)\n",
    "                test = np.loadtxt(fname=fname,delimiter=\",\")\n",
    "                rmses.append(np.sqrt(np.mean((test - X)**2)))\n",
    "            \n",
    "            mean_rmse = np.mean(rmses)\n",
    "            std_rmse = np.std(rmses)\n",
    "            to_write.append([perc, mean_rmse, std_rmse])\n",
    "            \n",
    "        to_write = np.array(to_write)\n",
    "        np.savetxt(X=to_write, header=\"p,m,s\", comments=\"\", delimiter=\",\",\n",
    "                   fname=\"../../MphilACS-dissertation/evaluation/mf_%s_%s.csv\" % (dataset, mtype), fmt=\"%.9g\")"
   ]
  },
  {
   "cell_type": "code",
   "execution_count": 296,
   "metadata": {
    "collapsed": true
   },
   "outputs": [],
   "source": [
    "def run_GMM_on_file(fname, normalise=True):\n",
    "    # load dataset\n",
    "    X = np.loadtxt(fname=fname,delimiter=\",\")\n",
    "    mask = np.isnan(X)\n",
    "    masked_X = ma.masked_array(X, mask)\n",
    "    if normalise:\n",
    "        mean = ma.mean(masked_X, axis=0)\n",
    "        std = ma.std(masked_X, axis=0)\n",
    "        masked_X = (masked_X - mean)/std\n",
    "            \n",
    "    model = GMM(masked_X,num_components=3, verbose=True, independent_vars=False, W0=np.eye(X.shape[1]))\n",
    "    if hasattr(model, 'fit'):\n",
    "            model.fit(max_iters=100, ϵ=0.01)\n",
    "            \n",
    "    imputed_X = model.ml_imputation()\n",
    "    if normalise:\n",
    "        imputed_X = imputed_X*std + mean\n",
    "        \n",
    "    return imputed_X "
   ]
  },
  {
   "cell_type": "code",
   "execution_count": 297,
   "metadata": {
    "scrolled": true
   },
   "outputs": [
    {
     "name": "stderr",
     "output_type": "stream",
     "text": [
      "Fitting GMM using EM algorithm (MAP estimate):\n",
      "../auto_impute/gmm.py:252: RuntimeWarning: divide by zero encountered in log\n",
      "  self.lls = np.log(self.lls)\n",
      "Iter: 0\t\t\tAvg LL: 1.053510\n",
      "Iter: 1\t\t\tAvg LL: 1.363387\n"
     ]
    }
   ],
   "source": [
    "foo = run_GMM_on_file(\"../data/report/boston_10_NMAR_1.csv\")"
   ]
  },
  {
   "cell_type": "code",
   "execution_count": 300,
   "metadata": {},
   "outputs": [
    {
     "name": "stdout",
     "output_type": "stream",
     "text": [
      "10\n",
      "0\n"
     ]
    },
    {
     "name": "stderr",
     "output_type": "stream",
     "text": [
      "Fitting GMM using EM algorithm (MAP estimate):\n",
      "Iter: 0\t\t\tAvg LL: 0.482808\n",
      "Iter: 1\t\t\tAvg LL: 0.718320\n"
     ]
    },
    {
     "name": "stdout",
     "output_type": "stream",
     "text": [
      "1\n"
     ]
    },
    {
     "name": "stderr",
     "output_type": "stream",
     "text": [
      "Fitting GMM using EM algorithm (MAP estimate):\n",
      "Iter: 0\t\t\tAvg LL: 0.958140\n"
     ]
    },
    {
     "name": "stdout",
     "output_type": "stream",
     "text": [
      "2\n"
     ]
    },
    {
     "name": "stderr",
     "output_type": "stream",
     "text": [
      "Fitting GMM using EM algorithm (MAP estimate):\n",
      "Iter: 0\t\t\tAvg LL: 0.843013\n",
      "Iter: 1\t\t\tAvg LL: 0.915422\n",
      "Iter: 2\t\t\tAvg LL: 1.061232\n"
     ]
    },
    {
     "name": "stdout",
     "output_type": "stream",
     "text": [
      "3\n"
     ]
    },
    {
     "name": "stderr",
     "output_type": "stream",
     "text": [
      "Fitting GMM using EM algorithm (MAP estimate):\n",
      "Iter: 0\t\t\tAvg LL: 0.029016\n",
      "Iter: 1\t\t\tAvg LL: 0.304438\n"
     ]
    },
    {
     "name": "stdout",
     "output_type": "stream",
     "text": [
      "4\n"
     ]
    },
    {
     "name": "stderr",
     "output_type": "stream",
     "text": [
      "Fitting GMM using EM algorithm (MAP estimate):\n",
      "Iter: 0\t\t\tAvg LL: 0.641689\n"
     ]
    },
    {
     "name": "stdout",
     "output_type": "stream",
     "text": [
      "5\n"
     ]
    },
    {
     "name": "stderr",
     "output_type": "stream",
     "text": [
      "Fitting GMM using EM algorithm (MAP estimate):\n",
      "Iter: 0\t\t\tAvg LL: 0.353518\n",
      "Iter: 1\t\t\tAvg LL: 0.362372\n",
      "Iter: 2\t\t\tAvg LL: 0.373474\n"
     ]
    },
    {
     "name": "stdout",
     "output_type": "stream",
     "text": [
      "6\n"
     ]
    },
    {
     "name": "stderr",
     "output_type": "stream",
     "text": [
      "Fitting GMM using EM algorithm (MAP estimate):\n",
      "Iter: 0\t\t\tAvg LL: 0.576968\n",
      "Iter: 1\t\t\tAvg LL: 0.788956\n"
     ]
    },
    {
     "name": "stdout",
     "output_type": "stream",
     "text": [
      "7\n"
     ]
    },
    {
     "name": "stderr",
     "output_type": "stream",
     "text": [
      "Fitting GMM using EM algorithm (MAP estimate):\n",
      "Iter: 0\t\t\tAvg LL: 0.945525\n",
      "Iter: 1\t\t\tAvg LL: 1.012755\n"
     ]
    },
    {
     "name": "stdout",
     "output_type": "stream",
     "text": [
      "8\n"
     ]
    },
    {
     "name": "stderr",
     "output_type": "stream",
     "text": [
      "Fitting GMM using EM algorithm (MAP estimate):\n",
      "Iter: 0\t\t\tAvg LL: 0.329254\n",
      "Iter: 1\t\t\tAvg LL: 0.496734\n"
     ]
    },
    {
     "name": "stdout",
     "output_type": "stream",
     "text": [
      "9\n"
     ]
    },
    {
     "name": "stderr",
     "output_type": "stream",
     "text": [
      "Fitting GMM using EM algorithm (MAP estimate):\n",
      "Iter: 0\t\t\tAvg LL: 0.490216\n"
     ]
    },
    {
     "name": "stdout",
     "output_type": "stream",
     "text": [
      "20\n",
      "0\n"
     ]
    },
    {
     "name": "stderr",
     "output_type": "stream",
     "text": [
      "Fitting GMM using EM algorithm (MAP estimate):\n",
      "Iter: 0\t\t\tAvg LL: 0.018584\n",
      "Iter: 1\t\t\tAvg LL: 0.327026\n"
     ]
    },
    {
     "name": "stdout",
     "output_type": "stream",
     "text": [
      "1\n"
     ]
    },
    {
     "name": "stderr",
     "output_type": "stream",
     "text": [
      "Fitting GMM using EM algorithm (MAP estimate):\n",
      "Iter: 0\t\t\tAvg LL: 0.320564\n",
      "Iter: 1\t\t\tAvg LL: 0.542834\n",
      "Iter: 2\t\t\tAvg LL: 0.651472\n"
     ]
    },
    {
     "name": "stdout",
     "output_type": "stream",
     "text": [
      "2\n"
     ]
    },
    {
     "name": "stderr",
     "output_type": "stream",
     "text": [
      "Fitting GMM using EM algorithm (MAP estimate):\n",
      "Iter: 0\t\t\tAvg LL: 0.122580\n",
      "Iter: 1\t\t\tAvg LL: 0.411001\n"
     ]
    },
    {
     "name": "stdout",
     "output_type": "stream",
     "text": [
      "3\n"
     ]
    },
    {
     "name": "stderr",
     "output_type": "stream",
     "text": [
      "Fitting GMM using EM algorithm (MAP estimate):\n",
      "Iter: 0\t\t\tAvg LL: 0.725770\n"
     ]
    },
    {
     "name": "stdout",
     "output_type": "stream",
     "text": [
      "4\n"
     ]
    },
    {
     "name": "stderr",
     "output_type": "stream",
     "text": [
      "Fitting GMM using EM algorithm (MAP estimate):\n",
      "Iter: 0\t\t\tAvg LL: 0.182047\n"
     ]
    },
    {
     "name": "stdout",
     "output_type": "stream",
     "text": [
      "5\n"
     ]
    },
    {
     "name": "stderr",
     "output_type": "stream",
     "text": [
      "Fitting GMM using EM algorithm (MAP estimate):\n",
      "Iter: 0\t\t\tAvg LL: 0.859987\n"
     ]
    },
    {
     "name": "stdout",
     "output_type": "stream",
     "text": [
      "6\n"
     ]
    },
    {
     "name": "stderr",
     "output_type": "stream",
     "text": [
      "Fitting GMM using EM algorithm (MAP estimate):\n",
      "Iter: 0\t\t\tAvg LL: 0.725608\n"
     ]
    },
    {
     "name": "stdout",
     "output_type": "stream",
     "text": [
      "7\n"
     ]
    },
    {
     "name": "stderr",
     "output_type": "stream",
     "text": [
      "Fitting GMM using EM algorithm (MAP estimate):\n",
      "Iter: 0\t\t\tAvg LL: 0.652587\n",
      "Iter: 1\t\t\tAvg LL: 0.716324\n"
     ]
    },
    {
     "name": "stdout",
     "output_type": "stream",
     "text": [
      "8\n"
     ]
    },
    {
     "name": "stderr",
     "output_type": "stream",
     "text": [
      "Fitting GMM using EM algorithm (MAP estimate):\n",
      "Iter: 0\t\t\tAvg LL: 0.443503\n",
      "Iter: 1\t\t\tAvg LL: 0.572140\n"
     ]
    },
    {
     "name": "stdout",
     "output_type": "stream",
     "text": [
      "9\n"
     ]
    },
    {
     "name": "stderr",
     "output_type": "stream",
     "text": [
      "Fitting GMM using EM algorithm (MAP estimate):\n",
      "Iter: 0\t\t\tAvg LL: 0.800165\n",
      "Iter: 1\t\t\tAvg LL: 0.885669\n",
      "Iter: 2\t\t\tAvg LL: 1.296315\n"
     ]
    },
    {
     "name": "stdout",
     "output_type": "stream",
     "text": [
      "30\n",
      "0\n"
     ]
    },
    {
     "name": "stderr",
     "output_type": "stream",
     "text": [
      "Fitting GMM using EM algorithm (MAP estimate):\n",
      "Iter: 0\t\t\tAvg LL: 0.968755\n"
     ]
    },
    {
     "name": "stdout",
     "output_type": "stream",
     "text": [
      "1\n"
     ]
    },
    {
     "name": "stderr",
     "output_type": "stream",
     "text": [
      "Fitting GMM using EM algorithm (MAP estimate):\n",
      "Iter: 0\t\t\tAvg LL: 0.433228\n"
     ]
    },
    {
     "name": "stdout",
     "output_type": "stream",
     "text": [
      "2\n"
     ]
    },
    {
     "name": "stderr",
     "output_type": "stream",
     "text": [
      "Fitting GMM using EM algorithm (MAP estimate):\n",
      "Iter: 0\t\t\tAvg LL: 0.534355\n",
      "Iter: 1\t\t\tAvg LL: 0.663219\n"
     ]
    },
    {
     "name": "stdout",
     "output_type": "stream",
     "text": [
      "3\n"
     ]
    },
    {
     "name": "stderr",
     "output_type": "stream",
     "text": [
      "Fitting GMM using EM algorithm (MAP estimate):\n",
      "Iter: 0\t\t\tAvg LL: 0.573520\n",
      "Iter: 1\t\t\tAvg LL: 0.654575\n"
     ]
    },
    {
     "name": "stdout",
     "output_type": "stream",
     "text": [
      "4\n"
     ]
    },
    {
     "name": "stderr",
     "output_type": "stream",
     "text": [
      "Fitting GMM using EM algorithm (MAP estimate):\n",
      "Iter: 0\t\t\tAvg LL: 0.473661\n",
      "Iter: 1\t\t\tAvg LL: 0.624408\n",
      "Iter: 2\t\t\tAvg LL: 0.858784\n",
      "Iter: 3\t\t\tAvg LL: 0.870621\n",
      "Iter: 4\t\t\tAvg LL: 0.894493\n",
      "Iter: 5\t\t\tAvg LL: 0.928397\n",
      "Iter: 6\t\t\tAvg LL: 0.934369\n",
      "Iter: 7\t\t\tAvg LL: 0.948754\n",
      "Iter: 8\t\t\tAvg LL: 0.951805\n"
     ]
    },
    {
     "name": "stdout",
     "output_type": "stream",
     "text": [
      "5\n"
     ]
    },
    {
     "name": "stderr",
     "output_type": "stream",
     "text": [
      "Fitting GMM using EM algorithm (MAP estimate):\n",
      "Iter: 0\t\t\tAvg LL: 0.489283\n",
      "Iter: 1\t\t\tAvg LL: 0.559108\n"
     ]
    },
    {
     "name": "stdout",
     "output_type": "stream",
     "text": [
      "6\n"
     ]
    },
    {
     "name": "stderr",
     "output_type": "stream",
     "text": [
      "Fitting GMM using EM algorithm (MAP estimate):\n",
      "Iter: 0\t\t\tAvg LL: 0.714617\n",
      "Iter: 1\t\t\tAvg LL: 0.790679\n"
     ]
    },
    {
     "name": "stdout",
     "output_type": "stream",
     "text": [
      "7\n"
     ]
    },
    {
     "name": "stderr",
     "output_type": "stream",
     "text": [
      "Fitting GMM using EM algorithm (MAP estimate):\n",
      "Iter: 0\t\t\tAvg LL: -0.000554\n",
      "Iter: 1\t\t\tAvg LL: 0.512709\n"
     ]
    },
    {
     "name": "stdout",
     "output_type": "stream",
     "text": [
      "8\n"
     ]
    },
    {
     "name": "stderr",
     "output_type": "stream",
     "text": [
      "Fitting GMM using EM algorithm (MAP estimate):\n",
      "Iter: 0\t\t\tAvg LL: 0.234117\n",
      "Iter: 1\t\t\tAvg LL: 0.541248\n"
     ]
    },
    {
     "name": "stdout",
     "output_type": "stream",
     "text": [
      "9\n"
     ]
    },
    {
     "name": "stderr",
     "output_type": "stream",
     "text": [
      "Fitting GMM using EM algorithm (MAP estimate):\n",
      "Iter: 0\t\t\tAvg LL: 0.759189\n",
      "Iter: 1\t\t\tAvg LL: 1.018369\n"
     ]
    },
    {
     "name": "stdout",
     "output_type": "stream",
     "text": [
      "40\n",
      "0\n"
     ]
    },
    {
     "name": "stderr",
     "output_type": "stream",
     "text": [
      "Fitting GMM using EM algorithm (MAP estimate):\n",
      "Iter: 0\t\t\tAvg LL: 0.913658\n",
      "Iter: 1\t\t\tAvg LL: 0.938696\n"
     ]
    },
    {
     "name": "stdout",
     "output_type": "stream",
     "text": [
      "1\n"
     ]
    },
    {
     "name": "stderr",
     "output_type": "stream",
     "text": [
      "Fitting GMM using EM algorithm (MAP estimate):\n",
      "Iter: 0\t\t\tAvg LL: 0.558164\n",
      "Iter: 1\t\t\tAvg LL: 0.827320\n",
      "Iter: 2\t\t\tAvg LL: 0.954634\n"
     ]
    },
    {
     "name": "stdout",
     "output_type": "stream",
     "text": [
      "2\n"
     ]
    },
    {
     "name": "stderr",
     "output_type": "stream",
     "text": [
      "Fitting GMM using EM algorithm (MAP estimate):\n",
      "Iter: 0\t\t\tAvg LL: 0.636265\n"
     ]
    },
    {
     "name": "stdout",
     "output_type": "stream",
     "text": [
      "3\n"
     ]
    },
    {
     "name": "stderr",
     "output_type": "stream",
     "text": [
      "Fitting GMM using EM algorithm (MAP estimate):\n",
      "Iter: 0\t\t\tAvg LL: 0.377570\n",
      "Iter: 1\t\t\tAvg LL: 1.150568\n"
     ]
    },
    {
     "name": "stdout",
     "output_type": "stream",
     "text": [
      "4\n"
     ]
    },
    {
     "name": "stderr",
     "output_type": "stream",
     "text": [
      "Fitting GMM using EM algorithm (MAP estimate):\n",
      "Iter: 0\t\t\tAvg LL: 0.440676\n",
      "Iter: 1\t\t\tAvg LL: 0.858363\n"
     ]
    },
    {
     "name": "stdout",
     "output_type": "stream",
     "text": [
      "5\n"
     ]
    },
    {
     "name": "stderr",
     "output_type": "stream",
     "text": [
      "Fitting GMM using EM algorithm (MAP estimate):\n",
      "Iter: 0\t\t\tAvg LL: 0.386567\n"
     ]
    },
    {
     "name": "stdout",
     "output_type": "stream",
     "text": [
      "6\n"
     ]
    },
    {
     "name": "stderr",
     "output_type": "stream",
     "text": [
      "Fitting GMM using EM algorithm (MAP estimate):\n",
      "Iter: 0\t\t\tAvg LL: 0.498421\n"
     ]
    },
    {
     "name": "stdout",
     "output_type": "stream",
     "text": [
      "7\n"
     ]
    },
    {
     "name": "stderr",
     "output_type": "stream",
     "text": [
      "Fitting GMM using EM algorithm (MAP estimate):\n",
      "Iter: 0\t\t\tAvg LL: 0.667118\n",
      "Iter: 1\t\t\tAvg LL: 0.690371\n",
      "Iter: 2\t\t\tAvg LL: 0.709127\n"
     ]
    },
    {
     "name": "stdout",
     "output_type": "stream",
     "text": [
      "8\n"
     ]
    },
    {
     "name": "stderr",
     "output_type": "stream",
     "text": [
      "Fitting GMM using EM algorithm (MAP estimate):\n",
      "Iter: 0\t\t\tAvg LL: 0.283474\n",
      "Iter: 1\t\t\tAvg LL: 0.870862\n"
     ]
    },
    {
     "name": "stdout",
     "output_type": "stream",
     "text": [
      "9\n"
     ]
    },
    {
     "name": "stderr",
     "output_type": "stream",
     "text": [
      "Fitting GMM using EM algorithm (MAP estimate):\n",
      "Iter: 0\t\t\tAvg LL: 0.196286\n",
      "Iter: 1\t\t\tAvg LL: 0.330962\n",
      "Iter: 2\t\t\tAvg LL: 0.411154\n"
     ]
    },
    {
     "name": "stdout",
     "output_type": "stream",
     "text": [
      "50\n",
      "0\n"
     ]
    },
    {
     "name": "stderr",
     "output_type": "stream",
     "text": [
      "Fitting GMM using EM algorithm (MAP estimate):\n",
      "Iter: 0\t\t\tAvg LL: 0.341335\n"
     ]
    },
    {
     "name": "stdout",
     "output_type": "stream",
     "text": [
      "1\n"
     ]
    },
    {
     "name": "stderr",
     "output_type": "stream",
     "text": [
      "Fitting GMM using EM algorithm (MAP estimate):\n",
      "Iter: 0\t\t\tAvg LL: 0.341130\n",
      "Iter: 1\t\t\tAvg LL: 0.466563\n"
     ]
    },
    {
     "name": "stdout",
     "output_type": "stream",
     "text": [
      "2\n"
     ]
    },
    {
     "name": "stderr",
     "output_type": "stream",
     "text": [
      "Fitting GMM using EM algorithm (MAP estimate):\n",
      "Iter: 0\t\t\tAvg LL: 0.365237\n",
      "Iter: 1\t\t\tAvg LL: 0.492612\n"
     ]
    },
    {
     "name": "stdout",
     "output_type": "stream",
     "text": [
      "3\n"
     ]
    },
    {
     "name": "stderr",
     "output_type": "stream",
     "text": [
      "Fitting GMM using EM algorithm (MAP estimate):\n",
      "Iter: 0\t\t\tAvg LL: 0.459510\n"
     ]
    },
    {
     "name": "stdout",
     "output_type": "stream",
     "text": [
      "4\n"
     ]
    },
    {
     "name": "stderr",
     "output_type": "stream",
     "text": [
      "Fitting GMM using EM algorithm (MAP estimate):\n",
      "Iter: 0\t\t\tAvg LL: 0.306546\n",
      "Iter: 1\t\t\tAvg LL: 1.097662\n"
     ]
    },
    {
     "name": "stdout",
     "output_type": "stream",
     "text": [
      "5\n"
     ]
    },
    {
     "name": "stderr",
     "output_type": "stream",
     "text": [
      "Fitting GMM using EM algorithm (MAP estimate):\n",
      "Iter: 0\t\t\tAvg LL: 0.165113\n",
      "Iter: 1\t\t\tAvg LL: 0.260573\n",
      "Iter: 2\t\t\tAvg LL: 0.307608\n",
      "Iter: 3\t\t\tAvg LL: 0.353065\n",
      "Iter: 4\t\t\tAvg LL: 0.398177\n",
      "Iter: 5\t\t\tAvg LL: 0.427556\n",
      "Iter: 6\t\t\tAvg LL: 0.450149\n",
      "Iter: 7\t\t\tAvg LL: 0.464642\n",
      "Iter: 8\t\t\tAvg LL: 0.473218\n",
      "Iter: 9\t\t\tAvg LL: 0.476826\n"
     ]
    },
    {
     "name": "stdout",
     "output_type": "stream",
     "text": [
      "6\n"
     ]
    },
    {
     "name": "stderr",
     "output_type": "stream",
     "text": [
      "Fitting GMM using EM algorithm (MAP estimate):\n",
      "Iter: 0\t\t\tAvg LL: 0.739689\n",
      "Iter: 1\t\t\tAvg LL: 1.044795\n"
     ]
    },
    {
     "name": "stdout",
     "output_type": "stream",
     "text": [
      "7\n"
     ]
    },
    {
     "name": "stderr",
     "output_type": "stream",
     "text": [
      "Fitting GMM using EM algorithm (MAP estimate):\n",
      "Iter: 0\t\t\tAvg LL: 0.718581\n"
     ]
    },
    {
     "name": "stdout",
     "output_type": "stream",
     "text": [
      "8\n"
     ]
    },
    {
     "name": "stderr",
     "output_type": "stream",
     "text": [
      "Fitting GMM using EM algorithm (MAP estimate):\n",
      "Iter: 0\t\t\tAvg LL: 0.300011\n",
      "Iter: 1\t\t\tAvg LL: 0.396998\n"
     ]
    },
    {
     "name": "stdout",
     "output_type": "stream",
     "text": [
      "9\n"
     ]
    },
    {
     "name": "stderr",
     "output_type": "stream",
     "text": [
      "Fitting GMM using EM algorithm (MAP estimate):\n",
      "Iter: 0\t\t\tAvg LL: 0.690805\n",
      "Iter: 1\t\t\tAvg LL: 0.785635\n",
      "Iter: 2\t\t\tAvg LL: 1.056785\n",
      "Iter: 3\t\t\tAvg LL: 1.082620\n",
      "Iter: 4\t\t\tAvg LL: 1.140167\n",
      "Iter: 5\t\t\tAvg LL: 1.166434\n"
     ]
    },
    {
     "name": "stdout",
     "output_type": "stream",
     "text": [
      "10\n",
      "0\n"
     ]
    },
    {
     "name": "stderr",
     "output_type": "stream",
     "text": [
      "Fitting GMM using EM algorithm (MAP estimate):\n",
      "Iter: 0\t\t\tAvg LL: 0.193721\n",
      "Iter: 1\t\t\tAvg LL: 0.457751\n"
     ]
    },
    {
     "name": "stdout",
     "output_type": "stream",
     "text": [
      "1\n"
     ]
    },
    {
     "name": "stderr",
     "output_type": "stream",
     "text": [
      "Fitting GMM using EM algorithm (MAP estimate):\n",
      "Iter: 0\t\t\tAvg LL: 0.604361\n"
     ]
    },
    {
     "name": "stdout",
     "output_type": "stream",
     "text": [
      "2\n"
     ]
    },
    {
     "name": "stderr",
     "output_type": "stream",
     "text": [
      "Fitting GMM using EM algorithm (MAP estimate):\n",
      "Iter: 0\t\t\tAvg LL: 0.570514\n"
     ]
    },
    {
     "name": "stdout",
     "output_type": "stream",
     "text": [
      "3\n"
     ]
    },
    {
     "name": "stderr",
     "output_type": "stream",
     "text": [
      "Fitting GMM using EM algorithm (MAP estimate):\n",
      "Iter: 0\t\t\tAvg LL: 0.831024\n",
      "Iter: 1\t\t\tAvg LL: 0.980647\n"
     ]
    },
    {
     "name": "stdout",
     "output_type": "stream",
     "text": [
      "4\n"
     ]
    },
    {
     "name": "stderr",
     "output_type": "stream",
     "text": [
      "Fitting GMM using EM algorithm (MAP estimate):\n",
      "Iter: 0\t\t\tAvg LL: 0.907355\n"
     ]
    },
    {
     "name": "stdout",
     "output_type": "stream",
     "text": [
      "5\n"
     ]
    },
    {
     "name": "stderr",
     "output_type": "stream",
     "text": [
      "Fitting GMM using EM algorithm (MAP estimate):\n",
      "Iter: 0\t\t\tAvg LL: 0.742867\n",
      "Iter: 1\t\t\tAvg LL: 0.879008\n",
      "Iter: 2\t\t\tAvg LL: 0.997528\n"
     ]
    },
    {
     "name": "stdout",
     "output_type": "stream",
     "text": [
      "6\n"
     ]
    },
    {
     "name": "stderr",
     "output_type": "stream",
     "text": [
      "Fitting GMM using EM algorithm (MAP estimate):\n",
      "Iter: 0\t\t\tAvg LL: 0.497765\n"
     ]
    },
    {
     "name": "stdout",
     "output_type": "stream",
     "text": [
      "7\n"
     ]
    },
    {
     "name": "stderr",
     "output_type": "stream",
     "text": [
      "Fitting GMM using EM algorithm (MAP estimate):\n",
      "Iter: 0\t\t\tAvg LL: 1.053919\n"
     ]
    },
    {
     "name": "stdout",
     "output_type": "stream",
     "text": [
      "8\n"
     ]
    },
    {
     "name": "stderr",
     "output_type": "stream",
     "text": [
      "Fitting GMM using EM algorithm (MAP estimate):\n",
      "Iter: 0\t\t\tAvg LL: 0.778022\n"
     ]
    },
    {
     "name": "stdout",
     "output_type": "stream",
     "text": [
      "9\n"
     ]
    },
    {
     "name": "stderr",
     "output_type": "stream",
     "text": [
      "Fitting GMM using EM algorithm (MAP estimate):\n",
      "Iter: 0\t\t\tAvg LL: 0.971710\n"
     ]
    },
    {
     "name": "stdout",
     "output_type": "stream",
     "text": [
      "20\n",
      "0\n"
     ]
    },
    {
     "name": "stderr",
     "output_type": "stream",
     "text": [
      "Fitting GMM using EM algorithm (MAP estimate):\n",
      "Iter: 0\t\t\tAvg LL: 0.447587\n",
      "Iter: 1\t\t\tAvg LL: 0.928075\n"
     ]
    },
    {
     "name": "stdout",
     "output_type": "stream",
     "text": [
      "1\n"
     ]
    },
    {
     "name": "stderr",
     "output_type": "stream",
     "text": [
      "Fitting GMM using EM algorithm (MAP estimate):\n",
      "Iter: 0\t\t\tAvg LL: 0.041236\n",
      "Iter: 1\t\t\tAvg LL: 0.761621\n"
     ]
    },
    {
     "name": "stdout",
     "output_type": "stream",
     "text": [
      "2\n"
     ]
    },
    {
     "name": "stderr",
     "output_type": "stream",
     "text": [
      "Fitting GMM using EM algorithm (MAP estimate):\n",
      "Iter: 0\t\t\tAvg LL: 0.592285\n"
     ]
    },
    {
     "name": "stdout",
     "output_type": "stream",
     "text": [
      "3\n"
     ]
    },
    {
     "name": "stderr",
     "output_type": "stream",
     "text": [
      "Fitting GMM using EM algorithm (MAP estimate):\n",
      "Iter: 0\t\t\tAvg LL: 0.591695\n",
      "Iter: 1\t\t\tAvg LL: 0.861284\n"
     ]
    },
    {
     "name": "stdout",
     "output_type": "stream",
     "text": [
      "4\n"
     ]
    },
    {
     "name": "stderr",
     "output_type": "stream",
     "text": [
      "Fitting GMM using EM algorithm (MAP estimate):\n",
      "Iter: 0\t\t\tAvg LL: 0.596328\n"
     ]
    },
    {
     "name": "stdout",
     "output_type": "stream",
     "text": [
      "5\n"
     ]
    },
    {
     "name": "stderr",
     "output_type": "stream",
     "text": [
      "Fitting GMM using EM algorithm (MAP estimate):\n",
      "Iter: 0\t\t\tAvg LL: 0.121110\n",
      "Iter: 1\t\t\tAvg LL: 0.444818\n"
     ]
    },
    {
     "name": "stdout",
     "output_type": "stream",
     "text": [
      "6\n"
     ]
    },
    {
     "name": "stderr",
     "output_type": "stream",
     "text": [
      "Fitting GMM using EM algorithm (MAP estimate):\n",
      "Iter: 0\t\t\tAvg LL: 0.368694\n",
      "Iter: 1\t\t\tAvg LL: 0.701669\n"
     ]
    },
    {
     "name": "stdout",
     "output_type": "stream",
     "text": [
      "7\n"
     ]
    },
    {
     "name": "stderr",
     "output_type": "stream",
     "text": [
      "Fitting GMM using EM algorithm (MAP estimate):\n",
      "Iter: 0\t\t\tAvg LL: 0.729015\n"
     ]
    },
    {
     "name": "stdout",
     "output_type": "stream",
     "text": [
      "8\n"
     ]
    },
    {
     "name": "stderr",
     "output_type": "stream",
     "text": [
      "Fitting GMM using EM algorithm (MAP estimate):\n",
      "Iter: 0\t\t\tAvg LL: 0.908537\n",
      "Iter: 1\t\t\tAvg LL: 0.978877\n"
     ]
    },
    {
     "name": "stdout",
     "output_type": "stream",
     "text": [
      "9\n"
     ]
    },
    {
     "name": "stderr",
     "output_type": "stream",
     "text": [
      "Fitting GMM using EM algorithm (MAP estimate):\n",
      "Iter: 0\t\t\tAvg LL: 0.293016\n"
     ]
    },
    {
     "name": "stdout",
     "output_type": "stream",
     "text": [
      "30\n",
      "0\n"
     ]
    },
    {
     "name": "stderr",
     "output_type": "stream",
     "text": [
      "Fitting GMM using EM algorithm (MAP estimate):\n",
      "Iter: 0\t\t\tAvg LL: 0.440813\n"
     ]
    },
    {
     "name": "stdout",
     "output_type": "stream",
     "text": [
      "1\n"
     ]
    },
    {
     "name": "stderr",
     "output_type": "stream",
     "text": [
      "Fitting GMM using EM algorithm (MAP estimate):\n",
      "Iter: 0\t\t\tAvg LL: 0.354180\n"
     ]
    },
    {
     "name": "stdout",
     "output_type": "stream",
     "text": [
      "2\n"
     ]
    },
    {
     "name": "stderr",
     "output_type": "stream",
     "text": [
      "Fitting GMM using EM algorithm (MAP estimate):\n",
      "Iter: 0\t\t\tAvg LL: 0.582643\n",
      "Iter: 1\t\t\tAvg LL: 0.624629\n"
     ]
    },
    {
     "name": "stdout",
     "output_type": "stream",
     "text": [
      "3\n"
     ]
    },
    {
     "name": "stderr",
     "output_type": "stream",
     "text": [
      "Fitting GMM using EM algorithm (MAP estimate):\n",
      "Iter: 0\t\t\tAvg LL: 0.535040\n"
     ]
    },
    {
     "name": "stdout",
     "output_type": "stream",
     "text": [
      "4\n"
     ]
    },
    {
     "name": "stderr",
     "output_type": "stream",
     "text": [
      "Fitting GMM using EM algorithm (MAP estimate):\n",
      "Iter: 0\t\t\tAvg LL: 0.631530\n"
     ]
    },
    {
     "name": "stdout",
     "output_type": "stream",
     "text": [
      "5\n"
     ]
    },
    {
     "name": "stderr",
     "output_type": "stream",
     "text": [
      "Fitting GMM using EM algorithm (MAP estimate):\n",
      "Iter: 0\t\t\tAvg LL: 0.260955\n"
     ]
    },
    {
     "name": "stdout",
     "output_type": "stream",
     "text": [
      "6\n"
     ]
    },
    {
     "name": "stderr",
     "output_type": "stream",
     "text": [
      "Fitting GMM using EM algorithm (MAP estimate):\n",
      "Iter: 0\t\t\tAvg LL: 0.353418\n"
     ]
    },
    {
     "name": "stdout",
     "output_type": "stream",
     "text": [
      "7\n"
     ]
    },
    {
     "name": "stderr",
     "output_type": "stream",
     "text": [
      "Fitting GMM using EM algorithm (MAP estimate):\n",
      "Iter: 0\t\t\tAvg LL: 0.283096\n",
      "Iter: 1\t\t\tAvg LL: 0.287365\n"
     ]
    },
    {
     "name": "stdout",
     "output_type": "stream",
     "text": [
      "8\n"
     ]
    },
    {
     "name": "stderr",
     "output_type": "stream",
     "text": [
      "Fitting GMM using EM algorithm (MAP estimate):\n",
      "Iter: 0\t\t\tAvg LL: 0.526628\n"
     ]
    },
    {
     "name": "stdout",
     "output_type": "stream",
     "text": [
      "9\n"
     ]
    },
    {
     "name": "stderr",
     "output_type": "stream",
     "text": [
      "Fitting GMM using EM algorithm (MAP estimate):\n",
      "Iter: 0\t\t\tAvg LL: 0.282765\n",
      "Iter: 1\t\t\tAvg LL: 0.919132\n"
     ]
    },
    {
     "name": "stdout",
     "output_type": "stream",
     "text": [
      "40\n",
      "0\n"
     ]
    },
    {
     "name": "stderr",
     "output_type": "stream",
     "text": [
      "Fitting GMM using EM algorithm (MAP estimate):\n",
      "Iter: 0\t\t\tAvg LL: 0.358548\n"
     ]
    },
    {
     "name": "stdout",
     "output_type": "stream",
     "text": [
      "1\n"
     ]
    },
    {
     "name": "stderr",
     "output_type": "stream",
     "text": [
      "Fitting GMM using EM algorithm (MAP estimate):\n",
      "Iter: 0\t\t\tAvg LL: 0.549263\n"
     ]
    },
    {
     "name": "stdout",
     "output_type": "stream",
     "text": [
      "2\n"
     ]
    },
    {
     "name": "stderr",
     "output_type": "stream",
     "text": [
      "Fitting GMM using EM algorithm (MAP estimate):\n",
      "Iter: 0\t\t\tAvg LL: 0.629937\n"
     ]
    },
    {
     "name": "stdout",
     "output_type": "stream",
     "text": [
      "3\n"
     ]
    },
    {
     "name": "stderr",
     "output_type": "stream",
     "text": [
      "Fitting GMM using EM algorithm (MAP estimate):\n",
      "Iter: 0\t\t\tAvg LL: 0.505998\n",
      "Iter: 1\t\t\tAvg LL: 0.558971\n",
      "Iter: 2\t\t\tAvg LL: 0.701012\n"
     ]
    },
    {
     "name": "stdout",
     "output_type": "stream",
     "text": [
      "4\n"
     ]
    },
    {
     "name": "stderr",
     "output_type": "stream",
     "text": [
      "Fitting GMM using EM algorithm (MAP estimate):\n",
      "Iter: 0\t\t\tAvg LL: 0.589359\n",
      "Iter: 1\t\t\tAvg LL: 0.670721\n"
     ]
    },
    {
     "name": "stdout",
     "output_type": "stream",
     "text": [
      "5\n"
     ]
    },
    {
     "name": "stderr",
     "output_type": "stream",
     "text": [
      "Fitting GMM using EM algorithm (MAP estimate):\n",
      "Iter: 0\t\t\tAvg LL: 0.489585\n",
      "Iter: 1\t\t\tAvg LL: 0.540763\n"
     ]
    },
    {
     "name": "stdout",
     "output_type": "stream",
     "text": [
      "6\n"
     ]
    },
    {
     "name": "stderr",
     "output_type": "stream",
     "text": [
      "Fitting GMM using EM algorithm (MAP estimate):\n",
      "Iter: 0\t\t\tAvg LL: 0.370016\n",
      "Iter: 1\t\t\tAvg LL: 0.562621\n"
     ]
    },
    {
     "name": "stdout",
     "output_type": "stream",
     "text": [
      "7\n"
     ]
    },
    {
     "name": "stderr",
     "output_type": "stream",
     "text": [
      "Fitting GMM using EM algorithm (MAP estimate):\n",
      "Iter: 0\t\t\tAvg LL: 0.277670\n",
      "Iter: 1\t\t\tAvg LL: 0.496673\n"
     ]
    },
    {
     "name": "stdout",
     "output_type": "stream",
     "text": [
      "8\n"
     ]
    },
    {
     "name": "stderr",
     "output_type": "stream",
     "text": [
      "Fitting GMM using EM algorithm (MAP estimate):\n",
      "Iter: 0\t\t\tAvg LL: 0.147117\n",
      "Iter: 1\t\t\tAvg LL: 0.408209\n",
      "Iter: 2\t\t\tAvg LL: 0.483171\n",
      "Iter: 3\t\t\tAvg LL: 0.515664\n"
     ]
    },
    {
     "name": "stdout",
     "output_type": "stream",
     "text": [
      "9\n"
     ]
    },
    {
     "name": "stderr",
     "output_type": "stream",
     "text": [
      "Fitting GMM using EM algorithm (MAP estimate):\n",
      "Iter: 0\t\t\tAvg LL: -0.016370\n",
      "Iter: 1\t\t\tAvg LL: 0.521889\n"
     ]
    },
    {
     "name": "stdout",
     "output_type": "stream",
     "text": [
      "50\n",
      "0\n"
     ]
    },
    {
     "name": "stderr",
     "output_type": "stream",
     "text": [
      "Fitting GMM using EM algorithm (MAP estimate):\n",
      "Iter: 0\t\t\tAvg LL: 0.220699\n"
     ]
    },
    {
     "name": "stdout",
     "output_type": "stream",
     "text": [
      "1\n"
     ]
    },
    {
     "name": "stderr",
     "output_type": "stream",
     "text": [
      "Fitting GMM using EM algorithm (MAP estimate):\n",
      "Iter: 0\t\t\tAvg LL: 0.410839\n",
      "Iter: 1\t\t\tAvg LL: 0.516732\n"
     ]
    },
    {
     "name": "stdout",
     "output_type": "stream",
     "text": [
      "2\n"
     ]
    },
    {
     "name": "stderr",
     "output_type": "stream",
     "text": [
      "Fitting GMM using EM algorithm (MAP estimate):\n",
      "Iter: 0\t\t\tAvg LL: 0.556607\n",
      "Iter: 1\t\t\tAvg LL: 0.604066\n"
     ]
    },
    {
     "name": "stdout",
     "output_type": "stream",
     "text": [
      "3\n"
     ]
    },
    {
     "name": "stderr",
     "output_type": "stream",
     "text": [
      "Fitting GMM using EM algorithm (MAP estimate):\n",
      "Iter: 0\t\t\tAvg LL: 0.044816\n",
      "Iter: 1\t\t\tAvg LL: 0.601350\n"
     ]
    },
    {
     "name": "stdout",
     "output_type": "stream",
     "text": [
      "4\n"
     ]
    },
    {
     "name": "stderr",
     "output_type": "stream",
     "text": [
      "Fitting GMM using EM algorithm (MAP estimate):\n",
      "Iter: 0\t\t\tAvg LL: 0.467744\n"
     ]
    },
    {
     "name": "stdout",
     "output_type": "stream",
     "text": [
      "5\n"
     ]
    },
    {
     "name": "stderr",
     "output_type": "stream",
     "text": [
      "Fitting GMM using EM algorithm (MAP estimate):\n",
      "Iter: 0\t\t\tAvg LL: 0.464621\n"
     ]
    },
    {
     "name": "stdout",
     "output_type": "stream",
     "text": [
      "6\n"
     ]
    },
    {
     "name": "stderr",
     "output_type": "stream",
     "text": [
      "Fitting GMM using EM algorithm (MAP estimate):\n",
      "Iter: 0\t\t\tAvg LL: 0.133136\n",
      "Iter: 1\t\t\tAvg LL: 0.697246\n"
     ]
    },
    {
     "name": "stdout",
     "output_type": "stream",
     "text": [
      "7\n"
     ]
    },
    {
     "name": "stderr",
     "output_type": "stream",
     "text": [
      "Fitting GMM using EM algorithm (MAP estimate):\n",
      "Iter: 0\t\t\tAvg LL: 0.479619\n"
     ]
    },
    {
     "name": "stdout",
     "output_type": "stream",
     "text": [
      "8\n"
     ]
    },
    {
     "name": "stderr",
     "output_type": "stream",
     "text": [
      "Fitting GMM using EM algorithm (MAP estimate):\n",
      "Iter: 0\t\t\tAvg LL: 0.255441\n",
      "Iter: 1\t\t\tAvg LL: 0.378502\n"
     ]
    },
    {
     "name": "stdout",
     "output_type": "stream",
     "text": [
      "9\n"
     ]
    },
    {
     "name": "stderr",
     "output_type": "stream",
     "text": [
      "Fitting GMM using EM algorithm (MAP estimate):\n",
      "Iter: 0\t\t\tAvg LL: 0.325197\n",
      "Iter: 1\t\t\tAvg LL: 0.455561\n"
     ]
    },
    {
     "name": "stdout",
     "output_type": "stream",
     "text": [
      "10\n",
      "0\n"
     ]
    },
    {
     "name": "stderr",
     "output_type": "stream",
     "text": [
      "Fitting GMM using EM algorithm (MAP estimate):\n"
     ]
    },
    {
     "name": "stdout",
     "output_type": "stream",
     "text": [
      "1\n"
     ]
    },
    {
     "name": "stderr",
     "output_type": "stream",
     "text": [
      "Fitting GMM using EM algorithm (MAP estimate):\n",
      "Iter: 0\t\t\tAvg LL: 0.732217\n"
     ]
    },
    {
     "name": "stdout",
     "output_type": "stream",
     "text": [
      "2\n"
     ]
    },
    {
     "name": "stderr",
     "output_type": "stream",
     "text": [
      "Fitting GMM using EM algorithm (MAP estimate):\n",
      "Iter: 0\t\t\tAvg LL: 0.329983\n"
     ]
    },
    {
     "name": "stdout",
     "output_type": "stream",
     "text": [
      "3\n"
     ]
    },
    {
     "name": "stderr",
     "output_type": "stream",
     "text": [
      "Fitting GMM using EM algorithm (MAP estimate):\n",
      "Iter: 0\t\t\tAvg LL: 0.246549\n"
     ]
    },
    {
     "name": "stdout",
     "output_type": "stream",
     "text": [
      "4\n"
     ]
    },
    {
     "name": "stderr",
     "output_type": "stream",
     "text": [
      "Fitting GMM using EM algorithm (MAP estimate):\n",
      "Iter: 0\t\t\tAvg LL: 0.743390\n"
     ]
    },
    {
     "name": "stdout",
     "output_type": "stream",
     "text": [
      "5\n"
     ]
    },
    {
     "name": "stderr",
     "output_type": "stream",
     "text": [
      "Fitting GMM using EM algorithm (MAP estimate):\n",
      "Iter: 0\t\t\tAvg LL: 0.345625\n"
     ]
    },
    {
     "name": "stdout",
     "output_type": "stream",
     "text": [
      "6\n"
     ]
    },
    {
     "name": "stderr",
     "output_type": "stream",
     "text": [
      "Fitting GMM using EM algorithm (MAP estimate):\n",
      "Iter: 0\t\t\tAvg LL: 0.542620\n",
      "Iter: 1\t\t\tAvg LL: 0.723660\n"
     ]
    },
    {
     "name": "stdout",
     "output_type": "stream",
     "text": [
      "7\n"
     ]
    },
    {
     "name": "stderr",
     "output_type": "stream",
     "text": [
      "Fitting GMM using EM algorithm (MAP estimate):\n",
      "Iter: 0\t\t\tAvg LL: 0.302004\n"
     ]
    },
    {
     "name": "stdout",
     "output_type": "stream",
     "text": [
      "8\n"
     ]
    },
    {
     "name": "stderr",
     "output_type": "stream",
     "text": [
      "Fitting GMM using EM algorithm (MAP estimate):\n",
      "Iter: 0\t\t\tAvg LL: 0.664995\n",
      "Iter: 1\t\t\tAvg LL: 0.919357\n"
     ]
    },
    {
     "name": "stdout",
     "output_type": "stream",
     "text": [
      "9\n"
     ]
    },
    {
     "name": "stderr",
     "output_type": "stream",
     "text": [
      "Fitting GMM using EM algorithm (MAP estimate):\n",
      "Iter: 0\t\t\tAvg LL: 0.706635\n"
     ]
    },
    {
     "name": "stdout",
     "output_type": "stream",
     "text": [
      "20\n",
      "0\n"
     ]
    },
    {
     "name": "stderr",
     "output_type": "stream",
     "text": [
      "Fitting GMM using EM algorithm (MAP estimate):\n"
     ]
    },
    {
     "name": "stdout",
     "output_type": "stream",
     "text": [
      "1\n"
     ]
    },
    {
     "name": "stderr",
     "output_type": "stream",
     "text": [
      "Fitting GMM using EM algorithm (MAP estimate):\n",
      "Iter: 0\t\t\tAvg LL: 0.692843\n"
     ]
    },
    {
     "name": "stdout",
     "output_type": "stream",
     "text": [
      "2\n"
     ]
    },
    {
     "name": "stderr",
     "output_type": "stream",
     "text": [
      "Fitting GMM using EM algorithm (MAP estimate):\n",
      "Iter: 0\t\t\tAvg LL: 0.910882\n",
      "Iter: 1\t\t\tAvg LL: 1.032534\n",
      "Iter: 2\t\t\tAvg LL: 1.052075\n"
     ]
    },
    {
     "name": "stdout",
     "output_type": "stream",
     "text": [
      "3\n"
     ]
    },
    {
     "name": "stderr",
     "output_type": "stream",
     "text": [
      "Fitting GMM using EM algorithm (MAP estimate):\n",
      "Iter: 0\t\t\tAvg LL: 1.005737\n",
      "Iter: 1\t\t\tAvg LL: 1.212870\n"
     ]
    },
    {
     "name": "stdout",
     "output_type": "stream",
     "text": [
      "4\n"
     ]
    },
    {
     "name": "stderr",
     "output_type": "stream",
     "text": [
      "Fitting GMM using EM algorithm (MAP estimate):\n",
      "Iter: 0\t\t\tAvg LL: 0.473056\n",
      "Iter: 1\t\t\tAvg LL: 0.667362\n"
     ]
    },
    {
     "name": "stdout",
     "output_type": "stream",
     "text": [
      "5\n"
     ]
    },
    {
     "name": "stderr",
     "output_type": "stream",
     "text": [
      "Fitting GMM using EM algorithm (MAP estimate):\n",
      "Iter: 0\t\t\tAvg LL: 0.497306\n"
     ]
    },
    {
     "name": "stdout",
     "output_type": "stream",
     "text": [
      "6\n"
     ]
    },
    {
     "name": "stderr",
     "output_type": "stream",
     "text": [
      "Fitting GMM using EM algorithm (MAP estimate):\n",
      "Iter: 0\t\t\tAvg LL: 0.972902\n"
     ]
    },
    {
     "name": "stdout",
     "output_type": "stream",
     "text": [
      "7\n"
     ]
    },
    {
     "name": "stderr",
     "output_type": "stream",
     "text": [
      "Fitting GMM using EM algorithm (MAP estimate):\n",
      "Iter: 0\t\t\tAvg LL: 0.782280\n"
     ]
    },
    {
     "name": "stdout",
     "output_type": "stream",
     "text": [
      "8\n"
     ]
    },
    {
     "name": "stderr",
     "output_type": "stream",
     "text": [
      "Fitting GMM using EM algorithm (MAP estimate):\n",
      "Iter: 0\t\t\tAvg LL: 0.866079\n",
      "Iter: 1\t\t\tAvg LL: 0.982188\n"
     ]
    },
    {
     "name": "stdout",
     "output_type": "stream",
     "text": [
      "9\n"
     ]
    },
    {
     "name": "stderr",
     "output_type": "stream",
     "text": [
      "Fitting GMM using EM algorithm (MAP estimate):\n",
      "Iter: 0\t\t\tAvg LL: 0.386877\n"
     ]
    },
    {
     "name": "stdout",
     "output_type": "stream",
     "text": [
      "30\n",
      "0\n"
     ]
    },
    {
     "name": "stderr",
     "output_type": "stream",
     "text": [
      "Fitting GMM using EM algorithm (MAP estimate):\n"
     ]
    },
    {
     "name": "stdout",
     "output_type": "stream",
     "text": [
      "1\n"
     ]
    },
    {
     "name": "stderr",
     "output_type": "stream",
     "text": [
      "Fitting GMM using EM algorithm (MAP estimate):\n",
      "Iter: 0\t\t\tAvg LL: 0.831180\n"
     ]
    },
    {
     "name": "stdout",
     "output_type": "stream",
     "text": [
      "2\n"
     ]
    },
    {
     "name": "stderr",
     "output_type": "stream",
     "text": [
      "Fitting GMM using EM algorithm (MAP estimate):\n",
      "Iter: 0\t\t\tAvg LL: 0.879450\n"
     ]
    },
    {
     "name": "stdout",
     "output_type": "stream",
     "text": [
      "3\n"
     ]
    },
    {
     "name": "stderr",
     "output_type": "stream",
     "text": [
      "Fitting GMM using EM algorithm (MAP estimate):\n",
      "Iter: 0\t\t\tAvg LL: 0.454888\n",
      "Iter: 1\t\t\tAvg LL: 0.672249\n"
     ]
    },
    {
     "name": "stdout",
     "output_type": "stream",
     "text": [
      "4\n"
     ]
    },
    {
     "name": "stderr",
     "output_type": "stream",
     "text": [
      "Fitting GMM using EM algorithm (MAP estimate):\n",
      "Iter: 0\t\t\tAvg LL: 0.454099\n",
      "Iter: 1\t\t\tAvg LL: 0.614666\n"
     ]
    },
    {
     "name": "stdout",
     "output_type": "stream",
     "text": [
      "5\n"
     ]
    },
    {
     "name": "stderr",
     "output_type": "stream",
     "text": [
      "Fitting GMM using EM algorithm (MAP estimate):\n",
      "Iter: 0\t\t\tAvg LL: 0.842101\n"
     ]
    },
    {
     "name": "stdout",
     "output_type": "stream",
     "text": [
      "6\n"
     ]
    },
    {
     "name": "stderr",
     "output_type": "stream",
     "text": [
      "Fitting GMM using EM algorithm (MAP estimate):\n",
      "Iter: 0\t\t\tAvg LL: 0.647600\n"
     ]
    },
    {
     "name": "stdout",
     "output_type": "stream",
     "text": [
      "7\n"
     ]
    },
    {
     "name": "stderr",
     "output_type": "stream",
     "text": [
      "Fitting GMM using EM algorithm (MAP estimate):\n",
      "Iter: 0\t\t\tAvg LL: 1.100357\n",
      "Iter: 1\t\t\tAvg LL: 1.109323\n"
     ]
    },
    {
     "name": "stdout",
     "output_type": "stream",
     "text": [
      "8\n"
     ]
    },
    {
     "name": "stderr",
     "output_type": "stream",
     "text": [
      "Fitting GMM using EM algorithm (MAP estimate):\n",
      "Iter: 0\t\t\tAvg LL: 0.775268\n"
     ]
    },
    {
     "name": "stdout",
     "output_type": "stream",
     "text": [
      "9\n"
     ]
    },
    {
     "name": "stderr",
     "output_type": "stream",
     "text": [
      "Fitting GMM using EM algorithm (MAP estimate):\n",
      "Iter: 0\t\t\tAvg LL: 0.873524\n",
      "Iter: 1\t\t\tAvg LL: 1.001110\n"
     ]
    },
    {
     "name": "stdout",
     "output_type": "stream",
     "text": [
      "40\n",
      "0\n"
     ]
    },
    {
     "name": "stderr",
     "output_type": "stream",
     "text": [
      "Fitting GMM using EM algorithm (MAP estimate):\n"
     ]
    },
    {
     "name": "stdout",
     "output_type": "stream",
     "text": [
      "1\n"
     ]
    },
    {
     "name": "stderr",
     "output_type": "stream",
     "text": [
      "Fitting GMM using EM algorithm (MAP estimate):\n",
      "Iter: 0\t\t\tAvg LL: 0.709131\n"
     ]
    },
    {
     "name": "stdout",
     "output_type": "stream",
     "text": [
      "2\n"
     ]
    },
    {
     "name": "stderr",
     "output_type": "stream",
     "text": [
      "Fitting GMM using EM algorithm (MAP estimate):\n",
      "Iter: 0\t\t\tAvg LL: 0.542863\n",
      "Iter: 1\t\t\tAvg LL: 0.589622\n"
     ]
    },
    {
     "name": "stdout",
     "output_type": "stream",
     "text": [
      "3\n"
     ]
    },
    {
     "name": "stderr",
     "output_type": "stream",
     "text": [
      "Fitting GMM using EM algorithm (MAP estimate):\n",
      "Iter: 0\t\t\tAvg LL: 0.147917\n",
      "Iter: 1\t\t\tAvg LL: 0.162141\n",
      "Iter: 2\t\t\tAvg LL: 0.183862\n",
      "Iter: 3\t\t\tAvg LL: 0.185112\n"
     ]
    },
    {
     "name": "stdout",
     "output_type": "stream",
     "text": [
      "4\n"
     ]
    },
    {
     "name": "stderr",
     "output_type": "stream",
     "text": [
      "Fitting GMM using EM algorithm (MAP estimate):\n",
      "Iter: 0\t\t\tAvg LL: 0.572169\n"
     ]
    },
    {
     "name": "stdout",
     "output_type": "stream",
     "text": [
      "5\n"
     ]
    },
    {
     "name": "stderr",
     "output_type": "stream",
     "text": [
      "Fitting GMM using EM algorithm (MAP estimate):\n",
      "Iter: 0\t\t\tAvg LL: 0.650639\n",
      "Iter: 1\t\t\tAvg LL: 0.676212\n"
     ]
    },
    {
     "name": "stdout",
     "output_type": "stream",
     "text": [
      "6\n"
     ]
    },
    {
     "name": "stderr",
     "output_type": "stream",
     "text": [
      "Fitting GMM using EM algorithm (MAP estimate):\n",
      "Iter: 0\t\t\tAvg LL: 0.822337\n"
     ]
    },
    {
     "name": "stdout",
     "output_type": "stream",
     "text": [
      "7\n"
     ]
    },
    {
     "name": "stderr",
     "output_type": "stream",
     "text": [
      "Fitting GMM using EM algorithm (MAP estimate):\n",
      "Iter: 0\t\t\tAvg LL: 0.613584\n"
     ]
    },
    {
     "name": "stdout",
     "output_type": "stream",
     "text": [
      "8\n"
     ]
    },
    {
     "name": "stderr",
     "output_type": "stream",
     "text": [
      "Fitting GMM using EM algorithm (MAP estimate):\n",
      "Iter: 0\t\t\tAvg LL: 0.338720\n",
      "Iter: 1\t\t\tAvg LL: 0.602685\n"
     ]
    },
    {
     "name": "stdout",
     "output_type": "stream",
     "text": [
      "9\n"
     ]
    },
    {
     "name": "stderr",
     "output_type": "stream",
     "text": [
      "Fitting GMM using EM algorithm (MAP estimate):\n",
      "Iter: 0\t\t\tAvg LL: 0.741624\n"
     ]
    },
    {
     "name": "stdout",
     "output_type": "stream",
     "text": [
      "50\n",
      "0\n"
     ]
    },
    {
     "name": "stderr",
     "output_type": "stream",
     "text": [
      "Fitting GMM using EM algorithm (MAP estimate):\n"
     ]
    },
    {
     "name": "stdout",
     "output_type": "stream",
     "text": [
      "1\n"
     ]
    },
    {
     "name": "stderr",
     "output_type": "stream",
     "text": [
      "Fitting GMM using EM algorithm (MAP estimate):\n",
      "Iter: 0\t\t\tAvg LL: 0.556214\n"
     ]
    },
    {
     "name": "stdout",
     "output_type": "stream",
     "text": [
      "2\n"
     ]
    },
    {
     "name": "stderr",
     "output_type": "stream",
     "text": [
      "Fitting GMM using EM algorithm (MAP estimate):\n",
      "Iter: 0\t\t\tAvg LL: 0.584238\n",
      "Iter: 1\t\t\tAvg LL: 1.231953\n"
     ]
    },
    {
     "name": "stdout",
     "output_type": "stream",
     "text": [
      "3\n"
     ]
    },
    {
     "name": "stderr",
     "output_type": "stream",
     "text": [
      "Fitting GMM using EM algorithm (MAP estimate):\n",
      "Iter: 0\t\t\tAvg LL: 0.669375\n"
     ]
    },
    {
     "name": "stdout",
     "output_type": "stream",
     "text": [
      "4\n"
     ]
    },
    {
     "name": "stderr",
     "output_type": "stream",
     "text": [
      "Fitting GMM using EM algorithm (MAP estimate):\n",
      "Iter: 0\t\t\tAvg LL: 0.872263\n"
     ]
    },
    {
     "name": "stdout",
     "output_type": "stream",
     "text": [
      "5\n"
     ]
    },
    {
     "name": "stderr",
     "output_type": "stream",
     "text": [
      "Fitting GMM using EM algorithm (MAP estimate):\n",
      "Iter: 0\t\t\tAvg LL: 0.773134\n"
     ]
    },
    {
     "name": "stdout",
     "output_type": "stream",
     "text": [
      "6\n"
     ]
    },
    {
     "name": "stderr",
     "output_type": "stream",
     "text": [
      "Fitting GMM using EM algorithm (MAP estimate):\n",
      "Iter: 0\t\t\tAvg LL: 0.439904\n"
     ]
    },
    {
     "name": "stdout",
     "output_type": "stream",
     "text": [
      "7\n"
     ]
    },
    {
     "name": "stderr",
     "output_type": "stream",
     "text": [
      "Fitting GMM using EM algorithm (MAP estimate):\n",
      "Iter: 0\t\t\tAvg LL: 0.567864\n",
      "Iter: 1\t\t\tAvg LL: 0.657758\n"
     ]
    },
    {
     "name": "stdout",
     "output_type": "stream",
     "text": [
      "8\n"
     ]
    },
    {
     "name": "stderr",
     "output_type": "stream",
     "text": [
      "Fitting GMM using EM algorithm (MAP estimate):\n",
      "Iter: 0\t\t\tAvg LL: 0.869778\n",
      "Iter: 1\t\t\tAvg LL: 0.931520\n"
     ]
    },
    {
     "name": "stdout",
     "output_type": "stream",
     "text": [
      "9\n"
     ]
    },
    {
     "name": "stderr",
     "output_type": "stream",
     "text": [
      "Fitting GMM using EM algorithm (MAP estimate):\n",
      "Iter: 0\t\t\tAvg LL: 0.742610\n"
     ]
    }
   ],
   "source": [
    "for dataset, loader in [(\"iris\", load_iris)]:\n",
    "    X, _ = loader(return_X_y=True)\n",
    "    for mtype in [\"NMAR\", \"MAR\", \"MCAR\"]:\n",
    "        to_write = []\n",
    "        for perc in [10, 20, 30, 40, 50]:\n",
    "            print(perc)\n",
    "            rmses = []\n",
    "            for i in range(10):\n",
    "                print(i)\n",
    "                test = run_GMM_on_file(\"../data/report/%s_%s_%s_%s.csv\" % (dataset, perc, mtype, i))\n",
    "                rmses.append(np.sqrt(np.mean((test - X)**2)))\n",
    "            \n",
    "            mean_rmse = np.mean(rmses)\n",
    "            std_rmse = np.std(rmses)\n",
    "            to_write.append([perc, mean_rmse, std_rmse])\n",
    "            \n",
    "        to_write = np.array(to_write)\n",
    "        np.savetxt(X=to_write, header=\"p,m,s\", comments=\"\", delimiter=\",\",\n",
    "                   fname=\"../../MphilACS-dissertation/evaluation/gmm3depnormid_%s_%s.csv\" % (dataset, mtype), fmt=\"%.9g\")"
   ]
  },
  {
   "cell_type": "code",
   "execution_count": null,
   "metadata": {
    "collapsed": true
   },
   "outputs": [],
   "source": []
  }
 ],
 "metadata": {
  "kernelspec": {
   "display_name": "Python 3",
   "language": "python",
   "name": "python3"
  },
  "language_info": {
   "codemirror_mode": {
    "name": "ipython",
    "version": 3
   },
   "file_extension": ".py",
   "mimetype": "text/x-python",
   "name": "python",
   "nbconvert_exporter": "python",
   "pygments_lexer": "ipython3",
   "version": "3.5.2"
  }
 },
 "nbformat": 4,
 "nbformat_minor": 2
}
