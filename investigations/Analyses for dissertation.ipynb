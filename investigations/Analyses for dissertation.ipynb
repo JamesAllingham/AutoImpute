{
 "cells": [
  {
   "cell_type": "code",
   "execution_count": 1,
   "metadata": {
    "collapsed": true
   },
   "outputs": [],
   "source": [
    "import numpy as np\n",
    "import numpy.ma as ma\n",
    "import sys\n",
    "from sklearn.datasets import load_boston, load_iris\n",
    "np.random.seed(42)"
   ]
  },
  {
   "cell_type": "code",
   "execution_count": 2,
   "metadata": {},
   "outputs": [],
   "source": [
    "sys.path.append(\"../auto_impute/\")"
   ]
  },
  {
   "cell_type": "code",
   "execution_count": 3,
   "metadata": {},
   "outputs": [],
   "source": [
    "from csv_reader import CSVReader\n",
    "from dp import DP\n",
    "from sg import SingleGaussian\n",
    "from gmm import GMM\n",
    "from mi import MeanImpute"
   ]
  },
  {
   "cell_type": "markdown",
   "metadata": {},
   "source": [
    "Generate plots of MSE and LL vs % missing (MCAR) for the DP, SG, MI, and GMM on Iris and Boston Housing"
   ]
  },
  {
   "cell_type": "code",
   "execution_count": 12,
   "metadata": {},
   "outputs": [],
   "source": [
    "def run_model_on_dataset(data_loader, model_constructor, model_params={}):\n",
    "    # load dataset\n",
    "    X, _ = data_loader(return_X_y=True)\n",
    "    rmses = np.zeros(9)\n",
    "    lls = np.zeros_like(rmses)\n",
    "    \n",
    "    for i in range(1, 10):\n",
    "        # randomly remove a % of the dataset\n",
    "        mask = np.random.rand(*X.shape) <= i/10\n",
    "        masked_X = ma.masked_array(X, mask)\n",
    "        \n",
    "#         model = model_constructor(masked_X,m0 = ma.mean(masked_X, axis=0),**model_params)\n",
    "        model = model_constructor(masked_X,**model_params)\n",
    "        if hasattr(model, 'fit'):\n",
    "            model.fit(max_iters=100, ϵ=0.01)\n",
    "            \n",
    "        imputed_X = model.ml_imputation()\n",
    "        rmses[i-1] = np.sqrt(np.mean(np.power(X - imputed_X, 2)))\n",
    "        \n",
    "        ll = model.test_ll(X)\n",
    "        lls[i-1] = np.mean(ll[mask])\n",
    "        \n",
    "    return rmses, lls       "
   ]
  },
  {
   "cell_type": "code",
   "execution_count": 15,
   "metadata": {},
   "outputs": [
    {
     "name": "stderr",
     "output_type": "stream",
     "text": [
      "Fitting single gaussian using EM:\n",
      "Starting Avg LL: -0.918939\n",
      "Fitting single gaussian using EM:\n",
      "Starting Avg LL: -0.918939\n",
      "Fitting single gaussian using EM:\n",
      "Starting Avg LL: -0.918939\n",
      "Fitting single gaussian using EM:\n",
      "Starting Avg LL: -0.918939\n",
      "Fitting single gaussian using EM:\n",
      "Starting Avg LL: -0.918939\n",
      "Fitting single gaussian using EM:\n",
      "Starting Avg LL: -0.918939\n",
      "Fitting single gaussian using EM:\n",
      "Starting Avg LL: -0.918939\n",
      "Fitting single gaussian using EM:\n",
      "Starting Avg LL: -0.918939\n",
      "Fitting single gaussian using EM:\n",
      "Starting Avg LL: -0.918939\n",
      "Iter: 0\t\t\tAvg LL: -0.799613\n",
      "Iter: 1\t\t\tAvg LL: -0.732875\n",
      "Iter: 2\t\t\tAvg LL: -0.669218\n",
      "Iter: 3\t\t\tAvg LL: -0.608802\n",
      "Iter: 4\t\t\tAvg LL: -0.551744\n",
      "Iter: 5\t\t\tAvg LL: -0.498118\n",
      "Iter: 6\t\t\tAvg LL: -0.447955\n",
      "Iter: 7\t\t\tAvg LL: -0.401248\n",
      "Iter: 8\t\t\tAvg LL: -0.357955\n",
      "Iter: 9\t\t\tAvg LL: -0.318010\n",
      "Iter: 10\t\t\tAvg LL: -0.281321\n",
      "Iter: 11\t\t\tAvg LL: -0.247781\n",
      "Iter: 12\t\t\tAvg LL: -0.217264\n",
      "Iter: 13\t\t\tAvg LL: -0.189632\n",
      "Iter: 14\t\t\tAvg LL: -0.164737\n",
      "Iter: 15\t\t\tAvg LL: -0.142417\n",
      "Iter: 16\t\t\tAvg LL: -0.122505\n",
      "Iter: 17\t\t\tAvg LL: -0.104826\n",
      "Iter: 18\t\t\tAvg LL: -0.089205\n",
      "Iter: 19\t\t\tAvg LL: -0.075461\n",
      "Iter: 20\t\t\tAvg LL: -0.063422\n",
      "Iter: 21\t\t\tAvg LL: -0.052916\n"
     ]
    }
   ],
   "source": [
    "r, l = run_model_on_dataset(load_iris, SingleGaussian, {\"verbose\": True})"
   ]
  },
  {
   "cell_type": "code",
   "execution_count": 18,
   "metadata": {},
   "outputs": [
    {
     "name": "stdout",
     "output_type": "stream",
     "text": [
      "0\n",
      "1\n",
      "2\n",
      "3\n",
      "4\n",
      "5\n",
      "6\n",
      "7\n",
      "8\n",
      "9\n"
     ]
    }
   ],
   "source": [
    "# SG on iris\n",
    "# repeat the experiment 10 times to get a mean and variance\n",
    "rmses = np.zeros(shape=(10, 9))\n",
    "lls = np.zeros_like(rmses)\n",
    "\n",
    "for i in range(10):\n",
    "    print(i)\n",
    "    r, l = run_model_on_dataset(load_iris, SingleGaussian, {\"independent_vars\":True})\n",
    "    \n",
    "    rmses[i, :] = r\n",
    "    lls[i, :] = l"
   ]
  },
  {
   "cell_type": "code",
   "execution_count": 19,
   "metadata": {},
   "outputs": [
    {
     "name": "stdout",
     "output_type": "stream",
     "text": [
      "[0.33944266 0.47378417 0.58659555 0.66429128 0.75628652 0.85036415\n",
      " 0.90458599 0.96594156 1.05581621]\n",
      "[0.04477307 0.04154822 0.02546068 0.0290023  0.03420639 0.03222403\n",
      " 0.02374863 0.01348576 0.05099736]\n"
     ]
    }
   ],
   "source": [
    "print(np.mean(rmses, axis=0))\n",
    "print(np.std(rmses, axis=0))"
   ]
  },
  {
   "cell_type": "code",
   "execution_count": 20,
   "metadata": {},
   "outputs": [
    {
     "name": "stdout",
     "output_type": "stream",
     "text": [
      "[-1.26865567 -1.25435851 -1.2874415  -1.30447339 -1.44070357 -1.59017655\n",
      " -1.92969948 -2.4495219  -5.10813152]\n",
      "[0.12616627 0.07193603 0.0592975  0.06399185 0.07411055 0.12715965\n",
      " 0.27084744 0.26129236 1.33725509]\n"
     ]
    }
   ],
   "source": [
    "print(np.mean(lls, axis=0))\n",
    "print(np.std(lls, axis=0))"
   ]
  },
  {
   "cell_type": "code",
   "execution_count": 21,
   "metadata": {},
   "outputs": [],
   "source": [
    "# np.savetxt(X=np.stack([np.arange(1,10)*10, np.mean(rmses, axis=0), np.std(rmses, axis=0), np.mean(lls, axis=0), np.std(lls, axis=0)], axis=1),\n",
    "#            delimiter=\",\",header=\"x,rm,rs,lm,ls\",fname=\"msg_iris_test.csv\", fmt=\"%.7g\", comments='')"
   ]
  },
  {
   "cell_type": "code",
   "execution_count": 6,
   "metadata": {},
   "outputs": [
    {
     "name": "stdout",
     "output_type": "stream",
     "text": [
      "0\n",
      "1\n",
      "2\n",
      "3\n",
      "4\n",
      "5\n",
      "6\n",
      "7\n",
      "8\n",
      "9\n"
     ]
    }
   ],
   "source": [
    "# DP on iris\n",
    "# repeat the experiment 10 times to get a mean and variance\n",
    "rmses = np.zeros(shape=(10, 9))\n",
    "lls = np.zeros_like(rmses)\n",
    "\n",
    "for i in range(10):\n",
    "    print(i)\n",
    "    r, l = run_model_on_dataset(load_iris, DP)\n",
    "    \n",
    "    rmses[i, :] = r\n",
    "    lls[i, :] = l"
   ]
  },
  {
   "cell_type": "code",
   "execution_count": 7,
   "metadata": {},
   "outputs": [
    {
     "name": "stdout",
     "output_type": "stream",
     "text": [
      "[0.55774574 0.73373964 0.92318899 1.08093537 1.19371543 1.26009159\n",
      " 1.36411511 1.44981175 1.51227675]\n",
      "[0.07996679 0.07047086 0.05337376 0.05792573 0.03612686 0.09429135\n",
      " 0.10781913 0.12249172 0.16580825]\n",
      "[-4.01079614 -3.92478502 -4.05376544 -4.24009885 -4.21582627 -4.76353797\n",
      " -5.25689288 -6.19328716 -7.86228848]\n",
      "[0.47713732 0.15868954 0.24120106 0.32835007 0.20902054 0.20700079\n",
      " 0.39938846 0.40508566 0.47662959]\n"
     ]
    }
   ],
   "source": [
    "print(np.mean(rmses, axis=0))\n",
    "print(np.std(rmses, axis=0))\n",
    "print(np.mean(lls, axis=0))\n",
    "print(np.std(lls, axis=0))"
   ]
  },
  {
   "cell_type": "code",
   "execution_count": 8,
   "metadata": {
    "collapsed": true
   },
   "outputs": [],
   "source": [
    "# np.savetxt(X=np.stack([np.arange(1,10)*10, np.mean(rmses, axis=0), np.std(rmses, axis=0), np.mean(lls, axis=0), np.std(lls, axis=0)], axis=1),\n",
    "#            delimiter=\",\",header=\"x,rm,rs,lm,ls\",fname=\"dp_iris_test.csv\", fmt=\"%.7g\", comments='')"
   ]
  },
  {
   "cell_type": "code",
   "execution_count": 5,
   "metadata": {},
   "outputs": [
    {
     "name": "stdout",
     "output_type": "stream",
     "text": [
      "0\n",
      "1\n"
     ]
    },
    {
     "name": "stderr",
     "output_type": "stream",
     "text": [
      "../auto_impute/mi.py:46: RuntimeWarning: divide by zero encountered in log\n",
      "  lls[n, d] = np.log(stats.norm.pdf(test_data[n, d], loc=self.μ[d], scale=1e-1))\n"
     ]
    },
    {
     "name": "stdout",
     "output_type": "stream",
     "text": [
      "2\n",
      "3\n",
      "4\n",
      "5\n",
      "6\n",
      "7\n",
      "8\n",
      "9\n"
     ]
    }
   ],
   "source": [
    "# MI on iris\n",
    "# repeat the experiment 10 times to get a mean and variance\n",
    "rmses = np.zeros(shape=(10, 9))\n",
    "lls = np.zeros_like(rmses)\n",
    "\n",
    "for i in range(10):\n",
    "    print(i)\n",
    "    r, l = run_model_on_dataset(load_iris, MeanImpute)\n",
    "    \n",
    "    rmses[i, :] = r\n",
    "    lls[i, :] = l"
   ]
  },
  {
   "cell_type": "code",
   "execution_count": 6,
   "metadata": {},
   "outputs": [
    {
     "name": "stdout",
     "output_type": "stream",
     "text": [
      "[0.35322416 0.48198945 0.60061413 0.68006311 0.74858741 0.82310308\n",
      " 0.90609139 0.97588824 1.05232453]\n",
      "[0.03881226 0.04310652 0.02108531 0.03021143 0.02024974 0.0156349\n",
      " 0.0227959  0.03103227 0.03738613]\n",
      "[-58.68820131 -57.14382078 -58.01103283 -56.72235946 -54.97268174\n",
      " -54.68677115 -57.23462467 -58.30725201         -inf]\n",
      "[12.40845092  7.19065295  2.93250312  4.39693955  2.07086561  2.34304571\n",
      "  2.11388371  2.70482156         nan]\n"
     ]
    },
    {
     "name": "stderr",
     "output_type": "stream",
     "text": [
      "/usr/local/lib/python3.5/dist-packages/numpy/core/_methods.py:112: RuntimeWarning: invalid value encountered in subtract\n",
      "  x = asanyarray(arr - arrmean)\n"
     ]
    }
   ],
   "source": [
    "print(np.mean(rmses, axis=0))\n",
    "print(np.std(rmses, axis=0))\n",
    "print(np.mean(lls, axis=0))\n",
    "print(np.std(lls, axis=0))"
   ]
  },
  {
   "cell_type": "code",
   "execution_count": 7,
   "metadata": {},
   "outputs": [
    {
     "name": "stderr",
     "output_type": "stream",
     "text": [
      "/usr/local/lib/python3.5/dist-packages/numpy/core/_methods.py:112: RuntimeWarning: invalid value encountered in subtract\n",
      "  x = asanyarray(arr - arrmean)\n"
     ]
    }
   ],
   "source": [
    "# np.savetxt(X=np.stack([np.arange(1,10)*10, np.mean(rmses, axis=0), np.std(rmses, axis=0), np.mean(lls, axis=0), np.std(lls, axis=0)], axis=1),\n",
    "#            delimiter=\",\",header=\"x,rm,rs,lm,ls\",fname=\"mi_iris_test.csv\", fmt=\"%.7g\", comments='')"
   ]
  },
  {
   "cell_type": "code",
   "execution_count": 16,
   "metadata": {},
   "outputs": [
    {
     "name": "stdout",
     "output_type": "stream",
     "text": [
      "0\n",
      "1\n",
      "2\n",
      "3\n",
      "4\n",
      "5\n",
      "6\n",
      "7\n",
      "8\n",
      "9\n"
     ]
    }
   ],
   "source": [
    "# GMM on iris\n",
    "# repeat the experiment 10 times to get a mean and variance\n",
    "rmses = np.zeros(shape=(10, 9))\n",
    "lls = np.zeros_like(rmses)\n",
    "\n",
    "for i in range(10):\n",
    "    print(i)\n",
    "    r, l = run_model_on_dataset(load_iris, GMM, {\"num_components\":3})\n",
    "    \n",
    "    rmses[i, :] = r\n",
    "    lls[i, :] = l"
   ]
  },
  {
   "cell_type": "code",
   "execution_count": 17,
   "metadata": {},
   "outputs": [
    {
     "name": "stdout",
     "output_type": "stream",
     "text": [
      "[0.8247901  1.39741195 0.84539919 1.37009881 0.83022527 1.03687559\n",
      " 4.02625484 6.07836903 6.99796845]\n",
      "[0.54763152 0.48197278 0.86062669 0.49086184 0.59280844 1.57382629\n",
      " 5.92128991 7.66876541 9.64189914]\n",
      "[0.097766   0.08641216 0.12317278 0.11233042 0.13800434 0.13067409\n",
      " 0.12326236 0.10933529 0.08261871]\n",
      "[0.03985159 0.02420976 0.03553549 0.01757556 0.01640817 0.03753369\n",
      " 0.04503257 0.04727305 0.04315229]\n"
     ]
    }
   ],
   "source": [
    "print(np.mean(rmses, axis=0))\n",
    "print(np.std(rmses, axis=0))\n",
    "print(np.mean(lls, axis=0))\n",
    "print(np.std(lls, axis=0))"
   ]
  },
  {
   "cell_type": "code",
   "execution_count": 18,
   "metadata": {
    "collapsed": true
   },
   "outputs": [],
   "source": [
    "# np.savetxt(X=np.stack([np.arange(1,10)*10, np.mean(rmses, axis=0), np.std(rmses, axis=0), np.mean(lls, axis=0), np.std(lls, axis=0)], axis=1),\n",
    "#            delimiter=\",\",header=\"x,rm,rs,lm,ls\",fname=\"gmm3_iris_test.csv\", fmt=\"%.7g\", comments='')"
   ]
  },
  {
   "cell_type": "code",
   "execution_count": null,
   "metadata": {
    "collapsed": true
   },
   "outputs": [],
   "source": []
  }
 ],
 "metadata": {
  "kernelspec": {
   "display_name": "Python 3",
   "language": "python",
   "name": "python3"
  },
  "language_info": {
   "codemirror_mode": {
    "name": "ipython",
    "version": 3
   },
   "file_extension": ".py",
   "mimetype": "text/x-python",
   "name": "python",
   "nbconvert_exporter": "python",
   "pygments_lexer": "ipython3",
   "version": "3.5.2"
  }
 },
 "nbformat": 4,
 "nbformat_minor": 2
}
